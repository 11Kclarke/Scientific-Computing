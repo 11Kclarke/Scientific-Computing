{
 "cells": [
  {
   "cell_type": "code",
   "execution_count": 3,
   "metadata": {},
   "outputs": [
    {
     "data": {
      "text/plain": [
       "type"
      ]
     },
     "execution_count": 3,
     "metadata": {},
     "output_type": "execute_result"
    }
   ],
   "source": [
    "type(type(type(\"lol\")))"
   ]
  },
  {
   "cell_type": "code",
   "execution_count": 21,
   "metadata": {},
   "outputs": [
    {
     "data": {
      "text/plain": [
       "[2, -1]"
      ]
     },
     "execution_count": 21,
     "metadata": {},
     "output_type": "execute_result"
    }
   ],
   "source": [
    "from sympy import lambdify, Matrix\n",
    "from sympy.abc import x, c,u\n",
    "import numpy\n",
    "array2mat = [{'ImmutableDenseMatrix': numpy.matrix}, 'numpy']\n",
    "f = lambdify((x, u), [u, -x])\n",
    "X = [1,2]\n",
    "f(*X)"
   ]
  },
  {
   "cell_type": "code",
   "execution_count": 16,
   "metadata": {},
   "outputs": [
    {
     "data": {
      "text/plain": [
       "array([ 2, -1])"
      ]
     },
     "execution_count": 16,
     "metadata": {},
     "output_type": "execute_result"
    }
   ],
   "source": [
    "import numpy as np\n",
    "def dX_dt(t, X):\n",
    "    X_dot = np.array([X[1], -X[0]])\n",
    "    return X_dot\n",
    "dX_dt(0,X)"
   ]
  },
  {
   "cell_type": "code",
   "execution_count": 3,
   "metadata": {},
   "outputs": [
    {
     "name": "stdout",
     "output_type": "stream",
     "text": [
      "1\n",
      "2\n",
      "3\n",
      "4\n"
     ]
    }
   ],
   "source": [
    "x=[0,1,2,3,4]\n",
    "for i in range(1,len(x)):\n",
    "    print(x[i])"
   ]
  },
  {
   "cell_type": "code",
   "execution_count": 24,
   "metadata": {},
   "outputs": [],
   "source": [
    "def fsolvenotshit(f,numsolutions,domain,params=None,checks=10):\n",
    "    \n",
    "    #domain has 2 values for each dimension of fs input\n",
    "    ranges=[]\n",
    "    for i in domain:\n",
    "        ranges.append(np.linspace(i[0],i[1],checks))\n",
    "    #list of lists of input vals\n",
    "    solutions = []\n",
    "    #print(params)\n",
    "    for i in ranges:\n",
    "        for j in i:\n",
    "            #print(j)\n",
    "            sol=fsolve(f,j)\n",
    "            if sol[0] not in solutions:\n",
    "                solutions.append(sol[0])\n",
    "            if len(solutions)==numsolutions:\n",
    "                \n",
    "                return [i for i in solutions if i]\n",
    "    print(\"did not find intended number of solutions\")\n",
    "    return [i for i in solutions if i]\n"
   ]
  },
  {
   "cell_type": "code",
   "execution_count": 13,
   "metadata": {},
   "outputs": [],
   "source": [
    "import sympy as sp"
   ]
  },
  {
   "cell_type": "code",
   "execution_count": 27,
   "metadata": {},
   "outputs": [
    {
     "data": {
      "text/plain": [
       "()"
      ]
     },
     "execution_count": 27,
     "metadata": {},
     "output_type": "execute_result"
    }
   ],
   "source": [
    "f = sp.lambdify(x, sp.sin(x))\n",
    "np.shape(f(0.5))\n",
    "#k=fsolvenotshit(f,16,[[-10,10]])\n",
    "#print(k)\n"
   ]
  },
  {
   "cell_type": "code",
   "execution_count": 29,
   "metadata": {},
   "outputs": [
    {
     "ename": "TypeError",
     "evalue": "'int' object is not subscriptable",
     "output_type": "error",
     "traceback": [
      "\u001b[1;31m---------------------------------------------------------------------------\u001b[0m",
      "\u001b[1;31mTypeError\u001b[0m                                 Traceback (most recent call last)",
      "\u001b[1;32m~\\AppData\\Local\\Temp/ipykernel_13868/4095545883.py\u001b[0m in \u001b[0;36m<module>\u001b[1;34m\u001b[0m\n\u001b[0;32m     11\u001b[0m \u001b[1;32mfor\u001b[0m \u001b[0mi\u001b[0m \u001b[1;32min\u001b[0m \u001b[0mcvals\u001b[0m\u001b[1;33m:\u001b[0m\u001b[1;33m\u001b[0m\u001b[1;33m\u001b[0m\u001b[0m\n\u001b[0;32m     12\u001b[0m     \u001b[0mf\u001b[0m \u001b[1;33m=\u001b[0m \u001b[0mlambdify\u001b[0m\u001b[1;33m(\u001b[0m\u001b[0mx\u001b[0m\u001b[1;33m,\u001b[0m \u001b[0mx\u001b[0m\u001b[1;33m**\u001b[0m\u001b[1;36m3\u001b[0m\u001b[1;33m-\u001b[0m\u001b[0mx\u001b[0m\u001b[1;33m+\u001b[0m\u001b[0mi\u001b[0m\u001b[1;33m)\u001b[0m\u001b[1;33m\u001b[0m\u001b[1;33m\u001b[0m\u001b[0m\n\u001b[1;32m---> 13\u001b[1;33m     \u001b[0msol\u001b[0m\u001b[1;33m[\u001b[0m\u001b[0mk\u001b[0m\u001b[1;33m]\u001b[0m\u001b[1;33m=\u001b[0m\u001b[0mfsolvenotshit\u001b[0m\u001b[1;33m(\u001b[0m\u001b[0mf\u001b[0m\u001b[1;33m,\u001b[0m\u001b[1;36m10\u001b[0m\u001b[1;33m,\u001b[0m\u001b[1;33m[\u001b[0m\u001b[1;33m-\u001b[0m\u001b[1;36m10\u001b[0m\u001b[1;33m,\u001b[0m\u001b[1;36m10\u001b[0m\u001b[1;33m]\u001b[0m\u001b[1;33m)\u001b[0m\u001b[1;33m\u001b[0m\u001b[1;33m\u001b[0m\u001b[0m\n\u001b[0m\u001b[0;32m     14\u001b[0m     \u001b[1;31m#plt.plot(f(xvals))\u001b[0m\u001b[1;33m\u001b[0m\u001b[1;33m\u001b[0m\u001b[1;33m\u001b[0m\u001b[0m\n\u001b[0;32m     15\u001b[0m \u001b[1;33m\u001b[0m\u001b[0m\n",
      "\u001b[1;32m~\\AppData\\Local\\Temp/ipykernel_13868/1931142011.py\u001b[0m in \u001b[0;36mfsolvenotshit\u001b[1;34m(f, numsolutions, domain, params, checks)\u001b[0m\n\u001b[0;32m      4\u001b[0m     \u001b[0mranges\u001b[0m\u001b[1;33m=\u001b[0m\u001b[1;33m[\u001b[0m\u001b[1;33m]\u001b[0m\u001b[1;33m\u001b[0m\u001b[1;33m\u001b[0m\u001b[0m\n\u001b[0;32m      5\u001b[0m     \u001b[1;32mfor\u001b[0m \u001b[0mi\u001b[0m \u001b[1;32min\u001b[0m \u001b[0mdomain\u001b[0m\u001b[1;33m:\u001b[0m\u001b[1;33m\u001b[0m\u001b[1;33m\u001b[0m\u001b[0m\n\u001b[1;32m----> 6\u001b[1;33m         \u001b[0mranges\u001b[0m\u001b[1;33m.\u001b[0m\u001b[0mappend\u001b[0m\u001b[1;33m(\u001b[0m\u001b[0mnp\u001b[0m\u001b[1;33m.\u001b[0m\u001b[0mlinspace\u001b[0m\u001b[1;33m(\u001b[0m\u001b[0mi\u001b[0m\u001b[1;33m[\u001b[0m\u001b[1;36m0\u001b[0m\u001b[1;33m]\u001b[0m\u001b[1;33m,\u001b[0m\u001b[0mi\u001b[0m\u001b[1;33m[\u001b[0m\u001b[1;36m1\u001b[0m\u001b[1;33m]\u001b[0m\u001b[1;33m,\u001b[0m\u001b[0mchecks\u001b[0m\u001b[1;33m)\u001b[0m\u001b[1;33m)\u001b[0m\u001b[1;33m\u001b[0m\u001b[1;33m\u001b[0m\u001b[0m\n\u001b[0m\u001b[0;32m      7\u001b[0m     \u001b[1;31m#list of lists of input vals\u001b[0m\u001b[1;33m\u001b[0m\u001b[1;33m\u001b[0m\u001b[1;33m\u001b[0m\u001b[0m\n\u001b[0;32m      8\u001b[0m     \u001b[0msolutions\u001b[0m \u001b[1;33m=\u001b[0m \u001b[1;33m[\u001b[0m\u001b[1;33m]\u001b[0m\u001b[1;33m\u001b[0m\u001b[1;33m\u001b[0m\u001b[0m\n",
      "\u001b[1;31mTypeError\u001b[0m: 'int' object is not subscriptable"
     ]
    }
   ],
   "source": [
    "from sympy import lambdify, Matrix\n",
    "from sympy.abc import x, c\n",
    "from scipy.optimize import fsolve\n",
    "import matplotlib.pyplot as plt\n",
    "import numpy as np\n",
    "n=1000#number of parameter values\n",
    "xvals=np.linspace(-1,1,1000)\n",
    "cvals = np.linspace(-2,2,n)\n",
    "sol=np.zeros(n+1)\n",
    "k=1\n",
    "for i in cvals:\n",
    "    f = lambdify(x, x**3-x+i)\n",
    "    sol[k]=fsolvenotshit(f,10,[[-10,10])\n",
    "    #plt.plot(f(xvals))\n",
    "    \n",
    "plt.plot(cvals,sol[0:-1])\n"
   ]
  },
  {
   "cell_type": "code",
   "execution_count": 12,
   "metadata": {},
   "outputs": [
    {
     "data": {
      "text/plain": [
       "array([[1, 2, 0, 0, 0],\n",
       "       [3, 1, 2, 0, 0],\n",
       "       [0, 3, 1, 2, 0],\n",
       "       [0, 0, 3, 1, 2],\n",
       "       [0, 0, 0, 3, 1]])"
      ]
     },
     "execution_count": 12,
     "metadata": {},
     "output_type": "execute_result"
    }
   ],
   "source": [
    "import numpy as np\n",
    "mx=6\n",
    "d = np.diag([1]*(mx-1))\n",
    "d1 = np.diag([2]*(mx-2),k=1)\n",
    "d2 = np.diag([3]*(mx-2),k=-1)\n",
    "A=d+d1+d2\n",
    "A"
   ]
  },
  {
   "cell_type": "code",
   "execution_count": 13,
   "metadata": {},
   "outputs": [],
   "source": [
    "def TDMAsolver(a, b, c, d):\n",
    "    '''\n",
    "    TDMA solver, a b c d can be NumPy array type or Python list type.\n",
    "    refer to http://en.wikipedia.org/wiki/Tridiagonal_matrix_algorithm\n",
    "    and to http://www.cfd-online.com/Wiki/Tridiagonal_matrix_algorithm_-_TDMA_(Thomas_algorithm)\n",
    "    '''\n",
    "    nf = len(d) # number of equations\n",
    "    ac, bc, cc, dc = map(np.array, (a, b, c, d)) # copy arrays\n",
    "    for it in range(1, nf):\n",
    "        mc = ac[it-1]/bc[it-1]\n",
    "        bc[it] = bc[it] - mc*cc[it-1] \n",
    "        dc[it] = dc[it] - mc*dc[it-1]\n",
    "        \t    \n",
    "    xc = bc\n",
    "    xc[-1] = dc[-1]/bc[-1]\n",
    "\n",
    "    for il in range(nf-2, -1, -1):\n",
    "        xc[il] = (dc[il]-cc[il]*xc[il+1])/bc[il]\n",
    "\n",
    "    return xc"
   ]
  },
  {
   "cell_type": "code",
   "execution_count": 14,
   "metadata": {},
   "outputs": [
    {
     "name": "stdout",
     "output_type": "stream",
     "text": [
      "[ 0.14877589  0.75612053 -1.00188324  2.25141243]\n"
     ]
    }
   ],
   "source": [
    "A = np.array([[10,2,0,0],[3,10,4,0],[0,1,7,5],[0,0,3,4]],dtype=float)   \n",
    "\n",
    "a = np.array([3.,1,3]) \n",
    "b = np.array([10.,10.,7.,4.])\n",
    "c = np.array([2.,4.,5.])\n",
    "d = np.array([3,4,5,6.])\n",
    "\n",
    "print (TDMAsolver(a, b, c, d))"
   ]
  },
  {
   "cell_type": "code",
   "execution_count": 15,
   "metadata": {},
   "outputs": [
    {
     "name": "stdout",
     "output_type": "stream",
     "text": [
      "[[10.  2.  0.  0.]\n",
      " [ 3. 10.  4.  0.]\n",
      " [ 0.  1.  7.  5.]\n",
      " [ 0.  0.  3.  4.]]\n"
     ]
    }
   ],
   "source": [
    "print(A)"
   ]
  },
  {
   "cell_type": "code",
   "execution_count": 3,
   "metadata": {},
   "outputs": [
    {
     "name": "stderr",
     "output_type": "stream",
     "text": [
      "C:\\Users\\kiera\\anaconda3\\lib\\site-packages\\matplotlib\\animation.py:889: UserWarning: Animation was deleted without rendering anything. This is most likely not intended. To prevent deletion, assign the Animation to a variable, e.g. `anim`, that exists until you have outputted the Animation using `plt.show()` or `anim.save()`.\n",
      "  warnings.warn(\n"
     ]
    },
    {
     "data": {
      "image/png": "[encoded data removed]",
      "text/plain": [
       "<Figure size 432x288 with 2 Axes>"
      ]
     },
     "metadata": {
      "needs_background": "light"
     },
     "output_type": "display_data"
    }
   ],
   "source": [
    "import numpy as np\n",
    "import seaborn as sns\n",
    "import matplotlib.pyplot as plt\n",
    "from matplotlib import animation\n",
    "\n",
    "fig = plt.figure()\n",
    "data = np.random.rand(10, 10)\n",
    "sns.heatmap(data, vmax=.8, square=True)\n",
    "\n",
    "def init():\n",
    "      sns.heatmap(np.zeros((10, 10)), vmax=.8, square=True, cbar=False)\n",
    "\n",
    "def animate(i,data=[]):\n",
    "\n",
    "    sns.heatmap(data[i], vmax=.8, square=True, cbar=False)\n",
    "\n",
    "anim = animation.FuncAnimation(fig, animate, init_func=init, frames=20, repeat = False)\n"
   ]
  },
  {
   "cell_type": "code",
   "execution_count": 6,
   "metadata": {},
   "outputs": [
    {
     "data": {
      "text/plain": [
       "array([0., 0., 0., 0., 0., 0., 0., 0., 0., 0., 0., 0., 0., 0., 0., 0., 0.,\n",
       "       0., 0., 0., 0., 0., 0., 0., 0., 0., 0., 0., 0., 0., 0., 0., 0., 0.,\n",
       "       0., 0., 0., 0., 0., 0., 0., 0., 0., 0., 0., 0., 0., 0., 0., 0., 0.,\n",
       "       0., 0., 0., 0., 0., 0., 0., 0., 0., 0., 0., 0., 0., 0., 0., 0., 0.,\n",
       "       0., 0., 0., 0., 0., 0., 0., 0., 0., 0., 0., 0., 0., 0., 0., 0., 0.,\n",
       "       0., 0., 0., 0., 0., 0., 0., 0., 0., 0., 0., 0., 0., 0., 0.])"
      ]
     },
     "execution_count": 6,
     "metadata": {},
     "output_type": "execute_result"
    }
   ],
   "source": [
    "np.zeros((10, 10)).flatten()"
   ]
  },
  {
   "cell_type": "code",
   "execution_count": 7,
   "metadata": {},
   "outputs": [
    {
     "data": {
      "text/plain": [
       "array([[0., 0., 0., 0., 0., 0., 0., 0., 0., 0.],\n",
       "       [0., 0., 0., 0., 0., 0., 0., 0., 0., 0.],\n",
       "       [0., 0., 0., 0., 0., 0., 0., 0., 0., 0.],\n",
       "       [0., 0., 0., 0., 0., 0., 0., 0., 0., 0.],\n",
       "       [0., 0., 0., 0., 0., 0., 0., 0., 0., 0.],\n",
       "       [0., 0., 0., 0., 0., 0., 0., 0., 0., 0.],\n",
       "       [0., 0., 0., 0., 0., 0., 0., 0., 0., 0.],\n",
       "       [0., 0., 0., 0., 0., 0., 0., 0., 0., 0.],\n",
       "       [0., 0., 0., 0., 0., 0., 0., 0., 0., 0.],\n",
       "       [0., 0., 0., 0., 0., 0., 0., 0., 0., 0.]])"
      ]
     },
     "execution_count": 7,
     "metadata": {},
     "output_type": "execute_result"
    }
   ],
   "source": [
    "np.zeros((10, 10))"
   ]
  },
  {
   "cell_type": "code",
   "execution_count": 25,
   "metadata": {},
   "outputs": [
    {
     "name": "stdout",
     "output_type": "stream",
     "text": [
      "(11,)\n",
      "[[0.  0. ]\n",
      " [0.  0.5]\n",
      " [0.  1. ]\n",
      " [0.  1.5]\n",
      " [0.  2. ]\n",
      " [0.  2.5]\n",
      " [0.  3. ]\n",
      " [0.  3.5]\n",
      " [0.  4. ]\n",
      " [0.  4.5]\n",
      " [0.  5. ]]\n",
      "[[0.5 0. ]\n",
      " [0.5 0.5]\n",
      " [0.5 1. ]\n",
      " [0.5 1.5]\n",
      " [0.5 2. ]\n",
      " [0.5 2.5]\n",
      " [0.5 3. ]\n",
      " [0.5 3.5]\n",
      " [0.5 4. ]\n",
      " [0.5 4.5]\n",
      " [0.5 5. ]]\n",
      "[[1.  0. ]\n",
      " [1.  0.5]\n",
      " [1.  1. ]\n",
      " [1.  1.5]\n",
      " [1.  2. ]\n",
      " [1.  2.5]\n",
      " [1.  3. ]\n",
      " [1.  3.5]\n",
      " [1.  4. ]\n",
      " [1.  4.5]\n",
      " [1.  5. ]]\n",
      "[[1.5 0. ]\n",
      " [1.5 0.5]\n",
      " [1.5 1. ]\n",
      " [1.5 1.5]\n",
      " [1.5 2. ]\n",
      " [1.5 2.5]\n",
      " [1.5 3. ]\n",
      " [1.5 3.5]\n",
      " [1.5 4. ]\n",
      " [1.5 4.5]\n",
      " [1.5 5. ]]\n",
      "[[2.  0. ]\n",
      " [2.  0.5]\n",
      " [2.  1. ]\n",
      " [2.  1.5]\n",
      " [2.  2. ]\n",
      " [2.  2.5]\n",
      " [2.  3. ]\n",
      " [2.  3.5]\n",
      " [2.  4. ]\n",
      " [2.  4.5]\n",
      " [2.  5. ]]\n",
      "[[2.5 0. ]\n",
      " [2.5 0.5]\n",
      " [2.5 1. ]\n",
      " [2.5 1.5]\n",
      " [2.5 2. ]\n",
      " [2.5 2.5]\n",
      " [2.5 3. ]\n",
      " [2.5 3.5]\n",
      " [2.5 4. ]\n",
      " [2.5 4.5]\n",
      " [2.5 5. ]]\n",
      "[[3.  0. ]\n",
      " [3.  0.5]\n",
      " [3.  1. ]\n",
      " [3.  1.5]\n",
      " [3.  2. ]\n",
      " [3.  2.5]\n",
      " [3.  3. ]\n",
      " [3.  3.5]\n",
      " [3.  4. ]\n",
      " [3.  4.5]\n",
      " [3.  5. ]]\n",
      "[[3.5 0. ]\n",
      " [3.5 0.5]\n",
      " [3.5 1. ]\n",
      " [3.5 1.5]\n",
      " [3.5 2. ]\n",
      " [3.5 2.5]\n",
      " [3.5 3. ]\n",
      " [3.5 3.5]\n",
      " [3.5 4. ]\n",
      " [3.5 4.5]\n",
      " [3.5 5. ]]\n",
      "[[4.  0. ]\n",
      " [4.  0.5]\n",
      " [4.  1. ]\n",
      " [4.  1.5]\n",
      " [4.  2. ]\n",
      " [4.  2.5]\n",
      " [4.  3. ]\n",
      " [4.  3.5]\n",
      " [4.  4. ]\n",
      " [4.  4.5]\n",
      " [4.  5. ]]\n",
      "[[4.5 0. ]\n",
      " [4.5 0.5]\n",
      " [4.5 1. ]\n",
      " [4.5 1.5]\n",
      " [4.5 2. ]\n",
      " [4.5 2.5]\n",
      " [4.5 3. ]\n",
      " [4.5 3.5]\n",
      " [4.5 4. ]\n",
      " [4.5 4.5]\n",
      " [4.5 5. ]]\n",
      "[[5.  0. ]\n",
      " [5.  0.5]\n",
      " [5.  1. ]\n",
      " [5.  1.5]\n",
      " [5.  2. ]\n",
      " [5.  2.5]\n",
      " [5.  3. ]\n",
      " [5.  3.5]\n",
      " [5.  4. ]\n",
      " [5.  4.5]\n",
      " [5.  5. ]]\n"
     ]
    }
   ],
   "source": [
    "L=5\n",
    "xvals = np.linspace(0,L,11)\n",
    "print(xvals.shape)\n",
    "xvals=np.meshgrid(xvals,xvals)\n",
    "xvals=np.array(xvals).T\n",
    "a=[]\n",
    "for i in xvals:\n",
    "    print(i)\n",
    "  \n",
    "        \n"
   ]
  },
  {
   "cell_type": "code",
   "execution_count": 1,
   "metadata": {},
   "outputs": [],
   "source": [
    "L=1\n",
    "def u_I2d(x):\n",
    "    pi=np.pi\n",
    "    # initial temperature distribution\n",
    "    print(\"in func\")\n",
    "    print(x)\n",
    "    print(np.array([np.sin(pi*x[0]/L),np.sin(pi*x[1]/L)]))\n",
    "    return np.array([np.sin(pi*x[0]/L),np.sin(pi*x[1]/L)])"
   ]
  },
  {
   "cell_type": "code",
   "execution_count": null,
   "metadata": {},
   "outputs": [],
   "source": [
    "def applyinnitial(X,f,shape):\n",
    "    if X.shape != shape:\n",
    "        applyinnitial(X[i],f,shape)\n",
    "        "
   ]
  },
  {
   "cell_type": "code",
   "execution_count": 1,
   "metadata": {},
   "outputs": [],
   "source": [
    "import matplotlib.pyplot as plt\n",
    "import numpy as np\n",
    "L=2\n",
    "def u_I(x):\n",
    "    # initial temperature distribution\n",
    "    y = np.sin(np.pi*x/L)\n",
    "    return y"
   ]
  },
  {
   "cell_type": "code",
   "execution_count": 2,
   "metadata": {},
   "outputs": [
    {
     "data": {
      "text/plain": [
       "array([-1.        , -0.98743889, -0.95007112, -0.88883545, -0.80527026,\n",
       "       -0.70147489, -0.58005691, -0.44406661, -0.29692038, -0.14231484,\n",
       "        0.01586596,  0.17364818,  0.32706796,  0.47227107,  0.60560969,\n",
       "        0.72373404,  0.82367658,  0.90292654,  0.95949297,  0.99195481,\n",
       "        0.99949654,  0.9819287 ,  0.93969262,  0.87384938,  0.78605309,\n",
       "        0.67850941,  0.55392006,  0.41541501,  0.26647381,  0.1108382 ,\n",
       "       -0.04758192, -0.20480667, -0.35688622, -0.5       , -0.63055267,\n",
       "       -0.74526445, -0.84125353, -0.91610846, -0.9679487 , -0.99547192,\n",
       "       -0.99798668, -0.97542979, -0.92836793, -0.85798341, -0.76604444,\n",
       "       -0.65486073, -0.52722547, -0.38634513, -0.23575894, -0.07924996,\n",
       "        0.07924996,  0.23575894,  0.38634513,  0.52722547,  0.65486073,\n",
       "        0.76604444,  0.85798341,  0.92836793,  0.97542979,  0.99798668,\n",
       "        0.99547192,  0.9679487 ,  0.91610846,  0.84125353,  0.74526445,\n",
       "        0.63055267,  0.5       ,  0.35688622,  0.20480667,  0.04758192,\n",
       "       -0.1108382 , -0.26647381, -0.41541501, -0.55392006, -0.67850941,\n",
       "       -0.78605309, -0.87384938, -0.93969262, -0.9819287 , -0.99949654,\n",
       "       -0.99195481, -0.95949297, -0.90292654, -0.82367658, -0.72373404,\n",
       "       -0.60560969, -0.47227107, -0.32706796, -0.17364818, -0.01586596,\n",
       "        0.14231484,  0.29692038,  0.44406661,  0.58005691,  0.70147489,\n",
       "        0.80527026,  0.88883545,  0.95007112,  0.98743889,  1.        ])"
      ]
     },
     "execution_count": 2,
     "metadata": {},
     "output_type": "execute_result"
    }
   ],
   "source": [
    "xvals = np.linspace(-5,5,100)\n",
    "u_I(xvals)"
   ]
  },
  {
   "cell_type": "code",
   "execution_count": 34,
   "metadata": {},
   "outputs": [],
   "source": [
    "L=2\n",
    "def u_I2d(x):\n",
    "    # initial temperature distribution\n",
    "    \n",
    "    return np.array([np.sin(np.pi*x[0]/L),np.cos(np.pi*x[1]/L)])\n",
    " "
   ]
  },
  {
   "cell_type": "code",
   "execution_count": 37,
   "metadata": {},
   "outputs": [
    {
     "data": {
      "text/plain": [
       "[array([[-5.       , -4.8989899, -4.7979798, ...,  4.7979798,  4.8989899,\n",
       "          5.       ],\n",
       "        [-5.       , -4.8989899, -4.7979798, ...,  4.7979798,  4.8989899,\n",
       "          5.       ],\n",
       "        [-5.       , -4.8989899, -4.7979798, ...,  4.7979798,  4.8989899,\n",
       "          5.       ],\n",
       "        ...,\n",
       "        [-5.       , -4.8989899, -4.7979798, ...,  4.7979798,  4.8989899,\n",
       "          5.       ],\n",
       "        [-5.       , -4.8989899, -4.7979798, ...,  4.7979798,  4.8989899,\n",
       "          5.       ],\n",
       "        [-5.       , -4.8989899, -4.7979798, ...,  4.7979798,  4.8989899,\n",
       "          5.       ]]),\n",
       " array([[-5.       , -5.       , -5.       , ..., -5.       , -5.       ,\n",
       "         -5.       ],\n",
       "        [-4.8989899, -4.8989899, -4.8989899, ..., -4.8989899, -4.8989899,\n",
       "         -4.8989899],\n",
       "        [-4.7979798, -4.7979798, -4.7979798, ..., -4.7979798, -4.7979798,\n",
       "         -4.7979798],\n",
       "        ...,\n",
       "        [ 4.7979798,  4.7979798,  4.7979798, ...,  4.7979798,  4.7979798,\n",
       "          4.7979798],\n",
       "        [ 4.8989899,  4.8989899,  4.8989899, ...,  4.8989899,  4.8989899,\n",
       "          4.8989899],\n",
       "        [ 5.       ,  5.       ,  5.       , ...,  5.       ,  5.       ,\n",
       "          5.       ]])]"
      ]
     },
     "execution_count": 37,
     "metadata": {},
     "output_type": "execute_result"
    }
   ],
   "source": [
    "A=np.meshgrid(xvals, xvals)\n",
    "A"
   ]
  },
  {
   "cell_type": "code",
   "execution_count": 39,
   "metadata": {},
   "outputs": [],
   "source": [
    "def create2dgrid(min,max,steps):\n",
    "    A=[]\n",
    "    max=5\n",
    "    x=y=min=0\n",
    "    steps = 10\n",
    "    stepsize=(max-x)/steps\n",
    "    for j in range(steps):\n",
    "        for i in range(steps):\n",
    "            x+=stepsize\n",
    "            A.append((x,y))\n",
    "        x=min\n",
    "        y+=stepsize\n",
    "    return A\n"
   ]
  },
  {
   "cell_type": "code",
   "execution_count": 25,
   "metadata": {},
   "outputs": [
    {
     "name": "stdout",
     "output_type": "stream",
     "text": [
      "[(0.5, 0), (1.0, 0), (1.5, 0), (2.0, 0), (2.5, 0), (3.0, 0), (3.5, 0), (4.0, 0), (4.5, 0), (5.0, 0), (0.5, 0.5), (1.0, 0.5), (1.5, 0.5), (2.0, 0.5), (2.5, 0.5), (3.0, 0.5), (3.5, 0.5), (4.0, 0.5), (4.5, 0.5), (5.0, 0.5), (0.5, 1.0), (1.0, 1.0), (1.5, 1.0), (2.0, 1.0), (2.5, 1.0), (3.0, 1.0), (3.5, 1.0), (4.0, 1.0), (4.5, 1.0), (5.0, 1.0), (0.5, 1.5), (1.0, 1.5), (1.5, 1.5), (2.0, 1.5), (2.5, 1.5), (3.0, 1.5), (3.5, 1.5), (4.0, 1.5), (4.5, 1.5), (5.0, 1.5), (0.5, 2.0), (1.0, 2.0), (1.5, 2.0), (2.0, 2.0), (2.5, 2.0), (3.0, 2.0), (3.5, 2.0), (4.0, 2.0), (4.5, 2.0), (5.0, 2.0), (0.5, 2.5), (1.0, 2.5), (1.5, 2.5), (2.0, 2.5), (2.5, 2.5), (3.0, 2.5), (3.5, 2.5), (4.0, 2.5), (4.5, 2.5), (5.0, 2.5), (0.5, 3.0), (1.0, 3.0), (1.5, 3.0), (2.0, 3.0), (2.5, 3.0), (3.0, 3.0), (3.5, 3.0), (4.0, 3.0), (4.5, 3.0), (5.0, 3.0), (0.5, 3.5), (1.0, 3.5), (1.5, 3.5), (2.0, 3.5), (2.5, 3.5), (3.0, 3.5), (3.5, 3.5), (4.0, 3.5), (4.5, 3.5), (5.0, 3.5), (0.5, 4.0), (1.0, 4.0), (1.5, 4.0), (2.0, 4.0), (2.5, 4.0), (3.0, 4.0), (3.5, 4.0), (4.0, 4.0), (4.5, 4.0), (5.0, 4.0), (0.5, 4.5), (1.0, 4.5), (1.5, 4.5), (2.0, 4.5), (2.5, 4.5), (3.0, 4.5), (3.5, 4.5), (4.0, 4.5), (4.5, 4.5), (5.0, 4.5)]\n"
     ]
    },
    {
     "ename": "TypeError",
     "evalue": "can't multiply sequence by non-int of type 'float'",
     "output_type": "error",
     "traceback": [
      "\u001b[1;31m---------------------------------------------------------------------------\u001b[0m",
      "\u001b[1;31mTypeError\u001b[0m                                 Traceback (most recent call last)",
      "\u001b[1;32m~\\AppData\\Local\\Temp/ipykernel_9852/1494029193.py\u001b[0m in \u001b[0;36m<module>\u001b[1;34m\u001b[0m\n\u001b[1;32m----> 1\u001b[1;33m \u001b[0mu_I2d\u001b[0m\u001b[1;33m(\u001b[0m\u001b[0mA\u001b[0m\u001b[1;33m)\u001b[0m\u001b[1;33m\u001b[0m\u001b[1;33m\u001b[0m\u001b[0m\n\u001b[0m",
      "\u001b[1;32m~\\AppData\\Local\\Temp/ipykernel_9852/1770875923.py\u001b[0m in \u001b[0;36mu_I2d\u001b[1;34m(x)\u001b[0m\n\u001b[0;32m      3\u001b[0m     \u001b[1;31m# initial temperature distribution\u001b[0m\u001b[1;33m\u001b[0m\u001b[1;33m\u001b[0m\u001b[1;33m\u001b[0m\u001b[0m\n\u001b[0;32m      4\u001b[0m     \u001b[0mprint\u001b[0m\u001b[1;33m(\u001b[0m\u001b[0mx\u001b[0m\u001b[1;33m)\u001b[0m\u001b[1;33m\u001b[0m\u001b[1;33m\u001b[0m\u001b[0m\n\u001b[1;32m----> 5\u001b[1;33m     \u001b[1;32mreturn\u001b[0m \u001b[0mnp\u001b[0m\u001b[1;33m.\u001b[0m\u001b[0marray\u001b[0m\u001b[1;33m(\u001b[0m\u001b[1;33m[\u001b[0m\u001b[0mnp\u001b[0m\u001b[1;33m.\u001b[0m\u001b[0msin\u001b[0m\u001b[1;33m(\u001b[0m\u001b[0mnp\u001b[0m\u001b[1;33m.\u001b[0m\u001b[0mpi\u001b[0m\u001b[1;33m*\u001b[0m\u001b[0mx\u001b[0m\u001b[1;33m[\u001b[0m\u001b[1;36m0\u001b[0m\u001b[1;33m]\u001b[0m\u001b[1;33m/\u001b[0m\u001b[0mL\u001b[0m\u001b[1;33m)\u001b[0m\u001b[1;33m,\u001b[0m\u001b[0mnp\u001b[0m\u001b[1;33m.\u001b[0m\u001b[0mcos\u001b[0m\u001b[1;33m(\u001b[0m\u001b[0mnp\u001b[0m\u001b[1;33m.\u001b[0m\u001b[0mpi\u001b[0m\u001b[1;33m*\u001b[0m\u001b[0mx\u001b[0m\u001b[1;33m[\u001b[0m\u001b[1;36m1\u001b[0m\u001b[1;33m]\u001b[0m\u001b[1;33m/\u001b[0m\u001b[0mL\u001b[0m\u001b[1;33m)\u001b[0m\u001b[1;33m]\u001b[0m\u001b[1;33m)\u001b[0m\u001b[1;33m\u001b[0m\u001b[1;33m\u001b[0m\u001b[0m\n\u001b[0m\u001b[0;32m      6\u001b[0m \u001b[1;33m\u001b[0m\u001b[0m\n",
      "\u001b[1;31mTypeError\u001b[0m: can't multiply sequence by non-int of type 'float'"
     ]
    }
   ],
   "source": [
    "u_I2d(A)"
   ]
  },
  {
   "cell_type": "code",
   "execution_count": 33,
   "metadata": {},
   "outputs": [
    {
     "name": "stdout",
     "output_type": "stream",
     "text": [
      "(0.5, 0)\n",
      "(1.0, 0)\n",
      "(1.5, 0)\n",
      "(2.0, 0)\n",
      "(2.5, 0)\n",
      "(3.0, 0)\n",
      "(3.5, 0)\n",
      "(4.0, 0)\n",
      "(4.5, 0)\n",
      "(5.0, 0)\n",
      "(0.5, 0.5)\n",
      "(1.0, 0.5)\n",
      "(1.5, 0.5)\n",
      "(2.0, 0.5)\n",
      "(2.5, 0.5)\n",
      "(3.0, 0.5)\n",
      "(3.5, 0.5)\n",
      "(4.0, 0.5)\n",
      "(4.5, 0.5)\n",
      "(5.0, 0.5)\n",
      "(0.5, 1.0)\n",
      "(1.0, 1.0)\n",
      "(1.5, 1.0)\n",
      "(2.0, 1.0)\n",
      "(2.5, 1.0)\n",
      "(3.0, 1.0)\n",
      "(3.5, 1.0)\n",
      "(4.0, 1.0)\n",
      "(4.5, 1.0)\n",
      "(5.0, 1.0)\n",
      "(0.5, 1.5)\n",
      "(1.0, 1.5)\n",
      "(1.5, 1.5)\n",
      "(2.0, 1.5)\n",
      "(2.5, 1.5)\n",
      "(3.0, 1.5)\n",
      "(3.5, 1.5)\n",
      "(4.0, 1.5)\n",
      "(4.5, 1.5)\n",
      "(5.0, 1.5)\n",
      "(0.5, 2.0)\n",
      "(1.0, 2.0)\n",
      "(1.5, 2.0)\n",
      "(2.0, 2.0)\n",
      "(2.5, 2.0)\n",
      "(3.0, 2.0)\n",
      "(3.5, 2.0)\n",
      "(4.0, 2.0)\n",
      "(4.5, 2.0)\n",
      "(5.0, 2.0)\n",
      "(0.5, 2.5)\n",
      "(1.0, 2.5)\n",
      "(1.5, 2.5)\n",
      "(2.0, 2.5)\n",
      "(2.5, 2.5)\n",
      "(3.0, 2.5)\n",
      "(3.5, 2.5)\n",
      "(4.0, 2.5)\n",
      "(4.5, 2.5)\n",
      "(5.0, 2.5)\n",
      "(0.5, 3.0)\n",
      "(1.0, 3.0)\n",
      "(1.5, 3.0)\n",
      "(2.0, 3.0)\n",
      "(2.5, 3.0)\n",
      "(3.0, 3.0)\n",
      "(3.5, 3.0)\n",
      "(4.0, 3.0)\n",
      "(4.5, 3.0)\n",
      "(5.0, 3.0)\n",
      "(0.5, 3.5)\n",
      "(1.0, 3.5)\n",
      "(1.5, 3.5)\n",
      "(2.0, 3.5)\n",
      "(2.5, 3.5)\n",
      "(3.0, 3.5)\n",
      "(3.5, 3.5)\n",
      "(4.0, 3.5)\n",
      "(4.5, 3.5)\n",
      "(5.0, 3.5)\n",
      "(0.5, 4.0)\n",
      "(1.0, 4.0)\n",
      "(1.5, 4.0)\n",
      "(2.0, 4.0)\n",
      "(2.5, 4.0)\n",
      "(3.0, 4.0)\n",
      "(3.5, 4.0)\n",
      "(4.0, 4.0)\n",
      "(4.5, 4.0)\n",
      "(5.0, 4.0)\n",
      "(0.5, 4.5)\n",
      "(1.0, 4.5)\n",
      "(1.5, 4.5)\n",
      "(2.0, 4.5)\n",
      "(2.5, 4.5)\n",
      "(3.0, 4.5)\n",
      "(3.5, 4.5)\n",
      "(4.0, 4.5)\n",
      "(4.5, 4.5)\n",
      "(5.0, 4.5)\n"
     ]
    },
    {
     "data": {
      "text/plain": [
       "[array([0.70710678, 1.        ]),\n",
       " array([1., 1.]),\n",
       " array([0.70710678, 1.        ]),\n",
       " array([1.2246468e-16, 1.0000000e+00]),\n",
       " array([-0.70710678,  1.        ]),\n",
       " array([-1.,  1.]),\n",
       " array([-0.70710678,  1.        ]),\n",
       " array([-2.4492936e-16,  1.0000000e+00]),\n",
       " array([0.70710678, 1.        ]),\n",
       " array([1., 1.]),\n",
       " array([0.70710678, 0.70710678]),\n",
       " array([1.        , 0.70710678]),\n",
       " array([0.70710678, 0.70710678]),\n",
       " array([1.22464680e-16, 7.07106781e-01]),\n",
       " array([-0.70710678,  0.70710678]),\n",
       " array([-1.        ,  0.70710678]),\n",
       " array([-0.70710678,  0.70710678]),\n",
       " array([-2.44929360e-16,  7.07106781e-01]),\n",
       " array([0.70710678, 0.70710678]),\n",
       " array([1.        , 0.70710678]),\n",
       " array([7.07106781e-01, 6.12323400e-17]),\n",
       " array([1.000000e+00, 6.123234e-17]),\n",
       " array([7.07106781e-01, 6.12323400e-17]),\n",
       " array([1.2246468e-16, 6.1232340e-17]),\n",
       " array([-7.07106781e-01,  6.12323400e-17]),\n",
       " array([-1.000000e+00,  6.123234e-17]),\n",
       " array([-7.07106781e-01,  6.12323400e-17]),\n",
       " array([-2.4492936e-16,  6.1232340e-17]),\n",
       " array([7.07106781e-01, 6.12323400e-17]),\n",
       " array([1.000000e+00, 6.123234e-17]),\n",
       " array([ 0.70710678, -0.70710678]),\n",
       " array([ 1.        , -0.70710678]),\n",
       " array([ 0.70710678, -0.70710678]),\n",
       " array([ 1.22464680e-16, -7.07106781e-01]),\n",
       " array([-0.70710678, -0.70710678]),\n",
       " array([-1.        , -0.70710678]),\n",
       " array([-0.70710678, -0.70710678]),\n",
       " array([-2.44929360e-16, -7.07106781e-01]),\n",
       " array([ 0.70710678, -0.70710678]),\n",
       " array([ 1.        , -0.70710678]),\n",
       " array([ 0.70710678, -1.        ]),\n",
       " array([ 1., -1.]),\n",
       " array([ 0.70710678, -1.        ]),\n",
       " array([ 1.2246468e-16, -1.0000000e+00]),\n",
       " array([-0.70710678, -1.        ]),\n",
       " array([-1., -1.]),\n",
       " array([-0.70710678, -1.        ]),\n",
       " array([-2.4492936e-16, -1.0000000e+00]),\n",
       " array([ 0.70710678, -1.        ]),\n",
       " array([ 1., -1.]),\n",
       " array([ 0.70710678, -0.70710678]),\n",
       " array([ 1.        , -0.70710678]),\n",
       " array([ 0.70710678, -0.70710678]),\n",
       " array([ 1.22464680e-16, -7.07106781e-01]),\n",
       " array([-0.70710678, -0.70710678]),\n",
       " array([-1.        , -0.70710678]),\n",
       " array([-0.70710678, -0.70710678]),\n",
       " array([-2.44929360e-16, -7.07106781e-01]),\n",
       " array([ 0.70710678, -0.70710678]),\n",
       " array([ 1.        , -0.70710678]),\n",
       " array([ 7.07106781e-01, -1.83697020e-16]),\n",
       " array([ 1.0000000e+00, -1.8369702e-16]),\n",
       " array([ 7.07106781e-01, -1.83697020e-16]),\n",
       " array([ 1.2246468e-16, -1.8369702e-16]),\n",
       " array([-7.07106781e-01, -1.83697020e-16]),\n",
       " array([-1.0000000e+00, -1.8369702e-16]),\n",
       " array([-7.07106781e-01, -1.83697020e-16]),\n",
       " array([-2.4492936e-16, -1.8369702e-16]),\n",
       " array([ 7.07106781e-01, -1.83697020e-16]),\n",
       " array([ 1.0000000e+00, -1.8369702e-16]),\n",
       " array([0.70710678, 0.70710678]),\n",
       " array([1.        , 0.70710678]),\n",
       " array([0.70710678, 0.70710678]),\n",
       " array([1.22464680e-16, 7.07106781e-01]),\n",
       " array([-0.70710678,  0.70710678]),\n",
       " array([-1.        ,  0.70710678]),\n",
       " array([-0.70710678,  0.70710678]),\n",
       " array([-2.44929360e-16,  7.07106781e-01]),\n",
       " array([0.70710678, 0.70710678]),\n",
       " array([1.        , 0.70710678]),\n",
       " array([0.70710678, 1.        ]),\n",
       " array([1., 1.]),\n",
       " array([0.70710678, 1.        ]),\n",
       " array([1.2246468e-16, 1.0000000e+00]),\n",
       " array([-0.70710678,  1.        ]),\n",
       " array([-1.,  1.]),\n",
       " array([-0.70710678,  1.        ]),\n",
       " array([-2.4492936e-16,  1.0000000e+00]),\n",
       " array([0.70710678, 1.        ]),\n",
       " array([1., 1.]),\n",
       " array([0.70710678, 0.70710678]),\n",
       " array([1.        , 0.70710678]),\n",
       " array([0.70710678, 0.70710678]),\n",
       " array([1.22464680e-16, 7.07106781e-01]),\n",
       " array([-0.70710678,  0.70710678]),\n",
       " array([-1.        ,  0.70710678]),\n",
       " array([-0.70710678,  0.70710678]),\n",
       " array([-2.44929360e-16,  7.07106781e-01]),\n",
       " array([0.70710678, 0.70710678]),\n",
       " array([1.        , 0.70710678])]"
      ]
     },
     "execution_count": 33,
     "metadata": {},
     "output_type": "execute_result"
    }
   ],
   "source": [
    "I=[]\n",
    "for i in A:\n",
    "    I.append(u_I2d(i))\n",
    "I"
   ]
  },
  {
   "cell_type": "code",
   "execution_count": 44,
   "metadata": {},
   "outputs": [
    {
     "data": {
      "text/plain": [
       "array([0., 0.])"
      ]
     },
     "execution_count": 44,
     "metadata": {},
     "output_type": "execute_result"
    }
   ],
   "source": [
    "X=create2dgrid(0,1,5)\n",
    "boundary = lambda  t : (np.zeros(shape=np.shape(X[0])),np.zeros(shape=np.shape(X[0])))\n",
    "boundary(0)[0]"
   ]
  },
  {
   "cell_type": "code",
   "execution_count": 77,
   "metadata": {},
   "outputs": [
    {
     "data": {
      "text/plain": [
       "array([[ 3, -1,  0,  0,  0,  0,  0,  0,  0,  0],\n",
       "       [-1,  3, -1,  0,  0,  0,  0,  0,  0,  0],\n",
       "       [ 0, -1,  3, -1,  0,  0,  0,  0,  0,  0],\n",
       "       [ 0,  0, -1,  3, -1,  0,  0,  0,  0,  0],\n",
       "       [ 0,  0,  0, -1,  3, -1,  0,  0,  0,  0],\n",
       "       [ 0,  0,  0,  0, -1,  3, -1,  0,  0,  0],\n",
       "       [ 0,  0,  0,  0,  0, -1,  3, -1,  0,  0],\n",
       "       [ 0,  0,  0,  0,  0,  0, -1,  3, -1,  0],\n",
       "       [ 0,  0,  0,  0,  0,  0,  0, -1,  3, -1],\n",
       "       [ 0,  0,  0,  0,  0,  0,  0,  0, -1,  3]])"
      ]
     },
     "execution_count": 77,
     "metadata": {},
     "output_type": "execute_result"
    }
   ],
   "source": [
    "mx=10\n",
    "lmbda=1\n",
    "d = np.array([2*lmbda+1]*(mx))\n",
    "d1 = np.array([-lmbda]*(mx-1))\n",
    "d2 = np.array([-lmbda]*(mx-1))\n",
    "A=np.diag(d)+np.diag(d1,k=1)+np.diag(d2,k=-1)\n",
    "A.T"
   ]
  },
  {
   "cell_type": "code",
   "execution_count": 51,
   "metadata": {},
   "outputs": [
    {
     "data": {
      "text/plain": [
       "array([0., 1.])"
      ]
     },
     "execution_count": 51,
     "metadata": {},
     "output_type": "execute_result"
    }
   ],
   "source": [
    "np.linspace(0,1,2)"
   ]
  },
  {
   "cell_type": "code",
   "execution_count": 52,
   "metadata": {},
   "outputs": [],
   "source": [
    "for j in range(0):\n",
    "    print(j)"
   ]
  },
  {
   "cell_type": "code",
   "execution_count": 58,
   "metadata": {},
   "outputs": [
    {
     "data": {
      "text/plain": [
       "array([[ 3, -1,  0,  0],\n",
       "       [-1,  3, -1,  0],\n",
       "       [ 0, -1,  3, -1],\n",
       "       [ 0,  0, -1,  3]])"
      ]
     },
     "execution_count": 58,
     "metadata": {},
     "output_type": "execute_result"
    }
   ],
   "source": [
    "lmbda=1\n",
    "mx=4\n",
    "d = np.array([2*lmbda+1]*(mx))\n",
    "d1 = np.array([-lmbda]*(mx-1))\n",
    "d2 = np.array([-lmbda]*(mx-1))\n",
    "A=np.diag(d)+np.diag(d1,k=1)+np.diag(d2,k=-1)\n",
    "A"
   ]
  },
  {
   "cell_type": "code",
   "execution_count": 97,
   "metadata": {},
   "outputs": [
    {
     "name": "stdout",
     "output_type": "stream",
     "text": [
      "[[[0. 0. 5.]\n",
      "  [0. 0. 0.]\n",
      "  [0. 0. 0.]]\n",
      "\n",
      " [[0. 0. 0.]\n",
      "  [0. 5. 0.]\n",
      "  [0. 0. 0.]]\n",
      "\n",
      " [[0. 0. 0.]\n",
      "  [0. 0. 0.]\n",
      "  [5. 0. 0.]]]\n"
     ]
    },
    {
     "data": {
      "text/plain": [
       "array([[[5., 0., 0.],\n",
       "        [0., 0., 0.],\n",
       "        [0., 0., 0.]],\n",
       "\n",
       "       [[0., 0., 0.],\n",
       "        [0., 5., 0.],\n",
       "        [0., 0., 0.]],\n",
       "\n",
       "       [[0., 0., 0.],\n",
       "        [0., 0., 0.],\n",
       "        [0., 0., 5.]]])"
      ]
     },
     "execution_count": 97,
     "metadata": {},
     "output_type": "execute_result"
    }
   ],
   "source": [
    "A = np.zeros(shape=(3,3,3))\n",
    "np.fill_diagonal(A, 5)\n",
    "\n",
    "print(np.flip(A,axis=2))\n",
    "A"
   ]
  },
  {
   "cell_type": "code",
   "execution_count": 1,
   "metadata": {},
   "outputs": [
    {
     "name": "stdout",
     "output_type": "stream",
     "text": [
      "[[[1. 1. 1.]\n",
      "  [1. 1. 1.]\n",
      "  [1. 1. 1.]]\n",
      "\n",
      " [[1. 1. 1.]\n",
      "  [1. 1. 1.]\n",
      "  [1. 1. 1.]]\n",
      "\n",
      " [[1. 1. 1.]\n",
      "  [1. 1. 1.]\n",
      "  [1. 1. 1.]]]\n"
     ]
    },
    {
     "data": {
      "text/plain": [
       "array([[[1., 1., 1., 0., 0., 0., 1., 1., 1.],\n",
       "        [0., 0., 0., 2., 2., 2., 0., 0., 0.],\n",
       "        [1., 1., 1., 0., 0., 0., 1., 1., 1.]],\n",
       "\n",
       "       [[1., 1., 1., 0., 0., 0., 1., 1., 1.],\n",
       "        [0., 0., 0., 2., 2., 2., 0., 0., 0.],\n",
       "        [1., 1., 1., 0., 0., 0., 1., 1., 1.]],\n",
       "\n",
       "       [[1., 1., 1., 0., 0., 0., 1., 1., 1.],\n",
       "        [0., 0., 0., 2., 2., 2., 0., 0., 0.],\n",
       "        [1., 1., 1., 0., 0., 0., 1., 1., 1.]]])"
      ]
     },
     "execution_count": 1,
     "metadata": {},
     "output_type": "execute_result"
    }
   ],
   "source": [
    "import numpy as np\n",
    "from scipy.linalg import block_diag\n",
    "\n",
    "# Define input matrices\n",
    "\n",
    "a = np.ones((3, 3))\n",
    "b = np.ones((3, 3))\n",
    "c = np.ones((3, 3))\n",
    "\n",
    "# Generate block diagonal matrices\n",
    "\n",
    "mats = np.array([a, b, c]).reshape(3, 3,3)\n",
    "print(mats)\n",
    "result = [block_diag(*bmats) for bmats in mats]\n",
    "result=np.flip(np.array(result),axis=2)+result\n",
    "result"
   ]
  },
  {
   "cell_type": "code",
   "execution_count": 90,
   "metadata": {},
   "outputs": [
    {
     "data": {
      "text/plain": [
       "(3, 3, 9)"
      ]
     },
     "execution_count": 90,
     "metadata": {},
     "output_type": "execute_result"
    }
   ],
   "source": [
    "np.shape(result)"
   ]
  },
  {
   "cell_type": "code",
   "execution_count": 65,
   "metadata": {},
   "outputs": [
    {
     "name": "stdout",
     "output_type": "stream",
     "text": [
      "[[[3. 0. 0.]\n",
      "  [0. 0. 0.]\n",
      "  [0. 0. 0.]]\n",
      "\n",
      " [[0. 0. 0.]\n",
      "  [0. 3. 0.]\n",
      "  [0. 0. 0.]]\n",
      "\n",
      " [[0. 0. 0.]\n",
      "  [0. 0. 0.]\n",
      "  [0. 0. 3.]]]\n"
     ]
    },
    {
     "data": {
      "text/plain": [
       "array([[3., 0., 0.],\n",
       "       [0., 0., 0.],\n",
       "       [0., 0., 0.]])"
      ]
     },
     "execution_count": 65,
     "metadata": {},
     "output_type": "execute_result"
    }
   ],
   "source": [
    "mx=3\n",
    "lmbda=1\n",
    "d = np.array([2*lmbda+1]*(mx))\n",
    "d1 = np.array([-lmbda]*(mx-1))\n",
    "d2 = np.array([-lmbda]*(mx-1))\n",
    "A=np.zeros((3,3,3))\n",
    "np.fill_diagonal(A, d)\n",
    "\n",
    "\n",
    "print(A)\n",
    "A[0]"
   ]
  },
  {
   "cell_type": "code",
   "execution_count": 150,
   "metadata": {},
   "outputs": [
    {
     "data": {
      "text/plain": [
       "array([[A0, A1, A2],\n",
       "       [A3, A4, A5],\n",
       "       [A6, A7, A8]], dtype=object)"
      ]
     },
     "execution_count": 150,
     "metadata": {},
     "output_type": "execute_result"
    }
   ],
   "source": [
    "from sympy.abc import a,b,c,d,e,f,g,h,i,j,k,l,m,n,o,p,q,r,s,t,u,v\n",
    "mx=3\n",
    "vals = np.linspace(0,mx,mx)\n",
    "coords = []\n",
    "letters = [a,b,c,d,e,f,g,h,i,j,k,l,m,n,o,p,q,r,s,t,u,v]\n",
    "letters=[]\n",
    "for i in range(1000):\n",
    "    letters.append(sp.symbols(\"A\"+str(i)))\n",
    "count=0\n",
    "dic = dict()\n",
    "for i in vals:\n",
    "    row=[]\n",
    "    for j in vals:\n",
    "        row.append(letters[count])\n",
    "        dic[letters[count]]=(i,j)\n",
    "        count+=1\n",
    "\n",
    "    coords.append(row)\n",
    "\n",
    "#res=np.matmul(coords,A)\n",
    "#res\n",
    "\n",
    "coords=np.array(coords)\n",
    "#np.matmul(A,coords)\n",
    "#np.dot(A,coords)\n",
    "coords"
   ]
  },
  {
   "cell_type": "code",
   "execution_count": 151,
   "metadata": {},
   "outputs": [
    {
     "data": {
      "text/plain": [
       "array([[[B0, B1, B2],\n",
       "        [B3, B4, B5],\n",
       "        [B6, B7, B8]],\n",
       "\n",
       "       [[B9, B10, B11],\n",
       "        [B12, B13, B14],\n",
       "        [B15, B16, B17]],\n",
       "\n",
       "       [[B18, B19, B20],\n",
       "        [B21, B22, B23],\n",
       "        [B24, B25, B26]]], dtype=object)"
      ]
     },
     "execution_count": 151,
     "metadata": {},
     "output_type": "execute_result"
    }
   ],
   "source": [
    "letters=[]\n",
    "for i in range(1000):\n",
    "    letters.append(sp.symbols(\"B\"+str(i)))\n",
    "A=np.reshape(letters[:mx**3],(mx,mx,mx))\n",
    "A"
   ]
  },
  {
   "cell_type": "code",
   "execution_count": 162,
   "metadata": {},
   "outputs": [
    {
     "name": "stdout",
     "output_type": "stream",
     "text": [
      "(3, 3)\n"
     ]
    },
    {
     "data": {
      "text/plain": [
       "array([[2*A0*B0 + 2*A0*B18 + 2*A0*B9 + A1*B12 + A1*B21 + A1*B3 + A2*B15 + A2*B24 + A2*B6 + A3*B12 + A3*B21 + A3*B3 + A6*B15 + A6*B24 + A6*B6,\n",
       "        2*A0*B1 + 2*A0*B10 + 2*A0*B19 + A1*B13 + A1*B22 + A1*B4 + A2*B16 + A2*B25 + A2*B7 + A3*B13 + A3*B22 + A3*B4 + A6*B16 + A6*B25 + A6*B7,\n",
       "        2*A0*B11 + 2*A0*B2 + 2*A0*B20 + A1*B14 + A1*B23 + A1*B5 + A2*B17 + A2*B26 + A2*B8 + A3*B14 + A3*B23 + A3*B5 + A6*B17 + A6*B26 + A6*B8],\n",
       "       [A1*B0 + A1*B18 + A1*B9 + A3*B0 + A3*B18 + A3*B9 + 2*A4*B12 + 2*A4*B21 + 2*A4*B3 + A5*B15 + A5*B24 + A5*B6 + A7*B15 + A7*B24 + A7*B6,\n",
       "        A1*B1 + A1*B10 + A1*B19 + A3*B1 + A3*B10 + A3*B19 + 2*A4*B13 + 2*A4*B22 + 2*A4*B4 + A5*B16 + A5*B25 + A5*B7 + A7*B16 + A7*B25 + A7*B7,\n",
       "        A1*B11 + A1*B2 + A1*B20 + A3*B11 + A3*B2 + A3*B20 + 2*A4*B14 + 2*A4*B23 + 2*A4*B5 + A5*B17 + A5*B26 + A5*B8 + A7*B17 + A7*B26 + A7*B8],\n",
       "       [A2*B0 + A2*B18 + A2*B9 + A5*B12 + A5*B21 + A5*B3 + A6*B0 + A6*B18 + A6*B9 + A7*B12 + A7*B21 + A7*B3 + 2*A8*B15 + 2*A8*B24 + 2*A8*B6,\n",
       "        A2*B1 + A2*B10 + A2*B19 + A5*B13 + A5*B22 + A5*B4 + A6*B1 + A6*B10 + A6*B19 + A7*B13 + A7*B22 + A7*B4 + 2*A8*B16 + 2*A8*B25 + 2*A8*B7,\n",
       "        A2*B11 + A2*B2 + A2*B20 + A5*B14 + A5*B23 + A5*B5 + A6*B11 + A6*B2 + A6*B20 + A7*B14 + A7*B23 + A7*B5 + 2*A8*B17 + 2*A8*B26 + 2*A8*B8]],\n",
       "      dtype=object)"
      ]
     },
     "execution_count": 162,
     "metadata": {},
     "output_type": "execute_result"
    }
   ],
   "source": [
    "dot=np.matmul(coords,A)\n",
    "res=dot[0]\n",
    "for i in range(1,len(dot)):\n",
    "    res+=dot[i]\n",
    "coordsT=coords.T \n",
    "dotT=np.matmul(coordsT,A)\n",
    "for i in range(0,len(dotT)):\n",
    "    res+=dotT[i]\n",
    "print(np.shape(res))\n",
    "res\n"
   ]
  },
  {
   "cell_type": "code",
   "execution_count": 167,
   "metadata": {},
   "outputs": [
    {
     "data": {
      "text/latex": [
       "$\\displaystyle 2 A_{0} B_{0} + 2 A_{0} B_{18} + 2 A_{0} B_{9} + A_{1} B_{12} + A_{1} B_{21} + A_{1} B_{3} + A_{2} B_{15} + A_{2} B_{24} + A_{2} B_{6} + A_{3} B_{12} + A_{3} B_{21} + A_{3} B_{3} + A_{6} B_{15} + A_{6} B_{24} + A_{6} B_{6}$"
      ],
      "text/plain": [
       "2*A0*B0 + 2*A0*B18 + 2*A0*B9 + A1*B12 + A1*B21 + A1*B3 + A2*B15 + A2*B24 + A2*B6 + A3*B12 + A3*B21 + A3*B3 + A6*B15 + A6*B24 + A6*B6"
      ]
     },
     "execution_count": 167,
     "metadata": {},
     "output_type": "execute_result"
    }
   ],
   "source": [
    "res[0,0]"
   ]
  },
  {
   "cell_type": "code",
   "execution_count": null,
   "metadata": {},
   "outputs": [],
   "source": []
  },
  {
   "cell_type": "code",
   "execution_count": 166,
   "metadata": {},
   "outputs": [
    {
     "data": {
      "text/latex": [
       "$\\displaystyle A_{7}$"
      ],
      "text/plain": [
       "A7"
      ]
     },
     "execution_count": 166,
     "metadata": {},
     "output_type": "execute_result"
    }
   ],
   "source": [
    "coords[2,1]"
   ]
  },
  {
   "cell_type": "code",
   "execution_count": 164,
   "metadata": {},
   "outputs": [
    {
     "data": {
      "text/plain": [
       "array([[A0, A1, A2],\n",
       "       [A3, A4, A5],\n",
       "       [A6, A7, A8]], dtype=object)"
      ]
     },
     "execution_count": 164,
     "metadata": {},
     "output_type": "execute_result"
    }
   ],
   "source": [
    "coords"
   ]
  },
  {
   "cell_type": "code",
   "execution_count": 147,
   "metadata": {},
   "outputs": [
    {
     "data": {
      "text/plain": [
       "array([[a*e + b*g, a*f + b*h],\n",
       "       [c*e + d*g, c*f + d*h]], dtype=object)"
      ]
     },
     "execution_count": 147,
     "metadata": {},
     "output_type": "execute_result"
    }
   ],
   "source": [
    "np.matmul(coords,A[0])"
   ]
  },
  {
   "cell_type": "code",
   "execution_count": 136,
   "metadata": {},
   "outputs": [
    {
     "name": "stdout",
     "output_type": "stream",
     "text": [
      "[[[-1.  0.  0.  0.]\n",
      "  [-1. -1.  0.  0.]\n",
      "  [ 0.  0.  0.  0.]\n",
      "  [-1.  0.  0.  0.]]\n",
      "\n",
      " [[-1. -1.  0.  0.]\n",
      "  [ 0. -1.  0.  0.]\n",
      "  [ 0. -1. -1.  0.]\n",
      "  [ 0.  0.  0.  0.]]\n",
      "\n",
      " [[ 0.  0.  0.  0.]\n",
      "  [ 0. -1. -1.  0.]\n",
      "  [ 0.  0. -1.  0.]\n",
      "  [ 0.  0. -1.  0.]]\n",
      "\n",
      " [[-1.  0.  0.  0.]\n",
      "  [ 0.  0.  0.  0.]\n",
      "  [ 0.  0. -1.  0.]\n",
      "  [ 0.  0.  0. -1.]]]\n",
      "[[[-1.0*a -1.0*b -1.0*c -1.0*d]\n",
      "  [-1.0*a - 1.0*e -1.0*b - 1.0*f -1.0*c - 1.0*g -1.0*d - 1.0*h]\n",
      "  [0 0 0 0]\n",
      "  [-1.0*a -1.0*b -1.0*c -1.0*d]]\n",
      "\n",
      " [[-1.0*a - 1.0*e -1.0*b - 1.0*f -1.0*c - 1.0*g -1.0*d - 1.0*h]\n",
      "  [-1.0*e -1.0*f -1.0*g -1.0*h]\n",
      "  [-1.0*e - 1.0*i -1.0*f - 1.0*j -1.0*g - 1.0*k -1.0*h - 1.0*l]\n",
      "  [0 0 0 0]]\n",
      "\n",
      " [[0 0 0 0]\n",
      "  [-1.0*e - 1.0*i -1.0*f - 1.0*j -1.0*g - 1.0*k -1.0*h - 1.0*l]\n",
      "  [-1.0*i -1.0*j -1.0*k -1.0*l]\n",
      "  [-1.0*i -1.0*j -1.0*k -1.0*l]]\n",
      "\n",
      " [[-1.0*a -1.0*b -1.0*c -1.0*d]\n",
      "  [0 0 0 0]\n",
      "  [-1.0*i -1.0*j -1.0*k -1.0*l]\n",
      "  [-1.0*m -1.0*n -1.0*o -1.0*p]]]\n"
     ]
    },
    {
     "data": {
      "text/latex": [
       "$\\displaystyle - 1.0 c - 3.0 g - 1.0 i - 3.0 j - 2.0 k$"
      ],
      "text/plain": [
       "-1.0*c - 3.0*g - 1.0*i - 3.0*j - 2.0*k"
      ]
     },
     "execution_count": 136,
     "metadata": {},
     "output_type": "execute_result"
    }
   ],
   "source": [
    "import sympy as sp\n",
    "mx=4\n",
    "lmbda=1\n",
    "X= sp.symbols(\"x\")\n",
    "d = np.array([-2*lmbda+1]*(mx))\n",
    "d1 = np.array([lmbda]*(mx-1))\n",
    "d2 = np.array([lmbda]*(mx-1))\n",
    "A=np.zeros((mx,mx,mx))\n",
    "np.fill_diagonal(A, d)\n",
    "\n",
    "\n",
    "for a in range(mx-1):\n",
    "    A[a-1,a,a]+=-lmbda\n",
    "for a in range(mx-1):\n",
    "    A[a+1,a,a]+=-lmbda\n",
    "for a in range(mx-1):\n",
    "    A[a,a-1,a]+=-lmbda\n",
    "for a in range(mx-1):\n",
    "    A[a,a+1,a]+=-lmbda\n",
    "   \n",
    "\"\"\"for a in range(mx-1):\n",
    "    A[a,a,a-1]+=-lmbda\n",
    "for a in range(mx-1):\n",
    "    A[a,a,a+1]+=-lmbda\"\"\"\n",
    "print(A)\n",
    "dot=np.dot(A,coords)\n",
    "print(dot)\n",
    "res=dot[0]\n",
    "for i in range(1,len(dot)):\n",
    "    res+=dot[i] \n",
    "dot=np.dot(A,coords.T)\n",
    "res+=dot[0]\n",
    "for i in range(1,len(dot)):\n",
    "    res+=dot[i] \n",
    "res[1,2]"
   ]
  },
  {
   "cell_type": "code",
   "execution_count": 34,
   "metadata": {},
   "outputs": [
    {
     "data": {
      "text/plain": [
       "(3, 3, 3)"
      ]
     },
     "execution_count": 34,
     "metadata": {},
     "output_type": "execute_result"
    }
   ],
   "source": [
    "np.shape(A)"
   ]
  },
  {
   "cell_type": "code",
   "execution_count": 86,
   "metadata": {},
   "outputs": [
    {
     "data": {
      "text/plain": [
       "array([[a, b, c, d],\n",
       "       [e, f, g, h],\n",
       "       [i, j, k, l],\n",
       "       [m, n, o, p]], dtype=object)"
      ]
     },
     "execution_count": 86,
     "metadata": {},
     "output_type": "execute_result"
    }
   ],
   "source": [
    "coords"
   ]
  },
  {
   "cell_type": "code",
   "execution_count": 87,
   "metadata": {},
   "outputs": [
    {
     "data": {
      "text/plain": [
       "array([[[ 3., -1.,  0., -1.],\n",
       "        [-1., -1.,  0.,  0.],\n",
       "        [ 0.,  0.,  0.,  0.],\n",
       "        [-1.,  0.,  0.,  0.]],\n",
       "\n",
       "       [[-1., -1.,  0.,  0.],\n",
       "        [-1.,  3., -1.,  0.],\n",
       "        [ 0., -1., -1.,  0.],\n",
       "        [ 0.,  0.,  0.,  0.]],\n",
       "\n",
       "       [[ 0.,  0.,  0.,  0.],\n",
       "        [ 0., -1., -1.,  0.],\n",
       "        [ 0., -1.,  3., -1.],\n",
       "        [ 0.,  0., -1.,  0.]],\n",
       "\n",
       "       [[-1.,  0.,  0.,  0.],\n",
       "        [ 0.,  0.,  0.,  0.],\n",
       "        [ 0.,  0., -1.,  0.],\n",
       "        [ 0.,  0.,  0.,  3.]]])"
      ]
     },
     "execution_count": 87,
     "metadata": {},
     "output_type": "execute_result"
    }
   ],
   "source": [
    "A"
   ]
  },
  {
   "cell_type": "code",
   "execution_count": 56,
   "metadata": {},
   "outputs": [
    {
     "data": {
      "text/plain": [
       "array([3.0*a - 1.0*b - 1.0*c - 1.0*d - 1.0*g,\n",
       "       -1.0*b - 1.0*d + 3.0*e - 1.0*f - 1.0*h, 3.0*i], dtype=object)"
      ]
     },
     "execution_count": 56,
     "metadata": {},
     "output_type": "execute_result"
    }
   ],
   "source": [
    "np.tensordot(coords,A)"
   ]
  },
  {
   "cell_type": "code",
   "execution_count": 99,
   "metadata": {},
   "outputs": [
    {
     "data": {
      "text/plain": [
       "array([[-5.0*a - 1.0*e - 1.0*i, -5.0*b - 1.0*f - 1.0*j,\n",
       "        -5.0*c - 1.0*g - 1.0*k, -5.0*d - 1.0*h - 1.0*l],\n",
       "       [-1.0*a - 5.0*e - 1.0*i - 2.0*m, -1.0*b - 5.0*f - 1.0*j - 2.0*n,\n",
       "        -1.0*c - 5.0*g - 1.0*k - 2.0*o, -1.0*d - 5.0*h - 1.0*l - 2.0*p],\n",
       "       [-1.0*a - 1.0*e - 5.0*i, -1.0*b - 1.0*f - 5.0*j,\n",
       "        -1.0*c - 1.0*g - 5.0*k, -1.0*d - 1.0*h - 5.0*l],\n",
       "       [-1.0*a - 2.0*e - 1.0*i - 3.0*m, -1.0*b - 2.0*f - 1.0*j - 3.0*n,\n",
       "        -1.0*c - 2.0*g - 1.0*k - 3.0*o, -1.0*d - 2.0*h - 1.0*l - 3.0*p]],\n",
       "      dtype=object)"
      ]
     },
     "execution_count": 99,
     "metadata": {},
     "output_type": "execute_result"
    }
   ],
   "source": [
    "dot=np.dot(A,coords)\n",
    "\n",
    "res=dot[0]\n",
    "for i in range(1,len(dot)):\n",
    "    res+=dot[i] \n",
    "\n",
    "res[1,1]"
   ]
  },
  {
   "cell_type": "code",
   "execution_count": 89,
   "metadata": {},
   "outputs": [
    {
     "data": {
      "text/latex": [
       "$\\displaystyle f$"
      ],
      "text/plain": [
       "f"
      ]
     },
     "execution_count": 89,
     "metadata": {},
     "output_type": "execute_result"
    }
   ],
   "source": [
    "coords[1,1]"
   ]
  },
  {
   "cell_type": "code",
   "execution_count": 90,
   "metadata": {},
   "outputs": [
    {
     "data": {
      "text/plain": [
       "array([[a, b, c, d],\n",
       "       [e, f, g, h],\n",
       "       [i, j, k, l],\n",
       "       [m, n, o, p]], dtype=object)"
      ]
     },
     "execution_count": 90,
     "metadata": {},
     "output_type": "execute_result"
    }
   ],
   "source": [
    "coords"
   ]
  },
  {
   "cell_type": "code",
   "execution_count": 100,
   "metadata": {},
   "outputs": [
    {
     "data": {
      "text/latex": [
       "$\\displaystyle - 1.0 b - 5.0 f - 1.0 j - 2.0 n$"
      ],
      "text/plain": [
       "-1.0*b - 5.0*f - 1.0*j - 2.0*n"
      ]
     },
     "execution_count": 100,
     "metadata": {},
     "output_type": "execute_result"
    }
   ],
   "source": [
    "res[1,1]"
   ]
  },
  {
   "cell_type": "code",
   "execution_count": 61,
   "metadata": {},
   "outputs": [
    {
     "data": {
      "text/plain": [
       "array([[1.0*a - 1.0*d, 1.0*b - 1.0*e, 1.0*c - 1.0*f],\n",
       "       [-1.0*a + 1.0*d, -1.0*b + 1.0*e, -1.0*c + 1.0*f],\n",
       "       [-1.0*a - 1.0*d + 3.0*g, -1.0*b - 1.0*e + 3.0*h,\n",
       "        -1.0*c - 1.0*f + 3.0*i]], dtype=object)"
      ]
     },
     "execution_count": 61,
     "metadata": {},
     "output_type": "execute_result"
    }
   ],
   "source": [
    "dot=np.matmul(A,coords)\n",
    "res=dot[0]\n",
    "for i in range(1,len(dot)):\n",
    "    res+=dot[i] \n",
    "res"
   ]
  },
  {
   "cell_type": "code",
   "execution_count": 5,
   "metadata": {},
   "outputs": [],
   "source": [
    "import numpy as np\n",
    "def create2dgrid(min,max,steps):\n",
    "    if steps==0:\n",
    "        return np.array([(min,min),(max,max)])\n",
    "    A=[]\n",
    "    x=y=min\n",
    "    stepsize=(max-x)/(steps-1)\n",
    "    for j in range(steps):\n",
    "        row=[]\n",
    "        for i in range(steps):\n",
    "            row.append((x,y))\n",
    "            x+=stepsize\n",
    "        x=min\n",
    "        y+=stepsize\n",
    "        A.append(row)\n",
    "    return np.array(A)\n"
   ]
  },
  {
   "cell_type": "code",
   "execution_count": 7,
   "metadata": {},
   "outputs": [
    {
     "data": {
      "text/plain": [
       "array([[[0.        , 0.        ],\n",
       "        [0.33333333, 0.        ],\n",
       "        [0.66666667, 0.        ],\n",
       "        [1.        , 0.        ]],\n",
       "\n",
       "       [[0.        , 0.33333333],\n",
       "        [0.33333333, 0.33333333],\n",
       "        [0.66666667, 0.33333333],\n",
       "        [1.        , 0.33333333]],\n",
       "\n",
       "       [[0.        , 0.66666667],\n",
       "        [0.33333333, 0.66666667],\n",
       "        [0.66666667, 0.66666667],\n",
       "        [1.        , 0.66666667]],\n",
       "\n",
       "       [[0.        , 1.        ],\n",
       "        [0.33333333, 1.        ],\n",
       "        [0.66666667, 1.        ],\n",
       "        [1.        , 1.        ]]])"
      ]
     },
     "execution_count": 7,
     "metadata": {},
     "output_type": "execute_result"
    }
   ],
   "source": [
    "A=create2dgrid(0,1,4)\n",
    "A.shape\n",
    "A\n"
   ]
  },
  {
   "cell_type": "code",
   "execution_count": 34,
   "metadata": {},
   "outputs": [
    {
     "data": {
      "text/plain": [
       "array([[0.        , 0.        ],\n",
       "       [0.33333333, 0.        ],\n",
       "       [0.66666667, 0.        ],\n",
       "       [1.        , 0.        ],\n",
       "       [0.        , 0.33333333],\n",
       "       [0.33333333, 0.33333333],\n",
       "       [0.66666667, 0.33333333],\n",
       "       [1.        , 0.33333333],\n",
       "       [0.        , 0.66666667],\n",
       "       [0.33333333, 0.66666667],\n",
       "       [0.66666667, 0.66666667],\n",
       "       [1.        , 0.66666667],\n",
       "       [0.        , 1.        ],\n",
       "       [0.33333333, 1.        ],\n",
       "       [0.66666667, 1.        ],\n",
       "       [1.        , 1.        ]])"
      ]
     },
     "execution_count": 34,
     "metadata": {},
     "output_type": "execute_result"
    }
   ],
   "source": [
    "A.flatten().reshape(np.prod(A.shape[:-1]),A.shape[-1])"
   ]
  },
  {
   "cell_type": "code",
   "execution_count": null,
   "metadata": {},
   "outputs": [],
   "source": []
  },
  {
   "cell_type": "code",
   "execution_count": 82,
   "metadata": {},
   "outputs": [
    {
     "data": {
      "text/plain": [
       "array([0., 0., 0., 0., 0., 0., 0., 0., 0., 0., 0., 0., 0., 0., 0., 0.])"
      ]
     },
     "execution_count": 82,
     "metadata": {},
     "output_type": "execute_result"
    }
   ],
   "source": [
    "sol = np.zeros(shape=((A.shape[:-1])))\n",
    "sol"
   ]
  },
  {
   "cell_type": "code",
   "execution_count": 194,
   "metadata": {},
   "outputs": [
    {
     "data": {
      "text/plain": [
       "24"
      ]
     },
     "execution_count": 194,
     "metadata": {},
     "output_type": "execute_result"
    }
   ],
   "source": [
    "np.prod([2,2,2,3])"
   ]
  },
  {
   "cell_type": "code",
   "execution_count": 198,
   "metadata": {},
   "outputs": [
    {
     "data": {
      "text/plain": [
       "array([ True,  True,  True,  True])"
      ]
     },
     "execution_count": 198,
     "metadata": {},
     "output_type": "execute_result"
    }
   ],
   "source": [
    "np.array([2,2,2,3]).flatten()==np.array([2,2,2,3])"
   ]
  },
  {
   "cell_type": "code",
   "execution_count": 212,
   "metadata": {},
   "outputs": [
    {
     "data": {
      "text/plain": [
       "array([3., 3., 3.])"
      ]
     },
     "execution_count": 212,
     "metadata": {},
     "output_type": "execute_result"
    }
   ],
   "source": [
    "M=np.ones((3,3))\n",
    "v=np.array([1,1,1])\n",
    "\n",
    "np.matmul(M,v)"
   ]
  },
  {
   "cell_type": "code",
   "execution_count": 213,
   "metadata": {},
   "outputs": [
    {
     "data": {
      "text/plain": [
       "(3,)"
      ]
     },
     "execution_count": 213,
     "metadata": {},
     "output_type": "execute_result"
    }
   ],
   "source": [
    "np.shape(v)"
   ]
  },
  {
   "cell_type": "code",
   "execution_count": 215,
   "metadata": {},
   "outputs": [
    {
     "data": {
      "text/plain": [
       "()"
      ]
     },
     "execution_count": 215,
     "metadata": {},
     "output_type": "execute_result"
    }
   ],
   "source": [
    "np.shape(1)"
   ]
  },
  {
   "cell_type": "code",
   "execution_count": 45,
   "metadata": {},
   "outputs": [],
   "source": [
    "def boundaryfunc(X,t):\n",
    "    n=X[0]+X[1]\n",
    "    return 1\n",
    "    "
   ]
  },
  {
   "cell_type": "code",
   "execution_count": 113,
   "metadata": {},
   "outputs": [],
   "source": [
    "def applycond (t,sol,boundary,X,boundaryonly):\n",
    "    #applies a function of x and t to either edges of sol, or entire\n",
    "    dims= np.shape(X)[-1]\n",
    "    sidelength = int(len(sol)**(1/dims))\n",
    "    sol=sol.flatten()\n",
    "    #2boundaries per dim\n",
    "    \"\"\"\n",
    "    X and sol should both be flat and have same num of elements, where each element of X is tuple\n",
    "    assuming square domain, n=sidelength= int(len(sol)**1/2), first and last n values boundary, \n",
    "    as well as every nth value, if cube domain every n*n value also edge\n",
    "    \"\"\"\n",
    "    if boundaryonly:\n",
    "        for d in range(dims):\n",
    "            for i in range(sidelength):\n",
    "                sol[i*(sidelength)**d]+=boundary(X[i*(sidelength)**d],t)\n",
    "                sol[(-i*(sidelength)**d)-1]+=boundary(X[(-i*(sidelength)**d)-1],t)\n",
    "    else:\n",
    "        for i in range(len(sol)):\n",
    "            sol[i]+=boundary(X[i],t)\n",
    "    return sol"
   ]
  },
  {
   "cell_type": "code",
   "execution_count": 38,
   "metadata": {},
   "outputs": [],
   "source": [
    "A=A.flatten().reshape(np.prod(A.shape[:-1]),A.shape[-1])"
   ]
  },
  {
   "cell_type": "code",
   "execution_count": 116,
   "metadata": {},
   "outputs": [],
   "source": [
    "sol = np.zeros(shape=((A.shape[:-1])))\n",
    "sol=sol.flatten()\n",
    "applied=applycond(1,sol,boundaryfunc,A,True)"
   ]
  },
  {
   "cell_type": "code",
   "execution_count": 117,
   "metadata": {},
   "outputs": [
    {
     "data": {
      "text/plain": [
       "array([[2., 1., 1., 2.],\n",
       "       [1., 0., 0., 1.],\n",
       "       [1., 0., 0., 1.],\n",
       "       [2., 1., 1., 2.]])"
      ]
     },
     "execution_count": 117,
     "metadata": {},
     "output_type": "execute_result"
    }
   ],
   "source": [
    "applied = applied.reshape((4,4))\n",
    "applied"
   ]
  },
  {
   "cell_type": "code",
   "execution_count": 96,
   "metadata": {},
   "outputs": [],
   "source": [
    "applied = sol\n",
    "for i in range(4):\n",
    "    applied[i]+=1\n",
    "    applied[-i-1]+=1\n"
   ]
  },
  {
   "cell_type": "code",
   "execution_count": 103,
   "metadata": {},
   "outputs": [
    {
     "name": "stdout",
     "output_type": "stream",
     "text": [
      "[0. 0. 0. 0. 0. 0. 0. 0. 0. 0. 0. 0. 0. 0. 0. 0.]\n"
     ]
    }
   ],
   "source": [
    "applied = sol = np.zeros(shape=((A.shape[:-1]))).flatten()\n",
    "print(applied)\n",
    "for d in range(2):\n",
    "    for i in range(4):\n",
    "        applied[i*(4)**d]+=1\n",
    "        applied[(-i*(4)**d)-1]+=1"
   ]
  },
  {
   "cell_type": "code",
   "execution_count": 2,
   "metadata": {},
   "outputs": [
    {
     "name": "stdout",
     "output_type": "stream",
     "text": [
      "0\n"
     ]
    }
   ],
   "source": [
    "for i in range(1):\n",
    "    print(i)"
   ]
  },
  {
   "cell_type": "code",
   "execution_count": 1,
   "metadata": {},
   "outputs": [],
   "source": [
    "import numpy as np\n",
    "t=np.linspace(0,1,5)"
   ]
  },
  {
   "cell_type": "code",
   "execution_count": 11,
   "metadata": {},
   "outputs": [
    {
     "data": {
      "text/plain": [
       "1"
      ]
     },
     "execution_count": 11,
     "metadata": {},
     "output_type": "execute_result"
    }
   ],
   "source": [
    "t.ndim"
   ]
  },
  {
   "cell_type": "code",
   "execution_count": 12,
   "metadata": {},
   "outputs": [
    {
     "data": {
      "text/plain": [
       "array([0.  , 0.25, 0.5 , 0.75, 1.  ])"
      ]
     },
     "execution_count": 12,
     "metadata": {},
     "output_type": "execute_result"
    }
   ],
   "source": [
    "t"
   ]
  },
  {
   "cell_type": "code",
   "execution_count": 9,
   "metadata": {},
   "outputs": [
    {
     "name": "stdout",
     "output_type": "stream",
     "text": [
      "74.99999999999997\n",
      "558.0000000000005\n"
     ]
    }
   ],
   "source": [
    "A=np.array([[1,0,0],[1,9,3],[5,2,9]])\n",
    "\n",
    "B=np.array([[9,2,3],[1,9,3],[5,2,9]])\n",
    "print(np.linalg.det(A))\n",
    "print(np.linalg.det(B))\n"
   ]
  },
  {
   "cell_type": "code",
   "execution_count": 13,
   "metadata": {},
   "outputs": [
    {
     "name": "stdout",
     "output_type": "stream",
     "text": [
      "558.0000000000005\n"
     ]
    }
   ],
   "source": [
    "c=np.linalg.det(B)/np.linalg.det(A)\n",
    "c=c**(1/3)\n",
    "K=A*c\n",
    "print(np.linalg.det(K))"
   ]
  },
  {
   "cell_type": "code",
   "execution_count": 14,
   "metadata": {},
   "outputs": [
    {
     "data": {
      "text/plain": [
       "(3, 3)"
      ]
     },
     "execution_count": 14,
     "metadata": {},
     "output_type": "execute_result"
    }
   ],
   "source": [
    "np.shape(A)"
   ]
  },
  {
   "cell_type": "code",
   "execution_count": 20,
   "metadata": {},
   "outputs": [
    {
     "name": "stdout",
     "output_type": "stream",
     "text": [
      "[[ 0.  1.  2.  3.]\n",
      " [ 4.  5.  6.  7.]\n",
      " [ 8.  9. 10. 11.]\n",
      " [12. 13. 14. 15.]]\n",
      "[ 0.  1.  2.  3.  4.  5.  6.  7.  8.  9. 10. 11. 12. 13. 14. 15.]\n"
     ]
    },
    {
     "data": {
      "text/plain": [
       "array([[ 0.,  4.,  8., 12.],\n",
       "       [ 1.,  5.,  9., 13.],\n",
       "       [ 2.,  6., 10., 14.],\n",
       "       [ 3.,  7., 11., 15.]])"
      ]
     },
     "execution_count": 20,
     "metadata": {},
     "output_type": "execute_result"
    }
   ],
   "source": [
    "grid=np.reshape(np.linspace(0,15,16),(4,4))\n",
    "print(grid)\n",
    "flat = grid.flatten()\n",
    "print(flat)\n",
    "grid.T"
   ]
  },
  {
   "cell_type": "code",
   "execution_count": 33,
   "metadata": {},
   "outputs": [
    {
     "ename": "ValueError",
     "evalue": "solve1: Input operand 1 has a mismatch in its core dimension 0, with gufunc signature (m,m),(m)->(m) (size 16 is different from 4)",
     "output_type": "error",
     "traceback": [
      "\u001b[1;31m---------------------------------------------------------------------------\u001b[0m",
      "\u001b[1;31mValueError\u001b[0m                                Traceback (most recent call last)",
      "\u001b[1;32m~\\AppData\\Local\\Temp/ipykernel_14224/1679546808.py\u001b[0m in \u001b[0;36m<module>\u001b[1;34m\u001b[0m\n\u001b[1;32m----> 1\u001b[1;33m \u001b[0mnp\u001b[0m\u001b[1;33m.\u001b[0m\u001b[0mlinalg\u001b[0m\u001b[1;33m.\u001b[0m\u001b[0msolve\u001b[0m\u001b[1;33m(\u001b[0m\u001b[0mgrid\u001b[0m\u001b[1;33m.\u001b[0m\u001b[0mT\u001b[0m\u001b[1;33m,\u001b[0m\u001b[0mgrid\u001b[0m\u001b[1;33m.\u001b[0m\u001b[0mflatten\u001b[0m\u001b[1;33m(\u001b[0m\u001b[1;33m)\u001b[0m\u001b[1;33m.\u001b[0m\u001b[0mT\u001b[0m\u001b[1;33m)\u001b[0m\u001b[1;33m\u001b[0m\u001b[1;33m\u001b[0m\u001b[0m\n\u001b[0m",
      "\u001b[1;32m<__array_function__ internals>\u001b[0m in \u001b[0;36msolve\u001b[1;34m(*args, **kwargs)\u001b[0m\n",
      "\u001b[1;32m~\\anaconda3\\lib\\site-packages\\numpy\\linalg\\linalg.py\u001b[0m in \u001b[0;36msolve\u001b[1;34m(a, b)\u001b[0m\n\u001b[0;32m    391\u001b[0m     \u001b[0msignature\u001b[0m \u001b[1;33m=\u001b[0m \u001b[1;34m'DD->D'\u001b[0m \u001b[1;32mif\u001b[0m \u001b[0misComplexType\u001b[0m\u001b[1;33m(\u001b[0m\u001b[0mt\u001b[0m\u001b[1;33m)\u001b[0m \u001b[1;32melse\u001b[0m \u001b[1;34m'dd->d'\u001b[0m\u001b[1;33m\u001b[0m\u001b[1;33m\u001b[0m\u001b[0m\n\u001b[0;32m    392\u001b[0m     \u001b[0mextobj\u001b[0m \u001b[1;33m=\u001b[0m \u001b[0mget_linalg_error_extobj\u001b[0m\u001b[1;33m(\u001b[0m\u001b[0m_raise_linalgerror_singular\u001b[0m\u001b[1;33m)\u001b[0m\u001b[1;33m\u001b[0m\u001b[1;33m\u001b[0m\u001b[0m\n\u001b[1;32m--> 393\u001b[1;33m     \u001b[0mr\u001b[0m \u001b[1;33m=\u001b[0m \u001b[0mgufunc\u001b[0m\u001b[1;33m(\u001b[0m\u001b[0ma\u001b[0m\u001b[1;33m,\u001b[0m \u001b[0mb\u001b[0m\u001b[1;33m,\u001b[0m \u001b[0msignature\u001b[0m\u001b[1;33m=\u001b[0m\u001b[0msignature\u001b[0m\u001b[1;33m,\u001b[0m \u001b[0mextobj\u001b[0m\u001b[1;33m=\u001b[0m\u001b[0mextobj\u001b[0m\u001b[1;33m)\u001b[0m\u001b[1;33m\u001b[0m\u001b[1;33m\u001b[0m\u001b[0m\n\u001b[0m\u001b[0;32m    394\u001b[0m \u001b[1;33m\u001b[0m\u001b[0m\n\u001b[0;32m    395\u001b[0m     \u001b[1;32mreturn\u001b[0m \u001b[0mwrap\u001b[0m\u001b[1;33m(\u001b[0m\u001b[0mr\u001b[0m\u001b[1;33m.\u001b[0m\u001b[0mastype\u001b[0m\u001b[1;33m(\u001b[0m\u001b[0mresult_t\u001b[0m\u001b[1;33m,\u001b[0m \u001b[0mcopy\u001b[0m\u001b[1;33m=\u001b[0m\u001b[1;32mFalse\u001b[0m\u001b[1;33m)\u001b[0m\u001b[1;33m)\u001b[0m\u001b[1;33m\u001b[0m\u001b[1;33m\u001b[0m\u001b[0m\n",
      "\u001b[1;31mValueError\u001b[0m: solve1: Input operand 1 has a mismatch in its core dimension 0, with gufunc signature (m,m),(m)->(m) (size 16 is different from 4)"
     ]
    }
   ],
   "source": [
    "np.linalg.solve(grid.T,grid.flatten().T)"
   ]
  },
  {
   "cell_type": "code",
   "execution_count": 27,
   "metadata": {},
   "outputs": [
    {
     "data": {
      "text/plain": [
       "array([[1, 1, 5],\n",
       "       [0, 9, 2],\n",
       "       [0, 3, 9]])"
      ]
     },
     "execution_count": 27,
     "metadata": {},
     "output_type": "execute_result"
    }
   ],
   "source": [
    "A.T"
   ]
  },
  {
   "cell_type": "code",
   "execution_count": 30,
   "metadata": {},
   "outputs": [
    {
     "data": {
      "text/plain": [
       "array([[ True,  True,  True],\n",
       "       [ True,  True,  True],\n",
       "       [ True,  True,  True]])"
      ]
     },
     "execution_count": 30,
     "metadata": {},
     "output_type": "execute_result"
    }
   ],
   "source": [
    "np.linalg.inv(A)*A.T*A==A*A.T*np.linalg.inv(A)"
   ]
  },
  {
   "cell_type": "code",
   "execution_count": 1,
   "metadata": {},
   "outputs": [
    {
     "data": {
      "text/plain": [
       "array([10, 20, 30, 40, 50])"
      ]
     },
     "execution_count": 1,
     "metadata": {},
     "output_type": "execute_result"
    }
   ],
   "source": [
    "import numpy as np \n",
    "10*np.array([1,2,3,4,5])\n"
   ]
  },
  {
   "cell_type": "code",
   "execution_count": 30,
   "metadata": {},
   "outputs": [
    {
     "data": {
      "text/plain": [
       "array([[ 3, -1,  0,  0,  0,  0,  0,  0,  0],\n",
       "       [ 1,  3, -1,  0,  0,  0,  0,  0,  0],\n",
       "       [ 0,  1,  3, -1,  0,  0,  0,  0,  0],\n",
       "       [ 0,  0,  1,  3, -1,  0,  0,  0,  0],\n",
       "       [ 0,  0,  0,  1,  3, -1,  0,  0,  0],\n",
       "       [ 0,  0,  0,  0,  1,  3, -1,  0,  0],\n",
       "       [ 0,  0,  0,  0,  0,  1,  3, -1,  0],\n",
       "       [ 0,  0,  0,  0,  0,  0,  1,  3, -1],\n",
       "       [ 0,  0,  0,  0,  0,  0,  0,  1,  3]])"
      ]
     },
     "execution_count": 30,
     "metadata": {},
     "output_type": "execute_result"
    }
   ],
   "source": [
    "a=np.array([-1,2,3,4,5,6,7,8,-9])\n",
    "sqrt=9\n",
    "k=1\n",
    "lmbda=1\n",
    "side=np.array([-lmbda]*(sqrt-k))\n",
    "d = np.diag([(1+2*lmbda)]*(sqrt))\n",
    "d1 = np.diag(side,k=k)\n",
    "d2 = np.diag(-side,k=-k)\n",
    "M=d+d1+d2\n",
    "M"
   ]
  },
  {
   "cell_type": "code",
   "execution_count": 29,
   "metadata": {},
   "outputs": [
    {
     "data": {
      "text/plain": [
       "array([ -8,   0,   2,   4,  23,  20,  24,  28, -22])"
      ]
     },
     "execution_count": 29,
     "metadata": {},
     "output_type": "execute_result"
    }
   ],
   "source": [
    "np.dot(M,a)"
   ]
  },
  {
   "cell_type": "code",
   "execution_count": 47,
   "metadata": {},
   "outputs": [
    {
     "ename": "ValueError",
     "evalue": "operands could not be broadcast together with shapes (13,7) (7,13) ",
     "output_type": "error",
     "traceback": [
      "\u001b[1;31m---------------------------------------------------------------------------\u001b[0m",
      "\u001b[1;31mValueError\u001b[0m                                Traceback (most recent call last)",
      "\u001b[1;32m~\\AppData\\Local\\Temp/ipykernel_14856/3221614914.py\u001b[0m in \u001b[0;36m<module>\u001b[1;34m\u001b[0m\n\u001b[0;32m     13\u001b[0m \u001b[0maux\u001b[0m \u001b[1;33m=\u001b[0m \u001b[0mnp\u001b[0m\u001b[1;33m.\u001b[0m\u001b[0mempty\u001b[0m\u001b[1;33m(\u001b[0m\u001b[1;33m(\u001b[0m\u001b[1;36m0\u001b[0m\u001b[1;33m,\u001b[0m \u001b[0moffset\u001b[0m\u001b[1;33m)\u001b[0m\u001b[1;33m,\u001b[0m \u001b[0mint\u001b[0m\u001b[1;33m)\u001b[0m\u001b[1;33m\u001b[0m\u001b[1;33m\u001b[0m\u001b[0m\n\u001b[0;32m     14\u001b[0m \u001b[1;33m\u001b[0m\u001b[0m\n\u001b[1;32m---> 15\u001b[1;33m \u001b[0mM\u001b[0m\u001b[1;33m=\u001b[0m\u001b[0mblock_diag\u001b[0m\u001b[1;33m(\u001b[0m\u001b[0maux\u001b[0m\u001b[1;33m.\u001b[0m\u001b[0mT\u001b[0m\u001b[1;33m,\u001b[0m \u001b[0mlist\u001b[0m\u001b[1;33m(\u001b[0m\u001b[0mB\u001b[0m\u001b[1;33m)\u001b[0m\u001b[1;33m*\u001b[0m\u001b[1;33m(\u001b[0m\u001b[0mL\u001b[0m\u001b[1;33m-\u001b[0m\u001b[1;36m2\u001b[0m\u001b[1;33m)\u001b[0m\u001b[1;33m,\u001b[0m \u001b[0maux\u001b[0m\u001b[1;33m)\u001b[0m\u001b[1;33m+\u001b[0m\u001b[0mblock_diag\u001b[0m\u001b[1;33m(\u001b[0m\u001b[0maux\u001b[0m\u001b[1;33m.\u001b[0m\u001b[0mT\u001b[0m\u001b[1;33m,\u001b[0m \u001b[0mlist\u001b[0m\u001b[1;33m(\u001b[0m\u001b[0mB\u001b[0m\u001b[1;33m)\u001b[0m\u001b[1;33m*\u001b[0m\u001b[1;33m(\u001b[0m\u001b[0mL\u001b[0m\u001b[1;33m-\u001b[0m\u001b[1;36m2\u001b[0m\u001b[1;33m)\u001b[0m\u001b[1;33m,\u001b[0m \u001b[0maux\u001b[0m\u001b[1;33m)\u001b[0m\u001b[1;33m.\u001b[0m\u001b[0mT\u001b[0m\u001b[1;33m+\u001b[0m\u001b[0mblock_diag\u001b[0m\u001b[1;33m(\u001b[0m\u001b[0maux\u001b[0m\u001b[1;33m.\u001b[0m\u001b[0mT\u001b[0m\u001b[1;33m,\u001b[0m \u001b[0mlist\u001b[0m\u001b[1;33m(\u001b[0m\u001b[0mA\u001b[0m\u001b[1;33m)\u001b[0m\u001b[1;33m*\u001b[0m\u001b[1;33m(\u001b[0m\u001b[0mL\u001b[0m\u001b[1;33m-\u001b[0m\u001b[1;36m1\u001b[0m\u001b[1;33m)\u001b[0m\u001b[1;33m,\u001b[0m \u001b[0maux\u001b[0m\u001b[1;33m)\u001b[0m\u001b[1;33m\u001b[0m\u001b[1;33m\u001b[0m\u001b[0m\n\u001b[0m\u001b[0;32m     16\u001b[0m \u001b[0mM\u001b[0m\u001b[1;33m\u001b[0m\u001b[1;33m\u001b[0m\u001b[0m\n",
      "\u001b[1;31mValueError\u001b[0m: operands could not be broadcast together with shapes (13,7) (7,13) "
     ]
    }
   ],
   "source": [
    "from scipy.linalg import block_diag\n",
    "import numpy as np\n",
    "L=4\n",
    "sqrt=int(((2*(L-1))**2)**(1/2))\n",
    "lmbda=1\n",
    "k=1\n",
    "d = np.diag([1+4*lmbda]*(sqrt))\n",
    "d1 = np.diag([lmbda]*(sqrt-k),k=k)\n",
    "d2 = np.diag([lmbda]*(sqrt-k),k=-k)\n",
    "A=d+d1+d2\n",
    "B=np.diag([lmbda]*(sqrt))\n",
    "offset = 1\n",
    "aux = np.empty((0, offset), int)\n",
    "\n",
    "M=block_diag(aux.T, list(B)*(L-2), aux)+block_diag(aux.T, list(B)*(L-2), aux).T+block_diag(aux.T, list(A)*(L-1), aux)\n",
    "M\n"
   ]
  },
  {
   "cell_type": "code",
   "execution_count": 62,
   "metadata": {},
   "outputs": [
    {
     "name": "stdout",
     "output_type": "stream",
     "text": [
      "(36, 12)\n"
     ]
    },
    {
     "data": {
      "text/plain": [
       "array([[0., 0., 0., 0., 0., 0., 0., 0., 0., 0., 0., 0.],\n",
       "       [0., 0., 0., 0., 0., 0., 0., 0., 0., 0., 0., 0.],\n",
       "       [0., 0., 0., 0., 0., 0., 0., 0., 0., 0., 0., 0.],\n",
       "       [0., 0., 0., 3., 0., 0., 0., 0., 0., 1., 0., 0.],\n",
       "       [0., 0., 0., 0., 3., 0., 0., 0., 0., 0., 1., 0.],\n",
       "       [0., 0., 0., 0., 0., 3., 0., 0., 0., 0., 0., 1.],\n",
       "       [0., 0., 0., 0., 0., 0., 3., 0., 0., 0., 0., 0.],\n",
       "       [0., 0., 0., 0., 0., 0., 0., 3., 0., 0., 0., 0.],\n",
       "       [0., 0., 0., 0., 0., 0., 0., 0., 3., 0., 0., 0.],\n",
       "       [0., 0., 0., 2., 0., 0., 0., 0., 0., 0., 0., 0.],\n",
       "       [0., 0., 0., 0., 2., 0., 0., 0., 0., 0., 0., 0.],\n",
       "       [0., 0., 0., 0., 0., 2., 0., 0., 0., 0., 0., 0.]])"
      ]
     },
     "execution_count": 62,
     "metadata": {},
     "output_type": "execute_result"
    }
   ],
   "source": [
    "lmbda=1\n",
    "k=1\n",
    "d = np.diag([1+4*lmbda]*(sqrt))\n",
    "d1 = np.diag([lmbda]*(sqrt-k),k=k)\n",
    "d2 = np.diag([lmbda]*(sqrt-k),k=-k)\n",
    "A=d+d1+d2\n",
    "B=np.diag([lmbda]*(sqrt))\n",
    "offset = 1\n",
    "aux = np.empty((0, offset), int)\n",
    "M=np.zeros((L-1,L-1))\n",
    "aux=M\n",
    "M1=block_diag(aux.T, list(B)*(sqrt-2), aux)\n",
    "M2=block_diag(aux.T, list(B)*(sqrt-2), aux).T\n",
    "M3=block_diag(aux.T, list(B)*(sqrt-1), aux)\n",
    "print(M3.shape)\n",
    "M=M1[:12,:12]+M2[:12,:12]+M3[:12,:12]\n",
    "M"
   ]
  },
  {
   "cell_type": "code",
   "execution_count": 58,
   "metadata": {},
   "outputs": [
    {
     "data": {
      "text/plain": [
       "(36, 12)"
      ]
     },
     "execution_count": 58,
     "metadata": {},
     "output_type": "execute_result"
    }
   ],
   "source": [
    "M3.shape"
   ]
  },
  {
   "cell_type": "code",
   "execution_count": 69,
   "metadata": {},
   "outputs": [],
   "source": [
    "import numpy as np\n",
    "import numpy.matlib\n",
    "from decimal import Decimal, ROUND_HALF_UP\n",
    "import scipy.sparse.linalg as spla\n",
    "from scipy.sparse import csr_matrix\n",
    "import matplotlib.pyplot as plt\n",
    "import seaborn as sns\n",
    "import time\n",
    "\n",
    "\n",
    "dtnum = 5001 #How many times should the time be divided and calculated? It is better to set the ones digit to 1. It is related to the number at the end of the for statement at time t.\n",
    "dxnum = 101 #How many divisions x and y should be calculated\n",
    "dynum = 101\n",
    "\n",
    "thick = 10 #Size in x direction\n",
    "width = 10 #Size in y direction\n",
    "time_calc = 500 #Time to calculate\n",
    "beta = 0.1 #In the above formula, Lambda thermal diffusivity lambda=Thermal conductivity/(density*specific heat)\n",
    "\n",
    "\"\"\"Calculation preparation\"\"\"\n",
    "#Prepare an empty solution\n",
    "solution_k1 = np.zeros([dxnum,dynum])\n",
    "solution_k2 = np.zeros([dxnum,dynum]) #solution_The initial value of k2 becomes the initial condition\n",
    "\n",
    "\n",
    "#boundary condition\n",
    "irr_boundary = 100 #Surface boundary conditions(0,t)Temperature in\n",
    "rear_boundary = 100 #Boundary conditions on the opposite side of the back(x,t)Temperature 0 was used as the reference temperature\n",
    "side_0 = 100 #y=Temperature of 0\n",
    "side_y = 100 #y=Boundary temperature opposite to 0\n",
    "\n",
    "dt = time_calc / (dtnum - 1)\n",
    "dx = thick / (dxnum - 1)\n",
    "dy = width / (dynum - 1)\n",
    "\n",
    "d = -(2+(dx**2)/(beta*dt))\n",
    "B = (2*((dx/dy)**2)-((dx**2)/(beta*dt)))\n",
    "\n",
    "e = -(2+(dy**2)/(beta*dt))\n",
    "C = (2*((dy/dx)**2)-((dy**2)/(beta*dt)))\n",
    "\n",
    "\n",
    "\"\"\"Ax=Prepare A of b\"\"\"\n",
    "a_matrix_1 = np.identity(dxnum) * d \\\n",
    "            + np.eye(dxnum, k=1) \\\n",
    "            + np.eye(dxnum, k=-1)\n",
    "            \n",
    "a_matrix_2 = np.identity(dynum) * e \\\n",
    "            + np.eye(dynum, k=1) \\\n",
    "            + np.eye(dynum, k=-1) "
   ]
  },
  {
   "cell_type": "code",
   "execution_count": 72,
   "metadata": {},
   "outputs": [
    {
     "data": {
      "text/plain": [
       "(101, 101)"
      ]
     },
     "execution_count": 72,
     "metadata": {},
     "output_type": "execute_result"
    }
   ],
   "source": [
    "a_matrix_1.shape"
   ]
  },
  {
   "cell_type": "code",
   "execution_count": 73,
   "metadata": {},
   "outputs": [
    {
     "data": {
      "text/plain": [
       "(101, 101)"
      ]
     },
     "execution_count": 73,
     "metadata": {},
     "output_type": "execute_result"
    }
   ],
   "source": [
    "a_matrix_2.shape"
   ]
  },
  {
   "cell_type": "code",
   "execution_count": 76,
   "metadata": {},
   "outputs": [
    {
     "data": {
      "text/plain": [
       "(99, 99)"
      ]
     },
     "execution_count": 76,
     "metadata": {},
     "output_type": "execute_result"
    }
   ],
   "source": [
    "a_matrix_2[1:-1,1:-1].shape"
   ]
  },
  {
   "cell_type": "code",
   "execution_count": 5,
   "metadata": {},
   "outputs": [],
   "source": [
    "import numpy as np\n",
    "dxnum=dynum=8\n",
    "d=-1\n",
    "e=-1\n",
    "a_matrix_1 = np.identity(dxnum) * d \\\n",
    "            + np.eye(dxnum, k=1) \\\n",
    "            + np.eye(dxnum, k=-1)\n",
    "            \n",
    "a_matrix_2 = np.identity(dynum) * e + np.eye(dynum, k=1) + np.eye(dynum, k=-1)"
   ]
  },
  {
   "cell_type": "code",
   "execution_count": 7,
   "metadata": {},
   "outputs": [
    {
     "data": {
      "text/plain": [
       "array([[ True,  True,  True,  True,  True,  True,  True,  True],\n",
       "       [ True,  True,  True,  True,  True,  True,  True,  True],\n",
       "       [ True,  True,  True,  True,  True,  True,  True,  True],\n",
       "       [ True,  True,  True,  True,  True,  True,  True,  True],\n",
       "       [ True,  True,  True,  True,  True,  True,  True,  True],\n",
       "       [ True,  True,  True,  True,  True,  True,  True,  True],\n",
       "       [ True,  True,  True,  True,  True,  True,  True,  True],\n",
       "       [ True,  True,  True,  True,  True,  True,  True,  True]])"
      ]
     },
     "execution_count": 7,
     "metadata": {},
     "output_type": "execute_result"
    }
   ],
   "source": [
    "a_matrix_2==a_matrix_1"
   ]
  },
  {
   "cell_type": "code",
   "execution_count": 9,
   "metadata": {},
   "outputs": [
    {
     "data": {
      "text/plain": [
       "array([[0., 1., 0., 0.],\n",
       "       [0., 0., 1., 0.],\n",
       "       [0., 0., 0., 1.],\n",
       "       [0., 0., 0., 0.]])"
      ]
     },
     "execution_count": 9,
     "metadata": {},
     "output_type": "execute_result"
    }
   ],
   "source": [
    "np.eye(4, k=1)"
   ]
  },
  {
   "cell_type": "code",
   "execution_count": 11,
   "metadata": {},
   "outputs": [
    {
     "data": {
      "text/plain": [
       "[2, 3, 4]"
      ]
     },
     "execution_count": 11,
     "metadata": {},
     "output_type": "execute_result"
    }
   ],
   "source": [
    "def ADI(T,X,innitial,boundary=lambda  X,t : 2,Boundarytype=\"dir\"):\n",
    "    \n",
    "    [T,sol,lmbda,shape,sqrt,X,dims]=setuppde(T,X,innitial)\n",
    "    dx=X[0][0]-X[1][0]\n",
    "    L=shape[0]\n",
    "    #sqrt number of values on 1 edge of square domain\n",
    "    #deriv matrix stuff\n",
    "    #sqrt+=1\n",
    "    #magic numbers from \"inspiration code\"\n",
    "    \"\"\"\n",
    "    d = -(2+(dx**2)/(beta*dt))\n",
    "    B = (2*((dx/dy)**2)-((dx**2)/(beta*dt)))\n",
    "\n",
    "    e = -(2+(dy**2)/(beta*dt))\n",
    "    C = (2*((dy/dx)**2)-((dy**2)/(beta*dt)))\n",
    "    im assuming square so\n",
    "    dy/dx=dx/dy=1\n",
    "    beta = kappa?\n",
    "    (dx**2)/(beta*dt)=1/lmbda?\n",
    "    d=-(2+1/lmbda)\n",
    "    B=2-1/lmbda\n",
    "    e=d\n",
    "    C=B\n",
    "    \"\"\"\n",
    "    magicnumber=-(2+1/lmbda)\n",
    "    magicnumber2=2-1/lmbda\n",
    "    d=np.ones(L-2) * magicnumber \n",
    "    side= np.ones(L-2-1)\n",
    "    tsteps= int(len(T)/2)#each half step is step\n",
    "    #sol[0]=applycond(T[0],sol[0],boundary,X,Boundarytype,lmbda)\n",
    "    \n",
    "    for t in range(tsteps):\n",
    "        sol[t]=applycond(T[t],sol[t],boundary,X,Boundarytype,lmbda)#imperative conditions are applied before\n",
    "        print(t)\n",
    "        tsol=np.reshape(sol[t],(L,L))\n",
    "        for i in range(L-2):#Xloop\n",
    "            xtarr=tsol[i+1,1:-1]*magicnumber2-(tsol[i,1:-1]+tsol[i+2,1:-1])\n",
    "            #xtarr[0]-=tsol[i,0]\n",
    "            #xtarr[-1]-=tsol[i,-1]\n",
    "            #b1=tsol[i,0]\n",
    "            #b2=tsol[i,-1]\n",
    "            tsol[i,1:-1]=TDMAsolver(side,d,side,xtarr)\n",
    "            #tsol[i,-1]=b2\n",
    "            #tsol[i,0]=b1\n",
    "        for j in range(L-2):#Yloop\n",
    "            ytarr=tsol[1:-1,j+1]*magicnumber2-(tsol[1:-1,j]+tsol[1:-1,j+2])\n",
    "            #ytarr[0]-=tsol[0,j]\n",
    "            #ytarr[-1]-=tsol[-1,j]\n",
    "            #b1=tsol[0,j]\n",
    "            #b2=tsol[-1,j]\n",
    "            tsol[1:-1,j]=TDMAsolver(side,d,side,ytarr)\n",
    "            #tsol[-1,j]=b2\n",
    "            #tsol[1,j]=b1\n",
    "        sol[t+1]=tsol.flatten()\n",
    "    sol=customreshape(shape,sol)\n",
    "    print(np.shape(sol))\n",
    "    return sol"
   ]
  },
  {
   "cell_type": "code",
   "execution_count": null,
   "metadata": {},
   "outputs": [],
   "source": [
    "#version with double cross from bottom\n",
    "def ADI(T,X,innitial,boundary=lambda  X,t : 2,Boundarytype=\"dir\"):\n",
    "    \n",
    "    [T,sol,lmbda,shape,sqrt,X,dims]=setuppde(T,X,innitial)\n",
    "    dx=X[0][0]-X[1][0]\n",
    "    L=shape[0]\n",
    "    #sqrt number of values on 1 edge of square domain\n",
    "    #deriv matrix stuff\n",
    "    #sqrt+=1\n",
    "    #magic numbers from \"inspiration code\"\n",
    "    \"\"\"\n",
    "    d = -(2+(dx**2)/(beta*dt))\n",
    "    B = (2*((dx/dy)**2)-((dx**2)/(beta*dt)))\n",
    "\n",
    "    e = -(2+(dy**2)/(beta*dt))\n",
    "    C = (2*((dy/dx)**2)-((dy**2)/(beta*dt)))\n",
    "    im assuming square so\n",
    "    dy/dx=dx/dy=1\n",
    "    beta = kappa?\n",
    "    (dx**2)/(beta*dt)=1/lmbda?\n",
    "    d=-(2+1/lmbda)\n",
    "    B=2-1/lmbda\n",
    "    e=d\n",
    "    C=B\n",
    "    \"\"\"\n",
    "    magicnumber=-(2+1/lmbda)\n",
    "    magicnumber2=2-1/lmbda\n",
    "    d=np.ones(L) * magicnumber \n",
    "    side= np.ones(L-1)\n",
    "    tsteps= int(len(T)/2)#each half step is step\n",
    "    #sol[0]=applycond(T[0],sol[0],boundary,X,Boundarytype,lmbda)\n",
    "    \n",
    "    for t in range(tsteps):\n",
    "        sol[t]=applycond(T[t],sol[t],boundary,X,Boundarytype,lmbda)#imperative conditions are applied before\n",
    "        print(t)\n",
    "        tsol=np.reshape(sol[t],(L,L))\n",
    "        for i in range(2,L-2):#Xloop\n",
    "            xtarr=tsol[i+1,:]*magicnumber2-(tsol[i,:]+tsol[i+2,:])\n",
    "            #xtarr[0]-=tsol[i,0]\n",
    "            #xtarr[-1]-=tsol[i,-1]\n",
    "            #b1=tsol[i,0]\n",
    "            #b2=tsol[i,-1]\n",
    "            tsol[i,:]=TDMAsolver(side,d,side,xtarr)\n",
    "            #tsol[i,-1]=b2\n",
    "            #tsol[i,0]=b1\n",
    "        for j in range(2,L-2):#Yloop\n",
    "            ytarr=tsol[:,j+1]*magicnumber2-(tsol[:,j]+tsol[:,j+2])\n",
    "            #ytarr[0]-=tsol[0,j]\n",
    "            #ytarr[-1]-=tsol[-1,j]\n",
    "            #b1=tsol[0,j]\n",
    "            #b2=tsol[-1,j]\n",
    "            tsol[:,j]=TDMAsolver(side,d,side,ytarr)\n",
    "            #tsol[-1,j]=b2\n",
    "            #tsol[1,j]=b1\n",
    "        sol[t+1]=tsol.flatten()\n",
    "    sol=customreshape(shape,sol)\n",
    "    print(np.shape(sol))\n",
    "    return sol"
   ]
  },
  {
   "cell_type": "code",
   "execution_count": 14,
   "metadata": {},
   "outputs": [
    {
     "data": {
      "text/plain": [
       "5"
      ]
     },
     "execution_count": 14,
     "metadata": {},
     "output_type": "execute_result"
    }
   ],
   "source": [
    "x=[1,2,3,4,5]\n",
    "L=len(x)\n",
    "x[L-1]\n",
    "x[-1]"
   ]
  },
  {
   "cell_type": "code",
   "execution_count": 10,
   "metadata": {},
   "outputs": [
    {
     "name": "stdout",
     "output_type": "stream",
     "text": [
      "0.0\n",
      "1.0\n",
      "2.0\n",
      "3.0\n",
      "4.0\n",
      "5.0\n",
      "6.0\n",
      "7.0\n",
      "8.0\n",
      "9.0\n",
      "10.0\n",
      "11.0\n",
      "12.0\n",
      "13.0\n",
      "14.0\n",
      "15.0\n",
      "16.0\n",
      "17.0\n",
      "18.0\n",
      "19.0\n",
      "20.0\n",
      "21.0\n",
      "22.0\n",
      "23.0\n",
      "24.0\n",
      "25.0\n",
      "26.0\n",
      "27.0\n",
      "28.0\n",
      "29.0\n",
      "30.0\n",
      "31.0\n",
      "32.0\n",
      "33.0\n",
      "34.0\n",
      "35.0\n",
      "36.0\n",
      "37.0\n",
      "38.0\n",
      "39.0\n",
      "40.0\n",
      "41.0\n",
      "42.0\n",
      "43.0\n",
      "44.0\n",
      "45.0\n",
      "46.0\n",
      "47.0\n",
      "48.0\n",
      "49.0\n",
      "50.0\n",
      "51.0\n",
      "52.0\n",
      "53.0\n",
      "54.0\n",
      "55.0\n",
      "56.0\n",
      "57.0\n",
      "58.0\n",
      "59.0\n",
      "60.0\n",
      "61.0\n",
      "62.0\n",
      "63.0\n",
      "64.0\n",
      "65.0\n",
      "66.0\n",
      "67.0\n",
      "68.0\n",
      "69.0\n",
      "70.0\n",
      "71.0\n",
      "72.0\n",
      "73.0\n",
      "74.0\n",
      "75.0\n",
      "76.0\n",
      "77.0\n",
      "78.0\n",
      "79.0\n",
      "80.0\n",
      "81.0\n",
      "82.0\n",
      "83.0\n",
      "84.0\n",
      "85.0\n",
      "86.0\n",
      "87.0\n",
      "88.0\n",
      "89.0\n",
      "90.0\n",
      "91.0\n",
      "92.0\n",
      "93.0\n",
      "94.0\n",
      "95.0\n",
      "96.0\n",
      "97.0\n",
      "98.0\n",
      "99.0\n",
      "100.0\n",
      "101.0\n",
      "102.0\n",
      "103.0\n",
      "104.0\n",
      "105.0\n",
      "106.0\n",
      "107.0\n",
      "108.0\n",
      "109.0\n",
      "110.0\n",
      "111.0\n",
      "112.0\n",
      "113.0\n",
      "114.0\n",
      "115.0\n",
      "116.0\n",
      "117.0\n",
      "118.0\n",
      "119.0\n",
      "120.0\n",
      "121.0\n",
      "122.0\n",
      "123.0\n",
      "124.0\n",
      "125.0\n",
      "126.0\n",
      "127.0\n",
      "128.0\n",
      "129.0\n",
      "130.0\n",
      "131.0\n",
      "132.0\n",
      "133.0\n",
      "134.0\n",
      "135.0\n",
      "136.0\n",
      "137.0\n",
      "138.0\n",
      "139.0\n",
      "140.0\n",
      "141.0\n",
      "142.0\n",
      "143.0\n",
      "144.0\n",
      "145.0\n",
      "146.0\n",
      "147.0\n",
      "148.0\n",
      "149.0\n",
      "150.0\n",
      "151.0\n",
      "152.0\n",
      "153.0\n",
      "154.0\n",
      "155.0\n",
      "156.0\n",
      "157.0\n",
      "158.0\n",
      "159.0\n",
      "160.0\n",
      "161.0\n",
      "162.0\n",
      "163.0\n",
      "164.0\n",
      "165.0\n",
      "166.0\n",
      "167.0\n",
      "168.0\n",
      "169.0\n",
      "170.0\n",
      "171.0\n",
      "172.0\n",
      "173.0\n",
      "174.0\n",
      "175.0\n",
      "176.0\n",
      "177.0\n",
      "178.0\n",
      "179.0\n",
      "180.0\n",
      "181.0\n",
      "182.0\n",
      "183.0\n",
      "184.0\n",
      "185.0\n",
      "186.0\n",
      "187.0\n",
      "188.0\n",
      "189.0\n",
      "190.0\n",
      "191.0\n",
      "192.0\n",
      "193.0\n",
      "194.0\n",
      "195.0\n",
      "196.0\n",
      "197.0\n",
      "198.0\n",
      "199.0\n",
      "200.0\n",
      "201.0\n",
      "202.0\n",
      "203.0\n",
      "204.0\n",
      "205.0\n",
      "206.0\n",
      "207.0\n",
      "208.0\n",
      "209.0\n",
      "210.0\n",
      "211.0\n",
      "212.0\n",
      "213.0\n",
      "214.0\n",
      "215.0\n",
      "216.0\n",
      "217.0\n",
      "218.0\n",
      "219.0\n",
      "220.0\n",
      "221.0\n",
      "222.0\n",
      "223.0\n",
      "224.0\n",
      "225.0\n",
      "226.0\n",
      "227.0\n",
      "228.0\n",
      "229.0\n",
      "230.0\n",
      "231.0\n",
      "232.0\n",
      "233.0\n",
      "234.0\n",
      "235.0\n",
      "236.0\n",
      "237.0\n",
      "238.0\n",
      "239.0\n",
      "240.0\n",
      "241.0\n",
      "242.0\n",
      "243.0\n",
      "244.0\n",
      "245.0\n",
      "246.0\n",
      "247.0\n",
      "248.0\n",
      "249.0\n",
      "250.0\n",
      "251.0\n",
      "252.0\n",
      "253.0\n",
      "254.0\n",
      "255.0\n",
      "256.0\n",
      "257.0\n",
      "258.0\n",
      "259.0\n",
      "260.0\n",
      "261.0\n",
      "262.0\n",
      "263.0\n",
      "264.0\n",
      "265.0\n",
      "266.0\n",
      "267.0\n",
      "268.0\n",
      "269.0\n",
      "270.0\n",
      "271.0\n",
      "272.0\n",
      "273.0\n",
      "274.0\n",
      "275.0\n",
      "276.0\n",
      "277.0\n",
      "278.0\n",
      "279.0\n",
      "280.0\n",
      "281.0\n",
      "282.0\n",
      "283.0\n",
      "284.0\n",
      "285.0\n",
      "286.0\n",
      "287.0\n",
      "288.0\n",
      "289.0\n",
      "290.0\n",
      "291.0\n",
      "292.0\n",
      "293.0\n",
      "294.0\n",
      "295.0\n",
      "296.0\n",
      "297.0\n",
      "298.0\n",
      "299.0\n",
      "300.0\n",
      "301.0\n",
      "302.0\n",
      "303.0\n",
      "304.0\n",
      "305.0\n",
      "306.0\n",
      "307.0\n",
      "308.0\n",
      "309.0\n",
      "310.0\n",
      "311.0\n",
      "312.0\n",
      "313.0\n",
      "314.0\n",
      "315.0\n",
      "316.0\n",
      "317.0\n",
      "318.0\n",
      "319.0\n",
      "320.0\n",
      "321.0\n",
      "322.0\n",
      "323.0\n",
      "324.0\n",
      "325.0\n",
      "326.0\n",
      "327.0\n",
      "328.0\n",
      "329.0\n",
      "330.0\n",
      "331.0\n",
      "332.0\n",
      "333.0\n",
      "334.0\n",
      "335.0\n",
      "336.0\n",
      "337.0\n",
      "338.0\n",
      "339.0\n",
      "340.0\n",
      "341.0\n",
      "342.0\n",
      "343.0\n",
      "344.0\n",
      "345.0\n",
      "346.0\n",
      "347.0\n",
      "348.0\n",
      "349.0\n",
      "350.0\n",
      "351.0\n",
      "352.0\n",
      "353.0\n",
      "354.0\n",
      "355.0\n",
      "356.0\n",
      "357.0\n",
      "358.0\n",
      "359.0\n",
      "360.0\n",
      "361.0\n",
      "362.0\n",
      "363.0\n",
      "364.0\n",
      "365.0\n",
      "366.0\n",
      "367.0\n",
      "368.0\n",
      "369.0\n",
      "370.0\n",
      "371.0\n",
      "372.0\n",
      "373.0\n",
      "374.0\n",
      "375.0\n",
      "376.0\n",
      "377.0\n",
      "378.0\n",
      "379.0\n",
      "380.0\n",
      "381.0\n",
      "382.0\n",
      "383.0\n",
      "384.0\n",
      "385.0\n",
      "386.0\n",
      "387.0\n",
      "388.0\n",
      "389.0\n",
      "390.0\n",
      "391.0\n",
      "392.0\n",
      "393.0\n",
      "394.0\n",
      "395.0\n",
      "396.0\n",
      "397.0\n",
      "398.0\n",
      "399.0\n",
      "400.0\n",
      "401.0\n",
      "402.0\n",
      "403.0\n",
      "404.0\n",
      "405.0\n",
      "406.0\n",
      "407.0\n",
      "408.0\n",
      "409.0\n",
      "410.0\n",
      "411.0\n",
      "412.0\n",
      "413.0\n",
      "414.0\n",
      "415.0\n",
      "416.0\n",
      "417.0\n",
      "418.0\n",
      "419.0\n",
      "420.0\n",
      "421.0\n",
      "422.0\n",
      "423.0\n",
      "424.0\n",
      "425.0\n",
      "426.0\n",
      "427.0\n",
      "428.0\n",
      "429.0\n",
      "430.0\n",
      "431.0\n",
      "432.0\n",
      "433.0\n",
      "434.0\n",
      "435.0\n",
      "436.0\n",
      "437.0\n",
      "438.0\n",
      "439.0\n",
      "440.0\n",
      "441.0\n",
      "442.0\n",
      "443.0\n",
      "444.0\n",
      "445.0\n",
      "446.0\n",
      "447.0\n",
      "448.0\n",
      "449.0\n",
      "450.0\n",
      "451.0\n",
      "452.0\n",
      "453.0\n",
      "454.0\n",
      "455.0\n",
      "456.0\n",
      "457.0\n",
      "458.0\n",
      "459.0\n",
      "460.0\n",
      "461.0\n",
      "462.0\n",
      "463.0\n",
      "464.0\n",
      "465.0\n",
      "466.0\n",
      "467.0\n",
      "468.0\n",
      "469.0\n",
      "470.0\n",
      "471.0\n",
      "472.0\n",
      "473.0\n",
      "474.0\n",
      "475.0\n",
      "476.0\n",
      "477.0\n",
      "478.0\n",
      "479.0\n",
      "480.0\n",
      "481.0\n",
      "482.0\n",
      "483.0\n",
      "484.0\n",
      "485.0\n",
      "486.0\n",
      "487.0\n",
      "488.0\n",
      "489.0\n",
      "490.0\n",
      "491.0\n",
      "492.0\n",
      "493.0\n",
      "494.0\n",
      "495.0\n",
      "496.0\n",
      "497.0\n",
      "498.0\n",
      "499.0\n",
      "501.0\n",
      "503.0\n",
      "505.0\n",
      "507.0\n",
      "509.0\n",
      "511.0\n",
      "513.0\n",
      "515.0\n",
      "517.0\n",
      "519.0\n",
      "521.0\n",
      "523.0\n",
      "525.0\n",
      "527.0\n",
      "529.0\n",
      "531.0\n",
      "533.0\n",
      "535.0\n",
      "537.0\n",
      "539.0\n",
      "541.0\n",
      "543.0\n",
      "545.0\n",
      "547.0\n",
      "549.0\n",
      "551.0\n",
      "553.0\n",
      "555.0\n",
      "557.0\n",
      "559.0\n",
      "561.0\n",
      "563.0\n",
      "565.0\n",
      "567.0\n",
      "569.0\n",
      "571.0\n",
      "573.0\n",
      "575.0\n",
      "577.0\n",
      "579.0\n",
      "581.0\n",
      "583.0\n",
      "585.0\n",
      "587.0\n",
      "589.0\n",
      "591.0\n",
      "593.0\n",
      "595.0\n",
      "597.0\n",
      "599.0\n",
      "601.0\n",
      "603.0\n",
      "605.0\n",
      "607.0\n",
      "609.0\n",
      "611.0\n",
      "613.0\n",
      "615.0\n",
      "617.0\n",
      "619.0\n",
      "621.0\n",
      "623.0\n",
      "625.0\n",
      "627.0\n",
      "629.0\n",
      "631.0\n",
      "633.0\n",
      "635.0\n",
      "637.0\n",
      "639.0\n",
      "641.0\n",
      "643.0\n",
      "645.0\n",
      "647.0\n",
      "649.0\n",
      "651.0\n",
      "653.0\n",
      "655.0\n",
      "657.0\n",
      "659.0\n",
      "661.0\n",
      "663.0\n",
      "665.0\n",
      "667.0\n",
      "669.0\n",
      "671.0\n",
      "673.0\n",
      "675.0\n",
      "677.0\n",
      "679.0\n",
      "681.0\n",
      "683.0\n",
      "685.0\n",
      "687.0\n",
      "689.0\n",
      "691.0\n",
      "693.0\n",
      "695.0\n",
      "697.0\n",
      "699.0\n",
      "701.0\n",
      "703.0\n",
      "705.0\n",
      "707.0\n",
      "709.0\n",
      "711.0\n",
      "713.0\n",
      "715.0\n",
      "717.0\n",
      "719.0\n",
      "721.0\n",
      "723.0\n",
      "725.0\n",
      "727.0\n",
      "729.0\n",
      "731.0\n",
      "733.0\n",
      "735.0\n",
      "737.0\n",
      "739.0\n",
      "741.0\n",
      "743.0\n",
      "745.0\n",
      "747.0\n",
      "749.0\n",
      "751.0\n",
      "753.0\n",
      "755.0\n",
      "757.0\n",
      "759.0\n",
      "761.0\n",
      "763.0\n",
      "765.0\n",
      "767.0\n",
      "769.0\n",
      "771.0\n",
      "773.0\n",
      "775.0\n",
      "777.0\n",
      "779.0\n",
      "781.0\n",
      "783.0\n",
      "785.0\n",
      "787.0\n",
      "789.0\n",
      "791.0\n",
      "793.0\n",
      "795.0\n",
      "797.0\n",
      "799.0\n",
      "801.0\n",
      "803.0\n",
      "805.0\n",
      "807.0\n",
      "809.0\n",
      "811.0\n",
      "813.0\n",
      "815.0\n",
      "817.0\n",
      "819.0\n",
      "821.0\n",
      "823.0\n",
      "825.0\n",
      "827.0\n",
      "829.0\n",
      "831.0\n",
      "833.0\n",
      "835.0\n",
      "837.0\n",
      "839.0\n",
      "841.0\n",
      "843.0\n",
      "845.0\n",
      "847.0\n",
      "849.0\n",
      "851.0\n",
      "853.0\n",
      "855.0\n",
      "857.0\n",
      "859.0\n",
      "861.0\n",
      "863.0\n",
      "865.0\n",
      "867.0\n",
      "869.0\n",
      "871.0\n",
      "873.0\n",
      "875.0\n",
      "877.0\n",
      "879.0\n",
      "881.0\n",
      "883.0\n",
      "885.0\n",
      "887.0\n",
      "889.0\n",
      "891.0\n",
      "893.0\n",
      "895.0\n",
      "897.0\n",
      "899.0\n",
      "901.0\n",
      "903.0\n",
      "905.0\n",
      "907.0\n",
      "909.0\n",
      "911.0\n",
      "913.0\n",
      "915.0\n",
      "917.0\n",
      "919.0\n",
      "921.0\n",
      "923.0\n",
      "925.0\n",
      "927.0\n",
      "929.0\n",
      "931.0\n",
      "933.0\n",
      "935.0\n",
      "937.0\n",
      "939.0\n",
      "941.0\n",
      "943.0\n",
      "945.0\n",
      "947.0\n",
      "949.0\n",
      "951.0\n",
      "953.0\n",
      "955.0\n",
      "957.0\n",
      "959.0\n",
      "961.0\n",
      "963.0\n",
      "965.0\n",
      "967.0\n",
      "969.0\n",
      "971.0\n",
      "973.0\n",
      "975.0\n",
      "977.0\n",
      "979.0\n",
      "981.0\n",
      "983.0\n",
      "985.0\n",
      "987.0\n",
      "989.0\n",
      "991.0\n",
      "993.0\n",
      "995.0\n",
      "997.0\n",
      "999.0\n",
      "1001.0\n",
      "1004.0\n",
      "1007.0\n",
      "1010.0\n",
      "1013.0\n",
      "1016.0\n",
      "1019.0\n",
      "1022.0\n",
      "1025.0\n",
      "1028.0\n",
      "1031.0\n",
      "1034.0\n",
      "1037.0\n",
      "1040.0\n",
      "1043.0\n",
      "1046.0\n",
      "1049.0\n",
      "1052.0\n",
      "1055.0\n",
      "1058.0\n",
      "1061.0\n",
      "1064.0\n",
      "1067.0\n",
      "1070.0\n",
      "1073.0\n",
      "1076.0\n",
      "1079.0\n",
      "1082.0\n",
      "1085.0\n",
      "1088.0\n",
      "1091.0\n",
      "1094.0\n",
      "1097.0\n",
      "1100.0\n",
      "1103.0\n",
      "1106.0\n",
      "1109.0\n",
      "1112.0\n",
      "1115.0\n",
      "1118.0\n",
      "1121.0\n",
      "1124.0\n",
      "1127.0\n",
      "1130.0\n",
      "1133.0\n",
      "1136.0\n",
      "1139.0\n",
      "1142.0\n",
      "1145.0\n",
      "1148.0\n",
      "1151.0\n",
      "1154.0\n",
      "1157.0\n",
      "1160.0\n",
      "1163.0\n",
      "1166.0\n",
      "1169.0\n",
      "1172.0\n",
      "1175.0\n",
      "1178.0\n",
      "1181.0\n",
      "1184.0\n",
      "1187.0\n",
      "1190.0\n",
      "1193.0\n",
      "1196.0\n",
      "1199.0\n",
      "1202.0\n",
      "1205.0\n",
      "1208.0\n",
      "1211.0\n",
      "1214.0\n",
      "1217.0\n",
      "1220.0\n",
      "1223.0\n",
      "1226.0\n",
      "1229.0\n",
      "1232.0\n",
      "1235.0\n",
      "1238.0\n",
      "1241.0\n",
      "1244.0\n",
      "1247.0\n",
      "1250.0\n",
      "1253.0\n",
      "1256.0\n",
      "1259.0\n",
      "1262.0\n",
      "1265.0\n",
      "1268.0\n",
      "1271.0\n",
      "1274.0\n",
      "1277.0\n",
      "1280.0\n",
      "1283.0\n",
      "1286.0\n",
      "1289.0\n",
      "1292.0\n",
      "1295.0\n",
      "1298.0\n",
      "1301.0\n",
      "1304.0\n",
      "1307.0\n",
      "1310.0\n",
      "1313.0\n",
      "1316.0\n",
      "1319.0\n",
      "1322.0\n",
      "1325.0\n",
      "1328.0\n",
      "1331.0\n",
      "1334.0\n",
      "1337.0\n",
      "1340.0\n",
      "1343.0\n",
      "1346.0\n",
      "1349.0\n",
      "1352.0\n",
      "1355.0\n",
      "1358.0\n",
      "1361.0\n",
      "1364.0\n",
      "1367.0\n",
      "1370.0\n",
      "1373.0\n",
      "1376.0\n",
      "1379.0\n",
      "1382.0\n",
      "1385.0\n",
      "1388.0\n",
      "1391.0\n",
      "1394.0\n",
      "1397.0\n",
      "1400.0\n",
      "1403.0\n",
      "1406.0\n",
      "1409.0\n",
      "1412.0\n",
      "1415.0\n",
      "1418.0\n",
      "1421.0\n",
      "1424.0\n",
      "1427.0\n",
      "1430.0\n",
      "1433.0\n",
      "1436.0\n",
      "1439.0\n",
      "1442.0\n",
      "1445.0\n",
      "1448.0\n",
      "1451.0\n",
      "1454.0\n",
      "1457.0\n",
      "1460.0\n",
      "1463.0\n",
      "1466.0\n",
      "1469.0\n",
      "1472.0\n",
      "1475.0\n",
      "1478.0\n",
      "1481.0\n",
      "1484.0\n",
      "1487.0\n",
      "1490.0\n",
      "1493.0\n",
      "1496.0\n",
      "1499.0\n",
      "1503.0\n",
      "1507.0\n",
      "1511.0\n",
      "1515.0\n",
      "1519.0\n",
      "1523.0\n",
      "1527.0\n",
      "1531.0\n",
      "1535.0\n",
      "1539.0\n",
      "1543.0\n",
      "1547.0\n",
      "1551.0\n",
      "1555.0\n",
      "1559.0\n",
      "1563.0\n",
      "1567.0\n",
      "1571.0\n",
      "1575.0\n",
      "1579.0\n",
      "1583.0\n",
      "1587.0\n",
      "1591.0\n",
      "1595.0\n",
      "1599.0\n",
      "1603.0\n",
      "1607.0\n",
      "1611.0\n",
      "1615.0\n",
      "1619.0\n",
      "1623.0\n",
      "1627.0\n",
      "1631.0\n",
      "1635.0\n",
      "1639.0\n",
      "1643.0\n",
      "1647.0\n",
      "1651.0\n",
      "1655.0\n",
      "1659.0\n",
      "1663.0\n",
      "1667.0\n",
      "1671.0\n",
      "1675.0\n",
      "1679.0\n",
      "1683.0\n",
      "1687.0\n",
      "1691.0\n",
      "1695.0\n",
      "1699.0\n",
      "1703.0\n",
      "1707.0\n",
      "1711.0\n",
      "1715.0\n",
      "1719.0\n",
      "1723.0\n",
      "1727.0\n",
      "1731.0\n",
      "1735.0\n",
      "1739.0\n",
      "1743.0\n",
      "1747.0\n",
      "1751.0\n",
      "1755.0\n",
      "1759.0\n",
      "1763.0\n",
      "1767.0\n",
      "1771.0\n",
      "1775.0\n",
      "1779.0\n",
      "1783.0\n",
      "1787.0\n",
      "1791.0\n",
      "1795.0\n",
      "1799.0\n",
      "1803.0\n",
      "1807.0\n",
      "1811.0\n",
      "1815.0\n",
      "1819.0\n",
      "1823.0\n",
      "1827.0\n",
      "1831.0\n",
      "1835.0\n",
      "1839.0\n",
      "1843.0\n",
      "1847.0\n",
      "1851.0\n",
      "1855.0\n",
      "1859.0\n",
      "1863.0\n",
      "1867.0\n",
      "1871.0\n",
      "1875.0\n",
      "1879.0\n",
      "1883.0\n",
      "1887.0\n",
      "1891.0\n",
      "1895.0\n",
      "1899.0\n",
      "1903.0\n",
      "1907.0\n",
      "1911.0\n",
      "1915.0\n",
      "1919.0\n",
      "1923.0\n",
      "1927.0\n",
      "1931.0\n",
      "1935.0\n",
      "1939.0\n",
      "1943.0\n",
      "1947.0\n",
      "1951.0\n",
      "1955.0\n",
      "1959.0\n",
      "1963.0\n",
      "1967.0\n",
      "1971.0\n",
      "1975.0\n",
      "1979.0\n",
      "1983.0\n",
      "1987.0\n",
      "1991.0\n",
      "1995.0\n",
      "1999.0\n"
     ]
    }
   ],
   "source": [
    "import numpy as np\n",
    "X=np.linspace(0,2000,2001)\n",
    "temp=[]\n",
    "c=0\n",
    "n=1\n",
    "for i in X:\n",
    "        c+=1\n",
    "        if c%n==0:\n",
    "            temp.append(i)\n",
    "            print(i)\n",
    "        if c%500==0:\n",
    "            n+=1\n",
    "            "
   ]
  },
  {
   "cell_type": "code",
   "execution_count": 33,
   "metadata": {},
   "outputs": [
    {
     "data": {
      "text/plain": [
       "[<matplotlib.lines.Line2D at 0x21286f8ae50>]"
      ]
     },
     "execution_count": 33,
     "metadata": {},
     "output_type": "execute_result"
    },
    {
     "data": {
      "image/png": "[encoded data removed]",
      "text/plain": [
       "<Figure size 432x288 with 1 Axes>"
      ]
     },
     "metadata": {
      "needs_background": "light"
     },
     "output_type": "display_data"
    }
   ],
   "source": [
    "import numpy as np\n",
    "import matplotlib.pyplot as plt\n",
    "def poly(X,param=1):\n",
    "    return X**2+param*X+1\n",
    "x=np.linspace(-5,5,100)\n",
    "y=poly(x)\n",
    "plt.plot(x,y)"
   ]
  },
  {
   "cell_type": "code",
   "execution_count": 10,
   "metadata": {},
   "outputs": [
    {
     "data": {
      "text/plain": [
       "(1,)"
      ]
     },
     "execution_count": 10,
     "metadata": {},
     "output_type": "execute_result"
    }
   ],
   "source": [
    "np.shape(poly(1))"
   ]
  },
  {
   "cell_type": "code",
   "execution_count": 34,
   "metadata": {},
   "outputs": [
    {
     "name": "stderr",
     "output_type": "stream",
     "text": [
      "C:\\Users\\kiera\\anaconda3\\lib\\site-packages\\scipy\\optimize\\minpack.py:175: RuntimeWarning: The iteration is not making good progress, as measured by the \n",
      "  improvement from the last ten iterations.\n",
      "  warnings.warn(msg, RuntimeWarning)\n"
     ]
    },
    {
     "data": {
      "text/plain": [
       "array([-0.49999999])"
      ]
     },
     "execution_count": 34,
     "metadata": {},
     "output_type": "execute_result"
    }
   ],
   "source": [
    "from scipy.optimize import fsolve\n",
    "fsolve(poly,0)"
   ]
  },
  {
   "cell_type": "code",
   "execution_count": 1,
   "metadata": {},
   "outputs": [
    {
     "data": {
      "text/plain": [
       "False"
      ]
     },
     "execution_count": 1,
     "metadata": {},
     "output_type": "execute_result"
    }
   ],
   "source": [
    "\"\\\"\"==\"''\""
   ]
  }
 ],
 "metadata": {
  "interpreter": {
   "hash": "94f1bd6b8331ef2648928da6da4efbaa8f91d603ad4d080c1313f9abdf4e389f"
  },
  "kernelspec": {
   "display_name": "Python 3.8.12 ('base')",
   "language": "python",
   "name": "python3"
  },
  "language_info": {
   "codemirror_mode": {
    "name": "ipython",
    "version": 3
   },
   "file_extension": ".py",
   "mimetype": "text/x-python",
   "name": "python",
   "nbconvert_exporter": "python",
   "pygments_lexer": "ipython3",
   "version": "3.8.12"
  },
  "orig_nbformat": 4
 },
 "nbformat": 4,
 "nbformat_minor": 2
}
