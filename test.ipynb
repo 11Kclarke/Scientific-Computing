{
 "cells": [
  {
   "cell_type": "code",
   "execution_count": 3,
   "metadata": {},
   "outputs": [
    {
     "data": {
      "text/plain": [
       "type"
      ]
     },
     "execution_count": 3,
     "metadata": {},
     "output_type": "execute_result"
    }
   ],
   "source": [
    "type(type(type(\"lol\")))"
   ]
  },
  {
   "cell_type": "code",
   "execution_count": 19,
   "metadata": {},
   "outputs": [
    {
     "ename": "SyntaxError",
     "evalue": "can't use starred expression here (Temp/ipykernel_7188/3561761331.py, line 7)",
     "output_type": "error",
     "traceback": [
      "\u001b[1;36m  File \u001b[1;32m\"C:\\Users\\kiera\\AppData\\Local\\Temp/ipykernel_7188/3561761331.py\"\u001b[1;36m, line \u001b[1;32m7\u001b[0m\n\u001b[1;33m    *X\u001b[0m\n\u001b[1;37m    ^\u001b[0m\n\u001b[1;31mSyntaxError\u001b[0m\u001b[1;31m:\u001b[0m can't use starred expression here\n"
     ]
    }
   ],
   "source": [
    "from sympy import lambdify, Matrix\n",
    "from sympy.abc import x, y,u,v\n",
    "import numpy\n",
    "array2mat = [{'ImmutableDenseMatrix': numpy.matrix}, 'numpy']\n",
    "f = lambdify((x, u), [u, -x])\n",
    "X = [1,2]\n",
    "f(*X)"
   ]
  },
  {
   "cell_type": "code",
   "execution_count": 16,
   "metadata": {},
   "outputs": [
    {
     "data": {
      "text/plain": [
       "array([ 2, -1])"
      ]
     },
     "execution_count": 16,
     "metadata": {},
     "output_type": "execute_result"
    }
   ],
   "source": [
    "import numpy as np\n",
    "def dX_dt(t, X):\n",
    "    X_dot = np.array([X[1], -X[0]])\n",
    "    return X_dot\n",
    "dX_dt(0,X)"
   ]
  },
  {
   "cell_type": "code",
   "execution_count": 3,
   "metadata": {},
   "outputs": [
    {
     "name": "stdout",
     "output_type": "stream",
     "text": [
      "1\n",
      "2\n",
      "3\n",
      "4\n"
     ]
    }
   ],
   "source": [
    "x=[0,1,2,3,4]\n",
    "for i in range(1,len(x)):\n",
    "    print(x[i])"
   ]
  }
 ],
 "metadata": {
  "interpreter": {
   "hash": "94f1bd6b8331ef2648928da6da4efbaa8f91d603ad4d080c1313f9abdf4e389f"
  },
  "kernelspec": {
   "display_name": "Python 3.8.12 ('base')",
   "language": "python",
   "name": "python3"
  },
  "language_info": {
   "codemirror_mode": {
    "name": "ipython",
    "version": 3
   },
   "file_extension": ".py",
   "mimetype": "text/x-python",
   "name": "python",
   "nbconvert_exporter": "python",
   "pygments_lexer": "ipython3",
   "version": "3.8.12"
  },
  "orig_nbformat": 4
 },
 "nbformat": 4,
 "nbformat_minor": 2
}
