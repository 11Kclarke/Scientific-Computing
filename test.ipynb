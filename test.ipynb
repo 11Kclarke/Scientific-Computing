{
 "cells": [
  {
   "cell_type": "code",
   "execution_count": 3,
   "metadata": {},
   "outputs": [
    {
     "data": {
      "text/plain": [
       "type"
      ]
     },
     "execution_count": 3,
     "metadata": {},
     "output_type": "execute_result"
    }
   ],
   "source": [
    "type(type(type(\"lol\")))"
   ]
  },
  {
   "cell_type": "code",
   "execution_count": 19,
   "metadata": {},
   "outputs": [
    {
     "ename": "SyntaxError",
     "evalue": "can't use starred expression here (Temp/ipykernel_7188/3561761331.py, line 7)",
     "output_type": "error",
     "traceback": [
      "\u001b[1;36m  File \u001b[1;32m\"C:\\Users\\kiera\\AppData\\Local\\Temp/ipykernel_7188/3561761331.py\"\u001b[1;36m, line \u001b[1;32m7\u001b[0m\n\u001b[1;33m    *X\u001b[0m\n\u001b[1;37m    ^\u001b[0m\n\u001b[1;31mSyntaxError\u001b[0m\u001b[1;31m:\u001b[0m can't use starred expression here\n"
     ]
    }
   ],
   "source": [
    "from sympy import lambdify, Matrix\n",
    "from sympy.abc import x, c\n",
    "import numpy\n",
    "array2mat = [{'ImmutableDenseMatrix': numpy.matrix}, 'numpy']\n",
    "f = lambdify((x, u), [u, -x])\n",
    "X = [1,2]\n",
    "f(*X)"
   ]
  },
  {
   "cell_type": "code",
   "execution_count": 16,
   "metadata": {},
   "outputs": [
    {
     "data": {
      "text/plain": [
       "array([ 2, -1])"
      ]
     },
     "execution_count": 16,
     "metadata": {},
     "output_type": "execute_result"
    }
   ],
   "source": [
    "import numpy as np\n",
    "def dX_dt(t, X):\n",
    "    X_dot = np.array([X[1], -X[0]])\n",
    "    return X_dot\n",
    "dX_dt(0,X)"
   ]
  },
  {
   "cell_type": "code",
   "execution_count": 3,
   "metadata": {},
   "outputs": [
    {
     "name": "stdout",
     "output_type": "stream",
     "text": [
      "1\n",
      "2\n",
      "3\n",
      "4\n"
     ]
    }
   ],
   "source": [
    "x=[0,1,2,3,4]\n",
    "for i in range(1,len(x)):\n",
    "    print(x[i])"
   ]
  },
  {
   "cell_type": "code",
   "execution_count": 35,
   "metadata": {},
   "outputs": [],
   "source": [
    "def fsolvenotshit(f,numsolutions,domain,params=None,checks=10):\n",
    "    \n",
    "    #domain has 2 values for each dimension of fs input\n",
    "    ranges=[]\n",
    "    for i in domain:\n",
    "        ranges.append(np.linspace(i[0],i[1],checks))\n",
    "    #list of lists of input vals\n",
    "    solutions = []\n",
    "    #print(params)\n",
    "    for i in ranges:\n",
    "        for j in i:\n",
    "            #print(j)\n",
    "            sol=fsolve(f,j)\n",
    "            if sol[0] not in solutions:\n",
    "                solutions.append(sol[0])\n",
    "            if len(solutions)==numsolutions:\n",
    "                \n",
    "                return [i for i in solutions if i]\n",
    "    print(\"did not find intended number of solutions\")\n",
    "    return [i for i in solutions if i]\n"
   ]
  },
  {
   "cell_type": "code",
   "execution_count": 30,
   "metadata": {},
   "outputs": [],
   "source": [
    "import sympy as sp"
   ]
  },
  {
   "cell_type": "code",
   "execution_count": 36,
   "metadata": {},
   "outputs": [
    {
     "name": "stdout",
     "output_type": "stream",
     "text": [
      "-9.42477796076938\n",
      "18.849555921538744\n",
      "-6.283185307179586\n",
      "-3.141592653589793\n",
      "0.0\n",
      "3.141592653589793\n",
      "6.283185307179586\n",
      "-18.849555921538744\n",
      "9.42477796076938\n",
      "did not find intended number of solutions\n",
      "[-9.42477796076938, 18.849555921538744, -6.283185307179586, -3.141592653589793, 3.141592653589793, 6.283185307179586, -18.849555921538744, 9.42477796076938]\n"
     ]
    }
   ],
   "source": [
    "f = lambdify(x, sp.sin(x))\n",
    "k=fsolvenotshit(f,16,[[-10,10]])\n",
    "print(k)\n"
   ]
  },
  {
   "cell_type": "code",
   "execution_count": 20,
   "metadata": {},
   "outputs": [
    {
     "name": "stderr",
     "output_type": "stream",
     "text": [
      "C:\\Users\\kiera\\anaconda3\\lib\\site-packages\\scipy\\optimize\\minpack.py:175: RuntimeWarning: The iteration is not making good progress, as measured by the \n",
      "  improvement from the last five Jacobian evaluations.\n",
      "  warnings.warn(msg, RuntimeWarning)\n",
      "C:\\Users\\kiera\\anaconda3\\lib\\site-packages\\scipy\\optimize\\minpack.py:175: RuntimeWarning: The iteration is not making good progress, as measured by the \n",
      "  improvement from the last ten iterations.\n",
      "  warnings.warn(msg, RuntimeWarning)\n"
     ]
    },
    {
     "data": {
      "text/plain": [
       "[<matplotlib.lines.Line2D at 0x164374b7250>]"
      ]
     },
     "execution_count": 20,
     "metadata": {},
     "output_type": "execute_result"
    },
    {
     "data": {
      "image/png": "[encoded data removed]",
      "text/plain": [
       "<Figure size 432x288 with 1 Axes>"
      ]
     },
     "metadata": {
      "needs_background": "light"
     },
     "output_type": "display_data"
    }
   ],
   "source": [
    "from sympy import lambdify, Matrix\n",
    "from sympy.abc import x, c\n",
    "from scipy.optimize import fsolve\n",
    "import matplotlib.pyplot as plt\n",
    "import numpy as np\n",
    "n=1000#number of parameter values\n",
    "xvals=np.linspace(-1,1,1000)\n",
    "cvals = np.linspace(-2,2,n)\n",
    "sol=np.zeros(n+1)\n",
    "k=1\n",
    "for i in cvals:\n",
    "    f = lambdify(x, x**3-x+i)\n",
    "    sol[k]=fsolvenotshit(f,10,[[-10,10]])\n",
    "    #plt.plot(f(xvals))\n",
    "    \n",
    "plt.plot(cvals,sol[0:-1])\n"
   ]
  },
  {
   "cell_type": "code",
   "execution_count": 12,
   "metadata": {},
   "outputs": [
    {
     "data": {
      "text/plain": [
       "array([[1, 2, 0, 0, 0],\n",
       "       [3, 1, 2, 0, 0],\n",
       "       [0, 3, 1, 2, 0],\n",
       "       [0, 0, 3, 1, 2],\n",
       "       [0, 0, 0, 3, 1]])"
      ]
     },
     "execution_count": 12,
     "metadata": {},
     "output_type": "execute_result"
    }
   ],
   "source": [
    "import numpy as np\n",
    "mx=6\n",
    "d = np.diag([1]*(mx-1))\n",
    "d1 = np.diag([2]*(mx-2),k=1)\n",
    "d2 = np.diag([3]*(mx-2),k=-1)\n",
    "A=d+d1+d2\n",
    "A"
   ]
  },
  {
   "cell_type": "code",
   "execution_count": 13,
   "metadata": {},
   "outputs": [],
   "source": [
    "def TDMAsolver(a, b, c, d):\n",
    "    '''\n",
    "    TDMA solver, a b c d can be NumPy array type or Python list type.\n",
    "    refer to http://en.wikipedia.org/wiki/Tridiagonal_matrix_algorithm\n",
    "    and to http://www.cfd-online.com/Wiki/Tridiagonal_matrix_algorithm_-_TDMA_(Thomas_algorithm)\n",
    "    '''\n",
    "    nf = len(d) # number of equations\n",
    "    ac, bc, cc, dc = map(np.array, (a, b, c, d)) # copy arrays\n",
    "    for it in range(1, nf):\n",
    "        mc = ac[it-1]/bc[it-1]\n",
    "        bc[it] = bc[it] - mc*cc[it-1] \n",
    "        dc[it] = dc[it] - mc*dc[it-1]\n",
    "        \t    \n",
    "    xc = bc\n",
    "    xc[-1] = dc[-1]/bc[-1]\n",
    "\n",
    "    for il in range(nf-2, -1, -1):\n",
    "        xc[il] = (dc[il]-cc[il]*xc[il+1])/bc[il]\n",
    "\n",
    "    return xc"
   ]
  },
  {
   "cell_type": "code",
   "execution_count": 14,
   "metadata": {},
   "outputs": [
    {
     "name": "stdout",
     "output_type": "stream",
     "text": [
      "[ 0.14877589  0.75612053 -1.00188324  2.25141243]\n"
     ]
    }
   ],
   "source": [
    "A = np.array([[10,2,0,0],[3,10,4,0],[0,1,7,5],[0,0,3,4]],dtype=float)   \n",
    "\n",
    "a = np.array([3.,1,3]) \n",
    "b = np.array([10.,10.,7.,4.])\n",
    "c = np.array([2.,4.,5.])\n",
    "d = np.array([3,4,5,6.])\n",
    "\n",
    "print (TDMAsolver(a, b, c, d))"
   ]
  },
  {
   "cell_type": "code",
   "execution_count": 15,
   "metadata": {},
   "outputs": [
    {
     "name": "stdout",
     "output_type": "stream",
     "text": [
      "[[10.  2.  0.  0.]\n",
      " [ 3. 10.  4.  0.]\n",
      " [ 0.  1.  7.  5.]\n",
      " [ 0.  0.  3.  4.]]\n"
     ]
    }
   ],
   "source": [
    "print(A)"
   ]
  },
  {
   "cell_type": "code",
   "execution_count": 3,
   "metadata": {},
   "outputs": [
    {
     "name": "stderr",
     "output_type": "stream",
     "text": [
      "C:\\Users\\kiera\\anaconda3\\lib\\site-packages\\matplotlib\\animation.py:889: UserWarning: Animation was deleted without rendering anything. This is most likely not intended. To prevent deletion, assign the Animation to a variable, e.g. `anim`, that exists until you have outputted the Animation using `plt.show()` or `anim.save()`.\n",
      "  warnings.warn(\n"
     ]
    },
    {
     "data": {
      "image/png": "[encoded data removed]",
      "text/plain": [
       "<Figure size 432x288 with 2 Axes>"
      ]
     },
     "metadata": {
      "needs_background": "light"
     },
     "output_type": "display_data"
    }
   ],
   "source": [
    "import numpy as np\n",
    "import seaborn as sns\n",
    "import matplotlib.pyplot as plt\n",
    "from matplotlib import animation\n",
    "\n",
    "fig = plt.figure()\n",
    "data = np.random.rand(10, 10)\n",
    "sns.heatmap(data, vmax=.8, square=True)\n",
    "\n",
    "def init():\n",
    "      sns.heatmap(np.zeros((10, 10)), vmax=.8, square=True, cbar=False)\n",
    "\n",
    "def animate(i,data=[]):\n",
    "\n",
    "    sns.heatmap(data[i], vmax=.8, square=True, cbar=False)\n",
    "\n",
    "anim = animation.FuncAnimation(fig, animate, init_func=init, frames=20, repeat = False)\n"
   ]
  },
  {
   "cell_type": "code",
   "execution_count": 6,
   "metadata": {},
   "outputs": [
    {
     "data": {
      "text/plain": [
       "array([0., 0., 0., 0., 0., 0., 0., 0., 0., 0., 0., 0., 0., 0., 0., 0., 0.,\n",
       "       0., 0., 0., 0., 0., 0., 0., 0., 0., 0., 0., 0., 0., 0., 0., 0., 0.,\n",
       "       0., 0., 0., 0., 0., 0., 0., 0., 0., 0., 0., 0., 0., 0., 0., 0., 0.,\n",
       "       0., 0., 0., 0., 0., 0., 0., 0., 0., 0., 0., 0., 0., 0., 0., 0., 0.,\n",
       "       0., 0., 0., 0., 0., 0., 0., 0., 0., 0., 0., 0., 0., 0., 0., 0., 0.,\n",
       "       0., 0., 0., 0., 0., 0., 0., 0., 0., 0., 0., 0., 0., 0., 0.])"
      ]
     },
     "execution_count": 6,
     "metadata": {},
     "output_type": "execute_result"
    }
   ],
   "source": [
    "np.zeros((10, 10)).flatten()"
   ]
  },
  {
   "cell_type": "code",
   "execution_count": 7,
   "metadata": {},
   "outputs": [
    {
     "data": {
      "text/plain": [
       "array([[0., 0., 0., 0., 0., 0., 0., 0., 0., 0.],\n",
       "       [0., 0., 0., 0., 0., 0., 0., 0., 0., 0.],\n",
       "       [0., 0., 0., 0., 0., 0., 0., 0., 0., 0.],\n",
       "       [0., 0., 0., 0., 0., 0., 0., 0., 0., 0.],\n",
       "       [0., 0., 0., 0., 0., 0., 0., 0., 0., 0.],\n",
       "       [0., 0., 0., 0., 0., 0., 0., 0., 0., 0.],\n",
       "       [0., 0., 0., 0., 0., 0., 0., 0., 0., 0.],\n",
       "       [0., 0., 0., 0., 0., 0., 0., 0., 0., 0.],\n",
       "       [0., 0., 0., 0., 0., 0., 0., 0., 0., 0.],\n",
       "       [0., 0., 0., 0., 0., 0., 0., 0., 0., 0.]])"
      ]
     },
     "execution_count": 7,
     "metadata": {},
     "output_type": "execute_result"
    }
   ],
   "source": [
    "np.zeros((10, 10))"
   ]
  },
  {
   "cell_type": "code",
   "execution_count": 25,
   "metadata": {},
   "outputs": [
    {
     "name": "stdout",
     "output_type": "stream",
     "text": [
      "(11,)\n",
      "[[0.  0. ]\n",
      " [0.  0.5]\n",
      " [0.  1. ]\n",
      " [0.  1.5]\n",
      " [0.  2. ]\n",
      " [0.  2.5]\n",
      " [0.  3. ]\n",
      " [0.  3.5]\n",
      " [0.  4. ]\n",
      " [0.  4.5]\n",
      " [0.  5. ]]\n",
      "[[0.5 0. ]\n",
      " [0.5 0.5]\n",
      " [0.5 1. ]\n",
      " [0.5 1.5]\n",
      " [0.5 2. ]\n",
      " [0.5 2.5]\n",
      " [0.5 3. ]\n",
      " [0.5 3.5]\n",
      " [0.5 4. ]\n",
      " [0.5 4.5]\n",
      " [0.5 5. ]]\n",
      "[[1.  0. ]\n",
      " [1.  0.5]\n",
      " [1.  1. ]\n",
      " [1.  1.5]\n",
      " [1.  2. ]\n",
      " [1.  2.5]\n",
      " [1.  3. ]\n",
      " [1.  3.5]\n",
      " [1.  4. ]\n",
      " [1.  4.5]\n",
      " [1.  5. ]]\n",
      "[[1.5 0. ]\n",
      " [1.5 0.5]\n",
      " [1.5 1. ]\n",
      " [1.5 1.5]\n",
      " [1.5 2. ]\n",
      " [1.5 2.5]\n",
      " [1.5 3. ]\n",
      " [1.5 3.5]\n",
      " [1.5 4. ]\n",
      " [1.5 4.5]\n",
      " [1.5 5. ]]\n",
      "[[2.  0. ]\n",
      " [2.  0.5]\n",
      " [2.  1. ]\n",
      " [2.  1.5]\n",
      " [2.  2. ]\n",
      " [2.  2.5]\n",
      " [2.  3. ]\n",
      " [2.  3.5]\n",
      " [2.  4. ]\n",
      " [2.  4.5]\n",
      " [2.  5. ]]\n",
      "[[2.5 0. ]\n",
      " [2.5 0.5]\n",
      " [2.5 1. ]\n",
      " [2.5 1.5]\n",
      " [2.5 2. ]\n",
      " [2.5 2.5]\n",
      " [2.5 3. ]\n",
      " [2.5 3.5]\n",
      " [2.5 4. ]\n",
      " [2.5 4.5]\n",
      " [2.5 5. ]]\n",
      "[[3.  0. ]\n",
      " [3.  0.5]\n",
      " [3.  1. ]\n",
      " [3.  1.5]\n",
      " [3.  2. ]\n",
      " [3.  2.5]\n",
      " [3.  3. ]\n",
      " [3.  3.5]\n",
      " [3.  4. ]\n",
      " [3.  4.5]\n",
      " [3.  5. ]]\n",
      "[[3.5 0. ]\n",
      " [3.5 0.5]\n",
      " [3.5 1. ]\n",
      " [3.5 1.5]\n",
      " [3.5 2. ]\n",
      " [3.5 2.5]\n",
      " [3.5 3. ]\n",
      " [3.5 3.5]\n",
      " [3.5 4. ]\n",
      " [3.5 4.5]\n",
      " [3.5 5. ]]\n",
      "[[4.  0. ]\n",
      " [4.  0.5]\n",
      " [4.  1. ]\n",
      " [4.  1.5]\n",
      " [4.  2. ]\n",
      " [4.  2.5]\n",
      " [4.  3. ]\n",
      " [4.  3.5]\n",
      " [4.  4. ]\n",
      " [4.  4.5]\n",
      " [4.  5. ]]\n",
      "[[4.5 0. ]\n",
      " [4.5 0.5]\n",
      " [4.5 1. ]\n",
      " [4.5 1.5]\n",
      " [4.5 2. ]\n",
      " [4.5 2.5]\n",
      " [4.5 3. ]\n",
      " [4.5 3.5]\n",
      " [4.5 4. ]\n",
      " [4.5 4.5]\n",
      " [4.5 5. ]]\n",
      "[[5.  0. ]\n",
      " [5.  0.5]\n",
      " [5.  1. ]\n",
      " [5.  1.5]\n",
      " [5.  2. ]\n",
      " [5.  2.5]\n",
      " [5.  3. ]\n",
      " [5.  3.5]\n",
      " [5.  4. ]\n",
      " [5.  4.5]\n",
      " [5.  5. ]]\n"
     ]
    }
   ],
   "source": [
    "L=5\n",
    "xvals = np.linspace(0,L,11)\n",
    "print(xvals.shape)\n",
    "xvals=np.meshgrid(xvals,xvals)\n",
    "xvals=np.array(xvals).T\n",
    "a=[]\n",
    "for i in xvals:\n",
    "    print(i)\n",
    "  \n",
    "        \n"
   ]
  },
  {
   "cell_type": "code",
   "execution_count": 1,
   "metadata": {},
   "outputs": [],
   "source": [
    "L=1\n",
    "def u_I2d(x):\n",
    "    pi=np.pi\n",
    "    # initial temperature distribution\n",
    "    print(\"in func\")\n",
    "    print(x)\n",
    "    print(np.array([np.sin(pi*x[0]/L),np.sin(pi*x[1]/L)]))\n",
    "    return np.array([np.sin(pi*x[0]/L),np.sin(pi*x[1]/L)])"
   ]
  },
  {
   "cell_type": "code",
   "execution_count": null,
   "metadata": {},
   "outputs": [],
   "source": [
    "def applyinnitial(X,f,shape):\n",
    "    if X.shape != shape:\n",
    "        applyinnitial(X[i],f,shape)\n",
    "        "
   ]
  },
  {
   "cell_type": "code",
   "execution_count": 1,
   "metadata": {},
   "outputs": [],
   "source": [
    "import matplotlib.pyplot as plt\n",
    "import numpy as np\n",
    "L=2\n",
    "def u_I(x):\n",
    "    # initial temperature distribution\n",
    "    y = np.sin(np.pi*x/L)\n",
    "    return y"
   ]
  },
  {
   "cell_type": "code",
   "execution_count": 2,
   "metadata": {},
   "outputs": [
    {
     "data": {
      "text/plain": [
       "array([-1.        , -0.98743889, -0.95007112, -0.88883545, -0.80527026,\n",
       "       -0.70147489, -0.58005691, -0.44406661, -0.29692038, -0.14231484,\n",
       "        0.01586596,  0.17364818,  0.32706796,  0.47227107,  0.60560969,\n",
       "        0.72373404,  0.82367658,  0.90292654,  0.95949297,  0.99195481,\n",
       "        0.99949654,  0.9819287 ,  0.93969262,  0.87384938,  0.78605309,\n",
       "        0.67850941,  0.55392006,  0.41541501,  0.26647381,  0.1108382 ,\n",
       "       -0.04758192, -0.20480667, -0.35688622, -0.5       , -0.63055267,\n",
       "       -0.74526445, -0.84125353, -0.91610846, -0.9679487 , -0.99547192,\n",
       "       -0.99798668, -0.97542979, -0.92836793, -0.85798341, -0.76604444,\n",
       "       -0.65486073, -0.52722547, -0.38634513, -0.23575894, -0.07924996,\n",
       "        0.07924996,  0.23575894,  0.38634513,  0.52722547,  0.65486073,\n",
       "        0.76604444,  0.85798341,  0.92836793,  0.97542979,  0.99798668,\n",
       "        0.99547192,  0.9679487 ,  0.91610846,  0.84125353,  0.74526445,\n",
       "        0.63055267,  0.5       ,  0.35688622,  0.20480667,  0.04758192,\n",
       "       -0.1108382 , -0.26647381, -0.41541501, -0.55392006, -0.67850941,\n",
       "       -0.78605309, -0.87384938, -0.93969262, -0.9819287 , -0.99949654,\n",
       "       -0.99195481, -0.95949297, -0.90292654, -0.82367658, -0.72373404,\n",
       "       -0.60560969, -0.47227107, -0.32706796, -0.17364818, -0.01586596,\n",
       "        0.14231484,  0.29692038,  0.44406661,  0.58005691,  0.70147489,\n",
       "        0.80527026,  0.88883545,  0.95007112,  0.98743889,  1.        ])"
      ]
     },
     "execution_count": 2,
     "metadata": {},
     "output_type": "execute_result"
    }
   ],
   "source": [
    "xvals = np.linspace(-5,5,100)\n",
    "u_I(xvals)"
   ]
  },
  {
   "cell_type": "code",
   "execution_count": 34,
   "metadata": {},
   "outputs": [],
   "source": [
    "L=2\n",
    "def u_I2d(x):\n",
    "    # initial temperature distribution\n",
    "    \n",
    "    return np.array([np.sin(np.pi*x[0]/L),np.cos(np.pi*x[1]/L)])\n",
    " "
   ]
  },
  {
   "cell_type": "code",
   "execution_count": 37,
   "metadata": {},
   "outputs": [
    {
     "data": {
      "text/plain": [
       "[array([[-5.       , -4.8989899, -4.7979798, ...,  4.7979798,  4.8989899,\n",
       "          5.       ],\n",
       "        [-5.       , -4.8989899, -4.7979798, ...,  4.7979798,  4.8989899,\n",
       "          5.       ],\n",
       "        [-5.       , -4.8989899, -4.7979798, ...,  4.7979798,  4.8989899,\n",
       "          5.       ],\n",
       "        ...,\n",
       "        [-5.       , -4.8989899, -4.7979798, ...,  4.7979798,  4.8989899,\n",
       "          5.       ],\n",
       "        [-5.       , -4.8989899, -4.7979798, ...,  4.7979798,  4.8989899,\n",
       "          5.       ],\n",
       "        [-5.       , -4.8989899, -4.7979798, ...,  4.7979798,  4.8989899,\n",
       "          5.       ]]),\n",
       " array([[-5.       , -5.       , -5.       , ..., -5.       , -5.       ,\n",
       "         -5.       ],\n",
       "        [-4.8989899, -4.8989899, -4.8989899, ..., -4.8989899, -4.8989899,\n",
       "         -4.8989899],\n",
       "        [-4.7979798, -4.7979798, -4.7979798, ..., -4.7979798, -4.7979798,\n",
       "         -4.7979798],\n",
       "        ...,\n",
       "        [ 4.7979798,  4.7979798,  4.7979798, ...,  4.7979798,  4.7979798,\n",
       "          4.7979798],\n",
       "        [ 4.8989899,  4.8989899,  4.8989899, ...,  4.8989899,  4.8989899,\n",
       "          4.8989899],\n",
       "        [ 5.       ,  5.       ,  5.       , ...,  5.       ,  5.       ,\n",
       "          5.       ]])]"
      ]
     },
     "execution_count": 37,
     "metadata": {},
     "output_type": "execute_result"
    }
   ],
   "source": [
    "A=np.meshgrid(xvals, xvals)\n",
    "A"
   ]
  },
  {
   "cell_type": "code",
   "execution_count": 39,
   "metadata": {},
   "outputs": [],
   "source": [
    "def create2dgrid(min,max,steps):\n",
    "    A=[]\n",
    "    max=5\n",
    "    x=y=min=0\n",
    "    steps = 10\n",
    "    stepsize=(max-x)/steps\n",
    "    for j in range(steps):\n",
    "        for i in range(steps):\n",
    "            x+=stepsize\n",
    "            A.append((x,y))\n",
    "        x=min\n",
    "        y+=stepsize\n",
    "    return A\n"
   ]
  },
  {
   "cell_type": "code",
   "execution_count": 25,
   "metadata": {},
   "outputs": [
    {
     "name": "stdout",
     "output_type": "stream",
     "text": [
      "[(0.5, 0), (1.0, 0), (1.5, 0), (2.0, 0), (2.5, 0), (3.0, 0), (3.5, 0), (4.0, 0), (4.5, 0), (5.0, 0), (0.5, 0.5), (1.0, 0.5), (1.5, 0.5), (2.0, 0.5), (2.5, 0.5), (3.0, 0.5), (3.5, 0.5), (4.0, 0.5), (4.5, 0.5), (5.0, 0.5), (0.5, 1.0), (1.0, 1.0), (1.5, 1.0), (2.0, 1.0), (2.5, 1.0), (3.0, 1.0), (3.5, 1.0), (4.0, 1.0), (4.5, 1.0), (5.0, 1.0), (0.5, 1.5), (1.0, 1.5), (1.5, 1.5), (2.0, 1.5), (2.5, 1.5), (3.0, 1.5), (3.5, 1.5), (4.0, 1.5), (4.5, 1.5), (5.0, 1.5), (0.5, 2.0), (1.0, 2.0), (1.5, 2.0), (2.0, 2.0), (2.5, 2.0), (3.0, 2.0), (3.5, 2.0), (4.0, 2.0), (4.5, 2.0), (5.0, 2.0), (0.5, 2.5), (1.0, 2.5), (1.5, 2.5), (2.0, 2.5), (2.5, 2.5), (3.0, 2.5), (3.5, 2.5), (4.0, 2.5), (4.5, 2.5), (5.0, 2.5), (0.5, 3.0), (1.0, 3.0), (1.5, 3.0), (2.0, 3.0), (2.5, 3.0), (3.0, 3.0), (3.5, 3.0), (4.0, 3.0), (4.5, 3.0), (5.0, 3.0), (0.5, 3.5), (1.0, 3.5), (1.5, 3.5), (2.0, 3.5), (2.5, 3.5), (3.0, 3.5), (3.5, 3.5), (4.0, 3.5), (4.5, 3.5), (5.0, 3.5), (0.5, 4.0), (1.0, 4.0), (1.5, 4.0), (2.0, 4.0), (2.5, 4.0), (3.0, 4.0), (3.5, 4.0), (4.0, 4.0), (4.5, 4.0), (5.0, 4.0), (0.5, 4.5), (1.0, 4.5), (1.5, 4.5), (2.0, 4.5), (2.5, 4.5), (3.0, 4.5), (3.5, 4.5), (4.0, 4.5), (4.5, 4.5), (5.0, 4.5)]\n"
     ]
    },
    {
     "ename": "TypeError",
     "evalue": "can't multiply sequence by non-int of type 'float'",
     "output_type": "error",
     "traceback": [
      "\u001b[1;31m---------------------------------------------------------------------------\u001b[0m",
      "\u001b[1;31mTypeError\u001b[0m                                 Traceback (most recent call last)",
      "\u001b[1;32m~\\AppData\\Local\\Temp/ipykernel_9852/1494029193.py\u001b[0m in \u001b[0;36m<module>\u001b[1;34m\u001b[0m\n\u001b[1;32m----> 1\u001b[1;33m \u001b[0mu_I2d\u001b[0m\u001b[1;33m(\u001b[0m\u001b[0mA\u001b[0m\u001b[1;33m)\u001b[0m\u001b[1;33m\u001b[0m\u001b[1;33m\u001b[0m\u001b[0m\n\u001b[0m",
      "\u001b[1;32m~\\AppData\\Local\\Temp/ipykernel_9852/1770875923.py\u001b[0m in \u001b[0;36mu_I2d\u001b[1;34m(x)\u001b[0m\n\u001b[0;32m      3\u001b[0m     \u001b[1;31m# initial temperature distribution\u001b[0m\u001b[1;33m\u001b[0m\u001b[1;33m\u001b[0m\u001b[1;33m\u001b[0m\u001b[0m\n\u001b[0;32m      4\u001b[0m     \u001b[0mprint\u001b[0m\u001b[1;33m(\u001b[0m\u001b[0mx\u001b[0m\u001b[1;33m)\u001b[0m\u001b[1;33m\u001b[0m\u001b[1;33m\u001b[0m\u001b[0m\n\u001b[1;32m----> 5\u001b[1;33m     \u001b[1;32mreturn\u001b[0m \u001b[0mnp\u001b[0m\u001b[1;33m.\u001b[0m\u001b[0marray\u001b[0m\u001b[1;33m(\u001b[0m\u001b[1;33m[\u001b[0m\u001b[0mnp\u001b[0m\u001b[1;33m.\u001b[0m\u001b[0msin\u001b[0m\u001b[1;33m(\u001b[0m\u001b[0mnp\u001b[0m\u001b[1;33m.\u001b[0m\u001b[0mpi\u001b[0m\u001b[1;33m*\u001b[0m\u001b[0mx\u001b[0m\u001b[1;33m[\u001b[0m\u001b[1;36m0\u001b[0m\u001b[1;33m]\u001b[0m\u001b[1;33m/\u001b[0m\u001b[0mL\u001b[0m\u001b[1;33m)\u001b[0m\u001b[1;33m,\u001b[0m\u001b[0mnp\u001b[0m\u001b[1;33m.\u001b[0m\u001b[0mcos\u001b[0m\u001b[1;33m(\u001b[0m\u001b[0mnp\u001b[0m\u001b[1;33m.\u001b[0m\u001b[0mpi\u001b[0m\u001b[1;33m*\u001b[0m\u001b[0mx\u001b[0m\u001b[1;33m[\u001b[0m\u001b[1;36m1\u001b[0m\u001b[1;33m]\u001b[0m\u001b[1;33m/\u001b[0m\u001b[0mL\u001b[0m\u001b[1;33m)\u001b[0m\u001b[1;33m]\u001b[0m\u001b[1;33m)\u001b[0m\u001b[1;33m\u001b[0m\u001b[1;33m\u001b[0m\u001b[0m\n\u001b[0m\u001b[0;32m      6\u001b[0m \u001b[1;33m\u001b[0m\u001b[0m\n",
      "\u001b[1;31mTypeError\u001b[0m: can't multiply sequence by non-int of type 'float'"
     ]
    }
   ],
   "source": [
    "u_I2d(A)"
   ]
  },
  {
   "cell_type": "code",
   "execution_count": 33,
   "metadata": {},
   "outputs": [
    {
     "name": "stdout",
     "output_type": "stream",
     "text": [
      "(0.5, 0)\n",
      "(1.0, 0)\n",
      "(1.5, 0)\n",
      "(2.0, 0)\n",
      "(2.5, 0)\n",
      "(3.0, 0)\n",
      "(3.5, 0)\n",
      "(4.0, 0)\n",
      "(4.5, 0)\n",
      "(5.0, 0)\n",
      "(0.5, 0.5)\n",
      "(1.0, 0.5)\n",
      "(1.5, 0.5)\n",
      "(2.0, 0.5)\n",
      "(2.5, 0.5)\n",
      "(3.0, 0.5)\n",
      "(3.5, 0.5)\n",
      "(4.0, 0.5)\n",
      "(4.5, 0.5)\n",
      "(5.0, 0.5)\n",
      "(0.5, 1.0)\n",
      "(1.0, 1.0)\n",
      "(1.5, 1.0)\n",
      "(2.0, 1.0)\n",
      "(2.5, 1.0)\n",
      "(3.0, 1.0)\n",
      "(3.5, 1.0)\n",
      "(4.0, 1.0)\n",
      "(4.5, 1.0)\n",
      "(5.0, 1.0)\n",
      "(0.5, 1.5)\n",
      "(1.0, 1.5)\n",
      "(1.5, 1.5)\n",
      "(2.0, 1.5)\n",
      "(2.5, 1.5)\n",
      "(3.0, 1.5)\n",
      "(3.5, 1.5)\n",
      "(4.0, 1.5)\n",
      "(4.5, 1.5)\n",
      "(5.0, 1.5)\n",
      "(0.5, 2.0)\n",
      "(1.0, 2.0)\n",
      "(1.5, 2.0)\n",
      "(2.0, 2.0)\n",
      "(2.5, 2.0)\n",
      "(3.0, 2.0)\n",
      "(3.5, 2.0)\n",
      "(4.0, 2.0)\n",
      "(4.5, 2.0)\n",
      "(5.0, 2.0)\n",
      "(0.5, 2.5)\n",
      "(1.0, 2.5)\n",
      "(1.5, 2.5)\n",
      "(2.0, 2.5)\n",
      "(2.5, 2.5)\n",
      "(3.0, 2.5)\n",
      "(3.5, 2.5)\n",
      "(4.0, 2.5)\n",
      "(4.5, 2.5)\n",
      "(5.0, 2.5)\n",
      "(0.5, 3.0)\n",
      "(1.0, 3.0)\n",
      "(1.5, 3.0)\n",
      "(2.0, 3.0)\n",
      "(2.5, 3.0)\n",
      "(3.0, 3.0)\n",
      "(3.5, 3.0)\n",
      "(4.0, 3.0)\n",
      "(4.5, 3.0)\n",
      "(5.0, 3.0)\n",
      "(0.5, 3.5)\n",
      "(1.0, 3.5)\n",
      "(1.5, 3.5)\n",
      "(2.0, 3.5)\n",
      "(2.5, 3.5)\n",
      "(3.0, 3.5)\n",
      "(3.5, 3.5)\n",
      "(4.0, 3.5)\n",
      "(4.5, 3.5)\n",
      "(5.0, 3.5)\n",
      "(0.5, 4.0)\n",
      "(1.0, 4.0)\n",
      "(1.5, 4.0)\n",
      "(2.0, 4.0)\n",
      "(2.5, 4.0)\n",
      "(3.0, 4.0)\n",
      "(3.5, 4.0)\n",
      "(4.0, 4.0)\n",
      "(4.5, 4.0)\n",
      "(5.0, 4.0)\n",
      "(0.5, 4.5)\n",
      "(1.0, 4.5)\n",
      "(1.5, 4.5)\n",
      "(2.0, 4.5)\n",
      "(2.5, 4.5)\n",
      "(3.0, 4.5)\n",
      "(3.5, 4.5)\n",
      "(4.0, 4.5)\n",
      "(4.5, 4.5)\n",
      "(5.0, 4.5)\n"
     ]
    },
    {
     "data": {
      "text/plain": [
       "[array([0.70710678, 1.        ]),\n",
       " array([1., 1.]),\n",
       " array([0.70710678, 1.        ]),\n",
       " array([1.2246468e-16, 1.0000000e+00]),\n",
       " array([-0.70710678,  1.        ]),\n",
       " array([-1.,  1.]),\n",
       " array([-0.70710678,  1.        ]),\n",
       " array([-2.4492936e-16,  1.0000000e+00]),\n",
       " array([0.70710678, 1.        ]),\n",
       " array([1., 1.]),\n",
       " array([0.70710678, 0.70710678]),\n",
       " array([1.        , 0.70710678]),\n",
       " array([0.70710678, 0.70710678]),\n",
       " array([1.22464680e-16, 7.07106781e-01]),\n",
       " array([-0.70710678,  0.70710678]),\n",
       " array([-1.        ,  0.70710678]),\n",
       " array([-0.70710678,  0.70710678]),\n",
       " array([-2.44929360e-16,  7.07106781e-01]),\n",
       " array([0.70710678, 0.70710678]),\n",
       " array([1.        , 0.70710678]),\n",
       " array([7.07106781e-01, 6.12323400e-17]),\n",
       " array([1.000000e+00, 6.123234e-17]),\n",
       " array([7.07106781e-01, 6.12323400e-17]),\n",
       " array([1.2246468e-16, 6.1232340e-17]),\n",
       " array([-7.07106781e-01,  6.12323400e-17]),\n",
       " array([-1.000000e+00,  6.123234e-17]),\n",
       " array([-7.07106781e-01,  6.12323400e-17]),\n",
       " array([-2.4492936e-16,  6.1232340e-17]),\n",
       " array([7.07106781e-01, 6.12323400e-17]),\n",
       " array([1.000000e+00, 6.123234e-17]),\n",
       " array([ 0.70710678, -0.70710678]),\n",
       " array([ 1.        , -0.70710678]),\n",
       " array([ 0.70710678, -0.70710678]),\n",
       " array([ 1.22464680e-16, -7.07106781e-01]),\n",
       " array([-0.70710678, -0.70710678]),\n",
       " array([-1.        , -0.70710678]),\n",
       " array([-0.70710678, -0.70710678]),\n",
       " array([-2.44929360e-16, -7.07106781e-01]),\n",
       " array([ 0.70710678, -0.70710678]),\n",
       " array([ 1.        , -0.70710678]),\n",
       " array([ 0.70710678, -1.        ]),\n",
       " array([ 1., -1.]),\n",
       " array([ 0.70710678, -1.        ]),\n",
       " array([ 1.2246468e-16, -1.0000000e+00]),\n",
       " array([-0.70710678, -1.        ]),\n",
       " array([-1., -1.]),\n",
       " array([-0.70710678, -1.        ]),\n",
       " array([-2.4492936e-16, -1.0000000e+00]),\n",
       " array([ 0.70710678, -1.        ]),\n",
       " array([ 1., -1.]),\n",
       " array([ 0.70710678, -0.70710678]),\n",
       " array([ 1.        , -0.70710678]),\n",
       " array([ 0.70710678, -0.70710678]),\n",
       " array([ 1.22464680e-16, -7.07106781e-01]),\n",
       " array([-0.70710678, -0.70710678]),\n",
       " array([-1.        , -0.70710678]),\n",
       " array([-0.70710678, -0.70710678]),\n",
       " array([-2.44929360e-16, -7.07106781e-01]),\n",
       " array([ 0.70710678, -0.70710678]),\n",
       " array([ 1.        , -0.70710678]),\n",
       " array([ 7.07106781e-01, -1.83697020e-16]),\n",
       " array([ 1.0000000e+00, -1.8369702e-16]),\n",
       " array([ 7.07106781e-01, -1.83697020e-16]),\n",
       " array([ 1.2246468e-16, -1.8369702e-16]),\n",
       " array([-7.07106781e-01, -1.83697020e-16]),\n",
       " array([-1.0000000e+00, -1.8369702e-16]),\n",
       " array([-7.07106781e-01, -1.83697020e-16]),\n",
       " array([-2.4492936e-16, -1.8369702e-16]),\n",
       " array([ 7.07106781e-01, -1.83697020e-16]),\n",
       " array([ 1.0000000e+00, -1.8369702e-16]),\n",
       " array([0.70710678, 0.70710678]),\n",
       " array([1.        , 0.70710678]),\n",
       " array([0.70710678, 0.70710678]),\n",
       " array([1.22464680e-16, 7.07106781e-01]),\n",
       " array([-0.70710678,  0.70710678]),\n",
       " array([-1.        ,  0.70710678]),\n",
       " array([-0.70710678,  0.70710678]),\n",
       " array([-2.44929360e-16,  7.07106781e-01]),\n",
       " array([0.70710678, 0.70710678]),\n",
       " array([1.        , 0.70710678]),\n",
       " array([0.70710678, 1.        ]),\n",
       " array([1., 1.]),\n",
       " array([0.70710678, 1.        ]),\n",
       " array([1.2246468e-16, 1.0000000e+00]),\n",
       " array([-0.70710678,  1.        ]),\n",
       " array([-1.,  1.]),\n",
       " array([-0.70710678,  1.        ]),\n",
       " array([-2.4492936e-16,  1.0000000e+00]),\n",
       " array([0.70710678, 1.        ]),\n",
       " array([1., 1.]),\n",
       " array([0.70710678, 0.70710678]),\n",
       " array([1.        , 0.70710678]),\n",
       " array([0.70710678, 0.70710678]),\n",
       " array([1.22464680e-16, 7.07106781e-01]),\n",
       " array([-0.70710678,  0.70710678]),\n",
       " array([-1.        ,  0.70710678]),\n",
       " array([-0.70710678,  0.70710678]),\n",
       " array([-2.44929360e-16,  7.07106781e-01]),\n",
       " array([0.70710678, 0.70710678]),\n",
       " array([1.        , 0.70710678])]"
      ]
     },
     "execution_count": 33,
     "metadata": {},
     "output_type": "execute_result"
    }
   ],
   "source": [
    "I=[]\n",
    "for i in A:\n",
    "    I.append(u_I2d(i))\n",
    "I"
   ]
  },
  {
   "cell_type": "code",
   "execution_count": 44,
   "metadata": {},
   "outputs": [
    {
     "data": {
      "text/plain": [
       "array([0., 0.])"
      ]
     },
     "execution_count": 44,
     "metadata": {},
     "output_type": "execute_result"
    }
   ],
   "source": [
    "X=create2dgrid(0,1,5)\n",
    "boundary = lambda  t : (np.zeros(shape=np.shape(X[0])),np.zeros(shape=np.shape(X[0])))\n",
    "boundary(0)[0]"
   ]
  },
  {
   "cell_type": "code",
   "execution_count": 77,
   "metadata": {},
   "outputs": [
    {
     "data": {
      "text/plain": [
       "array([[ 3, -1,  0,  0,  0,  0,  0,  0,  0,  0],\n",
       "       [-1,  3, -1,  0,  0,  0,  0,  0,  0,  0],\n",
       "       [ 0, -1,  3, -1,  0,  0,  0,  0,  0,  0],\n",
       "       [ 0,  0, -1,  3, -1,  0,  0,  0,  0,  0],\n",
       "       [ 0,  0,  0, -1,  3, -1,  0,  0,  0,  0],\n",
       "       [ 0,  0,  0,  0, -1,  3, -1,  0,  0,  0],\n",
       "       [ 0,  0,  0,  0,  0, -1,  3, -1,  0,  0],\n",
       "       [ 0,  0,  0,  0,  0,  0, -1,  3, -1,  0],\n",
       "       [ 0,  0,  0,  0,  0,  0,  0, -1,  3, -1],\n",
       "       [ 0,  0,  0,  0,  0,  0,  0,  0, -1,  3]])"
      ]
     },
     "execution_count": 77,
     "metadata": {},
     "output_type": "execute_result"
    }
   ],
   "source": [
    "mx=10\n",
    "lmbda=1\n",
    "d = np.array([2*lmbda+1]*(mx))\n",
    "d1 = np.array([-lmbda]*(mx-1))\n",
    "d2 = np.array([-lmbda]*(mx-1))\n",
    "A=np.diag(d)+np.diag(d1,k=1)+np.diag(d2,k=-1)\n",
    "A.T"
   ]
  },
  {
   "cell_type": "code",
   "execution_count": 51,
   "metadata": {},
   "outputs": [
    {
     "data": {
      "text/plain": [
       "array([0., 1.])"
      ]
     },
     "execution_count": 51,
     "metadata": {},
     "output_type": "execute_result"
    }
   ],
   "source": [
    "np.linspace(0,1,2)"
   ]
  },
  {
   "cell_type": "code",
   "execution_count": 52,
   "metadata": {},
   "outputs": [],
   "source": [
    "for j in range(0):\n",
    "    print(j)"
   ]
  },
  {
   "cell_type": "code",
   "execution_count": 58,
   "metadata": {},
   "outputs": [
    {
     "data": {
      "text/plain": [
       "array([[ 3, -1,  0,  0],\n",
       "       [-1,  3, -1,  0],\n",
       "       [ 0, -1,  3, -1],\n",
       "       [ 0,  0, -1,  3]])"
      ]
     },
     "execution_count": 58,
     "metadata": {},
     "output_type": "execute_result"
    }
   ],
   "source": [
    "lmbda=1\n",
    "mx=4\n",
    "d = np.array([2*lmbda+1]*(mx))\n",
    "d1 = np.array([-lmbda]*(mx-1))\n",
    "d2 = np.array([-lmbda]*(mx-1))\n",
    "A=np.diag(d)+np.diag(d1,k=1)+np.diag(d2,k=-1)\n",
    "A"
   ]
  },
  {
   "cell_type": "code",
   "execution_count": 97,
   "metadata": {},
   "outputs": [
    {
     "name": "stdout",
     "output_type": "stream",
     "text": [
      "[[[0. 0. 5.]\n",
      "  [0. 0. 0.]\n",
      "  [0. 0. 0.]]\n",
      "\n",
      " [[0. 0. 0.]\n",
      "  [0. 5. 0.]\n",
      "  [0. 0. 0.]]\n",
      "\n",
      " [[0. 0. 0.]\n",
      "  [0. 0. 0.]\n",
      "  [5. 0. 0.]]]\n"
     ]
    },
    {
     "data": {
      "text/plain": [
       "array([[[5., 0., 0.],\n",
       "        [0., 0., 0.],\n",
       "        [0., 0., 0.]],\n",
       "\n",
       "       [[0., 0., 0.],\n",
       "        [0., 5., 0.],\n",
       "        [0., 0., 0.]],\n",
       "\n",
       "       [[0., 0., 0.],\n",
       "        [0., 0., 0.],\n",
       "        [0., 0., 5.]]])"
      ]
     },
     "execution_count": 97,
     "metadata": {},
     "output_type": "execute_result"
    }
   ],
   "source": [
    "A = np.zeros(shape=(3,3,3))\n",
    "np.fill_diagonal(A, 5)\n",
    "\n",
    "print(np.flip(A,axis=2))\n",
    "A"
   ]
  },
  {
   "cell_type": "code",
   "execution_count": 1,
   "metadata": {},
   "outputs": [
    {
     "name": "stdout",
     "output_type": "stream",
     "text": [
      "[[[1. 1. 1.]\n",
      "  [1. 1. 1.]\n",
      "  [1. 1. 1.]]\n",
      "\n",
      " [[1. 1. 1.]\n",
      "  [1. 1. 1.]\n",
      "  [1. 1. 1.]]\n",
      "\n",
      " [[1. 1. 1.]\n",
      "  [1. 1. 1.]\n",
      "  [1. 1. 1.]]]\n"
     ]
    },
    {
     "data": {
      "text/plain": [
       "array([[[1., 1., 1., 0., 0., 0., 1., 1., 1.],\n",
       "        [0., 0., 0., 2., 2., 2., 0., 0., 0.],\n",
       "        [1., 1., 1., 0., 0., 0., 1., 1., 1.]],\n",
       "\n",
       "       [[1., 1., 1., 0., 0., 0., 1., 1., 1.],\n",
       "        [0., 0., 0., 2., 2., 2., 0., 0., 0.],\n",
       "        [1., 1., 1., 0., 0., 0., 1., 1., 1.]],\n",
       "\n",
       "       [[1., 1., 1., 0., 0., 0., 1., 1., 1.],\n",
       "        [0., 0., 0., 2., 2., 2., 0., 0., 0.],\n",
       "        [1., 1., 1., 0., 0., 0., 1., 1., 1.]]])"
      ]
     },
     "execution_count": 1,
     "metadata": {},
     "output_type": "execute_result"
    }
   ],
   "source": [
    "import numpy as np\n",
    "from scipy.linalg import block_diag\n",
    "\n",
    "# Define input matrices\n",
    "\n",
    "a = np.ones((3, 3))\n",
    "b = np.ones((3, 3))\n",
    "c = np.ones((3, 3))\n",
    "\n",
    "# Generate block diagonal matrices\n",
    "\n",
    "mats = np.array([a, b, c]).reshape(3, 3,3)\n",
    "print(mats)\n",
    "result = [block_diag(*bmats) for bmats in mats]\n",
    "result=np.flip(np.array(result),axis=2)+result\n",
    "result"
   ]
  },
  {
   "cell_type": "code",
   "execution_count": 90,
   "metadata": {},
   "outputs": [
    {
     "data": {
      "text/plain": [
       "(3, 3, 9)"
      ]
     },
     "execution_count": 90,
     "metadata": {},
     "output_type": "execute_result"
    }
   ],
   "source": [
    "np.shape(result)"
   ]
  },
  {
   "cell_type": "code",
   "execution_count": 65,
   "metadata": {},
   "outputs": [
    {
     "name": "stdout",
     "output_type": "stream",
     "text": [
      "[[[3. 0. 0.]\n",
      "  [0. 0. 0.]\n",
      "  [0. 0. 0.]]\n",
      "\n",
      " [[0. 0. 0.]\n",
      "  [0. 3. 0.]\n",
      "  [0. 0. 0.]]\n",
      "\n",
      " [[0. 0. 0.]\n",
      "  [0. 0. 0.]\n",
      "  [0. 0. 3.]]]\n"
     ]
    },
    {
     "data": {
      "text/plain": [
       "array([[3., 0., 0.],\n",
       "       [0., 0., 0.],\n",
       "       [0., 0., 0.]])"
      ]
     },
     "execution_count": 65,
     "metadata": {},
     "output_type": "execute_result"
    }
   ],
   "source": [
    "mx=3\n",
    "lmbda=1\n",
    "d = np.array([2*lmbda+1]*(mx))\n",
    "d1 = np.array([-lmbda]*(mx-1))\n",
    "d2 = np.array([-lmbda]*(mx-1))\n",
    "A=np.zeros((3,3,3))\n",
    "np.fill_diagonal(A, d)\n",
    "\n",
    "\n",
    "print(A)\n",
    "A[0]"
   ]
  },
  {
   "cell_type": "code",
   "execution_count": 150,
   "metadata": {},
   "outputs": [
    {
     "data": {
      "text/plain": [
       "array([[A0, A1, A2],\n",
       "       [A3, A4, A5],\n",
       "       [A6, A7, A8]], dtype=object)"
      ]
     },
     "execution_count": 150,
     "metadata": {},
     "output_type": "execute_result"
    }
   ],
   "source": [
    "from sympy.abc import a,b,c,d,e,f,g,h,i,j,k,l,m,n,o,p,q,r,s,t,u,v\n",
    "mx=3\n",
    "vals = np.linspace(0,mx,mx)\n",
    "coords = []\n",
    "letters = [a,b,c,d,e,f,g,h,i,j,k,l,m,n,o,p,q,r,s,t,u,v]\n",
    "letters=[]\n",
    "for i in range(1000):\n",
    "    letters.append(sp.symbols(\"A\"+str(i)))\n",
    "count=0\n",
    "dic = dict()\n",
    "for i in vals:\n",
    "    row=[]\n",
    "    for j in vals:\n",
    "        row.append(letters[count])\n",
    "        dic[letters[count]]=(i,j)\n",
    "        count+=1\n",
    "\n",
    "    coords.append(row)\n",
    "\n",
    "#res=np.matmul(coords,A)\n",
    "#res\n",
    "\n",
    "coords=np.array(coords)\n",
    "#np.matmul(A,coords)\n",
    "#np.dot(A,coords)\n",
    "coords"
   ]
  },
  {
   "cell_type": "code",
   "execution_count": 151,
   "metadata": {},
   "outputs": [
    {
     "data": {
      "text/plain": [
       "array([[[B0, B1, B2],\n",
       "        [B3, B4, B5],\n",
       "        [B6, B7, B8]],\n",
       "\n",
       "       [[B9, B10, B11],\n",
       "        [B12, B13, B14],\n",
       "        [B15, B16, B17]],\n",
       "\n",
       "       [[B18, B19, B20],\n",
       "        [B21, B22, B23],\n",
       "        [B24, B25, B26]]], dtype=object)"
      ]
     },
     "execution_count": 151,
     "metadata": {},
     "output_type": "execute_result"
    }
   ],
   "source": [
    "letters=[]\n",
    "for i in range(1000):\n",
    "    letters.append(sp.symbols(\"B\"+str(i)))\n",
    "A=np.reshape(letters[:mx**3],(mx,mx,mx))\n",
    "A"
   ]
  },
  {
   "cell_type": "code",
   "execution_count": 162,
   "metadata": {},
   "outputs": [
    {
     "name": "stdout",
     "output_type": "stream",
     "text": [
      "(3, 3)\n"
     ]
    },
    {
     "data": {
      "text/plain": [
       "array([[2*A0*B0 + 2*A0*B18 + 2*A0*B9 + A1*B12 + A1*B21 + A1*B3 + A2*B15 + A2*B24 + A2*B6 + A3*B12 + A3*B21 + A3*B3 + A6*B15 + A6*B24 + A6*B6,\n",
       "        2*A0*B1 + 2*A0*B10 + 2*A0*B19 + A1*B13 + A1*B22 + A1*B4 + A2*B16 + A2*B25 + A2*B7 + A3*B13 + A3*B22 + A3*B4 + A6*B16 + A6*B25 + A6*B7,\n",
       "        2*A0*B11 + 2*A0*B2 + 2*A0*B20 + A1*B14 + A1*B23 + A1*B5 + A2*B17 + A2*B26 + A2*B8 + A3*B14 + A3*B23 + A3*B5 + A6*B17 + A6*B26 + A6*B8],\n",
       "       [A1*B0 + A1*B18 + A1*B9 + A3*B0 + A3*B18 + A3*B9 + 2*A4*B12 + 2*A4*B21 + 2*A4*B3 + A5*B15 + A5*B24 + A5*B6 + A7*B15 + A7*B24 + A7*B6,\n",
       "        A1*B1 + A1*B10 + A1*B19 + A3*B1 + A3*B10 + A3*B19 + 2*A4*B13 + 2*A4*B22 + 2*A4*B4 + A5*B16 + A5*B25 + A5*B7 + A7*B16 + A7*B25 + A7*B7,\n",
       "        A1*B11 + A1*B2 + A1*B20 + A3*B11 + A3*B2 + A3*B20 + 2*A4*B14 + 2*A4*B23 + 2*A4*B5 + A5*B17 + A5*B26 + A5*B8 + A7*B17 + A7*B26 + A7*B8],\n",
       "       [A2*B0 + A2*B18 + A2*B9 + A5*B12 + A5*B21 + A5*B3 + A6*B0 + A6*B18 + A6*B9 + A7*B12 + A7*B21 + A7*B3 + 2*A8*B15 + 2*A8*B24 + 2*A8*B6,\n",
       "        A2*B1 + A2*B10 + A2*B19 + A5*B13 + A5*B22 + A5*B4 + A6*B1 + A6*B10 + A6*B19 + A7*B13 + A7*B22 + A7*B4 + 2*A8*B16 + 2*A8*B25 + 2*A8*B7,\n",
       "        A2*B11 + A2*B2 + A2*B20 + A5*B14 + A5*B23 + A5*B5 + A6*B11 + A6*B2 + A6*B20 + A7*B14 + A7*B23 + A7*B5 + 2*A8*B17 + 2*A8*B26 + 2*A8*B8]],\n",
       "      dtype=object)"
      ]
     },
     "execution_count": 162,
     "metadata": {},
     "output_type": "execute_result"
    }
   ],
   "source": [
    "dot=np.matmul(coords,A)\n",
    "res=dot[0]\n",
    "for i in range(1,len(dot)):\n",
    "    res+=dot[i]\n",
    "coordsT=coords.T \n",
    "dotT=np.matmul(coordsT,A)\n",
    "for i in range(0,len(dotT)):\n",
    "    res+=dotT[i]\n",
    "print(np.shape(res))\n",
    "res\n"
   ]
  },
  {
   "cell_type": "code",
   "execution_count": 167,
   "metadata": {},
   "outputs": [
    {
     "data": {
      "text/latex": [
       "$\\displaystyle 2 A_{0} B_{0} + 2 A_{0} B_{18} + 2 A_{0} B_{9} + A_{1} B_{12} + A_{1} B_{21} + A_{1} B_{3} + A_{2} B_{15} + A_{2} B_{24} + A_{2} B_{6} + A_{3} B_{12} + A_{3} B_{21} + A_{3} B_{3} + A_{6} B_{15} + A_{6} B_{24} + A_{6} B_{6}$"
      ],
      "text/plain": [
       "2*A0*B0 + 2*A0*B18 + 2*A0*B9 + A1*B12 + A1*B21 + A1*B3 + A2*B15 + A2*B24 + A2*B6 + A3*B12 + A3*B21 + A3*B3 + A6*B15 + A6*B24 + A6*B6"
      ]
     },
     "execution_count": 167,
     "metadata": {},
     "output_type": "execute_result"
    }
   ],
   "source": [
    "res[0,0]"
   ]
  },
  {
   "cell_type": "code",
   "execution_count": null,
   "metadata": {},
   "outputs": [],
   "source": []
  },
  {
   "cell_type": "code",
   "execution_count": 166,
   "metadata": {},
   "outputs": [
    {
     "data": {
      "text/latex": [
       "$\\displaystyle A_{7}$"
      ],
      "text/plain": [
       "A7"
      ]
     },
     "execution_count": 166,
     "metadata": {},
     "output_type": "execute_result"
    }
   ],
   "source": [
    "coords[2,1]"
   ]
  },
  {
   "cell_type": "code",
   "execution_count": 164,
   "metadata": {},
   "outputs": [
    {
     "data": {
      "text/plain": [
       "array([[A0, A1, A2],\n",
       "       [A3, A4, A5],\n",
       "       [A6, A7, A8]], dtype=object)"
      ]
     },
     "execution_count": 164,
     "metadata": {},
     "output_type": "execute_result"
    }
   ],
   "source": [
    "coords"
   ]
  },
  {
   "cell_type": "code",
   "execution_count": 147,
   "metadata": {},
   "outputs": [
    {
     "data": {
      "text/plain": [
       "array([[a*e + b*g, a*f + b*h],\n",
       "       [c*e + d*g, c*f + d*h]], dtype=object)"
      ]
     },
     "execution_count": 147,
     "metadata": {},
     "output_type": "execute_result"
    }
   ],
   "source": [
    "np.matmul(coords,A[0])"
   ]
  },
  {
   "cell_type": "code",
   "execution_count": 136,
   "metadata": {},
   "outputs": [
    {
     "name": "stdout",
     "output_type": "stream",
     "text": [
      "[[[-1.  0.  0.  0.]\n",
      "  [-1. -1.  0.  0.]\n",
      "  [ 0.  0.  0.  0.]\n",
      "  [-1.  0.  0.  0.]]\n",
      "\n",
      " [[-1. -1.  0.  0.]\n",
      "  [ 0. -1.  0.  0.]\n",
      "  [ 0. -1. -1.  0.]\n",
      "  [ 0.  0.  0.  0.]]\n",
      "\n",
      " [[ 0.  0.  0.  0.]\n",
      "  [ 0. -1. -1.  0.]\n",
      "  [ 0.  0. -1.  0.]\n",
      "  [ 0.  0. -1.  0.]]\n",
      "\n",
      " [[-1.  0.  0.  0.]\n",
      "  [ 0.  0.  0.  0.]\n",
      "  [ 0.  0. -1.  0.]\n",
      "  [ 0.  0.  0. -1.]]]\n",
      "[[[-1.0*a -1.0*b -1.0*c -1.0*d]\n",
      "  [-1.0*a - 1.0*e -1.0*b - 1.0*f -1.0*c - 1.0*g -1.0*d - 1.0*h]\n",
      "  [0 0 0 0]\n",
      "  [-1.0*a -1.0*b -1.0*c -1.0*d]]\n",
      "\n",
      " [[-1.0*a - 1.0*e -1.0*b - 1.0*f -1.0*c - 1.0*g -1.0*d - 1.0*h]\n",
      "  [-1.0*e -1.0*f -1.0*g -1.0*h]\n",
      "  [-1.0*e - 1.0*i -1.0*f - 1.0*j -1.0*g - 1.0*k -1.0*h - 1.0*l]\n",
      "  [0 0 0 0]]\n",
      "\n",
      " [[0 0 0 0]\n",
      "  [-1.0*e - 1.0*i -1.0*f - 1.0*j -1.0*g - 1.0*k -1.0*h - 1.0*l]\n",
      "  [-1.0*i -1.0*j -1.0*k -1.0*l]\n",
      "  [-1.0*i -1.0*j -1.0*k -1.0*l]]\n",
      "\n",
      " [[-1.0*a -1.0*b -1.0*c -1.0*d]\n",
      "  [0 0 0 0]\n",
      "  [-1.0*i -1.0*j -1.0*k -1.0*l]\n",
      "  [-1.0*m -1.0*n -1.0*o -1.0*p]]]\n"
     ]
    },
    {
     "data": {
      "text/latex": [
       "$\\displaystyle - 1.0 c - 3.0 g - 1.0 i - 3.0 j - 2.0 k$"
      ],
      "text/plain": [
       "-1.0*c - 3.0*g - 1.0*i - 3.0*j - 2.0*k"
      ]
     },
     "execution_count": 136,
     "metadata": {},
     "output_type": "execute_result"
    }
   ],
   "source": [
    "import sympy as sp\n",
    "mx=4\n",
    "lmbda=1\n",
    "X= sp.symbols(\"x\")\n",
    "d = np.array([-2*lmbda+1]*(mx))\n",
    "d1 = np.array([lmbda]*(mx-1))\n",
    "d2 = np.array([lmbda]*(mx-1))\n",
    "A=np.zeros((mx,mx,mx))\n",
    "np.fill_diagonal(A, d)\n",
    "\n",
    "\n",
    "for a in range(mx-1):\n",
    "    A[a-1,a,a]+=-lmbda\n",
    "for a in range(mx-1):\n",
    "    A[a+1,a,a]+=-lmbda\n",
    "for a in range(mx-1):\n",
    "    A[a,a-1,a]+=-lmbda\n",
    "for a in range(mx-1):\n",
    "    A[a,a+1,a]+=-lmbda\n",
    "   \n",
    "\"\"\"for a in range(mx-1):\n",
    "    A[a,a,a-1]+=-lmbda\n",
    "for a in range(mx-1):\n",
    "    A[a,a,a+1]+=-lmbda\"\"\"\n",
    "print(A)\n",
    "dot=np.dot(A,coords)\n",
    "print(dot)\n",
    "res=dot[0]\n",
    "for i in range(1,len(dot)):\n",
    "    res+=dot[i] \n",
    "dot=np.dot(A,coords.T)\n",
    "res+=dot[0]\n",
    "for i in range(1,len(dot)):\n",
    "    res+=dot[i] \n",
    "res[1,2]"
   ]
  },
  {
   "cell_type": "code",
   "execution_count": 34,
   "metadata": {},
   "outputs": [
    {
     "data": {
      "text/plain": [
       "(3, 3, 3)"
      ]
     },
     "execution_count": 34,
     "metadata": {},
     "output_type": "execute_result"
    }
   ],
   "source": [
    "np.shape(A)"
   ]
  },
  {
   "cell_type": "code",
   "execution_count": 86,
   "metadata": {},
   "outputs": [
    {
     "data": {
      "text/plain": [
       "array([[a, b, c, d],\n",
       "       [e, f, g, h],\n",
       "       [i, j, k, l],\n",
       "       [m, n, o, p]], dtype=object)"
      ]
     },
     "execution_count": 86,
     "metadata": {},
     "output_type": "execute_result"
    }
   ],
   "source": [
    "coords"
   ]
  },
  {
   "cell_type": "code",
   "execution_count": 87,
   "metadata": {},
   "outputs": [
    {
     "data": {
      "text/plain": [
       "array([[[ 3., -1.,  0., -1.],\n",
       "        [-1., -1.,  0.,  0.],\n",
       "        [ 0.,  0.,  0.,  0.],\n",
       "        [-1.,  0.,  0.,  0.]],\n",
       "\n",
       "       [[-1., -1.,  0.,  0.],\n",
       "        [-1.,  3., -1.,  0.],\n",
       "        [ 0., -1., -1.,  0.],\n",
       "        [ 0.,  0.,  0.,  0.]],\n",
       "\n",
       "       [[ 0.,  0.,  0.,  0.],\n",
       "        [ 0., -1., -1.,  0.],\n",
       "        [ 0., -1.,  3., -1.],\n",
       "        [ 0.,  0., -1.,  0.]],\n",
       "\n",
       "       [[-1.,  0.,  0.,  0.],\n",
       "        [ 0.,  0.,  0.,  0.],\n",
       "        [ 0.,  0., -1.,  0.],\n",
       "        [ 0.,  0.,  0.,  3.]]])"
      ]
     },
     "execution_count": 87,
     "metadata": {},
     "output_type": "execute_result"
    }
   ],
   "source": [
    "A"
   ]
  },
  {
   "cell_type": "code",
   "execution_count": 56,
   "metadata": {},
   "outputs": [
    {
     "data": {
      "text/plain": [
       "array([3.0*a - 1.0*b - 1.0*c - 1.0*d - 1.0*g,\n",
       "       -1.0*b - 1.0*d + 3.0*e - 1.0*f - 1.0*h, 3.0*i], dtype=object)"
      ]
     },
     "execution_count": 56,
     "metadata": {},
     "output_type": "execute_result"
    }
   ],
   "source": [
    "np.tensordot(coords,A)"
   ]
  },
  {
   "cell_type": "code",
   "execution_count": 99,
   "metadata": {},
   "outputs": [
    {
     "data": {
      "text/plain": [
       "array([[-5.0*a - 1.0*e - 1.0*i, -5.0*b - 1.0*f - 1.0*j,\n",
       "        -5.0*c - 1.0*g - 1.0*k, -5.0*d - 1.0*h - 1.0*l],\n",
       "       [-1.0*a - 5.0*e - 1.0*i - 2.0*m, -1.0*b - 5.0*f - 1.0*j - 2.0*n,\n",
       "        -1.0*c - 5.0*g - 1.0*k - 2.0*o, -1.0*d - 5.0*h - 1.0*l - 2.0*p],\n",
       "       [-1.0*a - 1.0*e - 5.0*i, -1.0*b - 1.0*f - 5.0*j,\n",
       "        -1.0*c - 1.0*g - 5.0*k, -1.0*d - 1.0*h - 5.0*l],\n",
       "       [-1.0*a - 2.0*e - 1.0*i - 3.0*m, -1.0*b - 2.0*f - 1.0*j - 3.0*n,\n",
       "        -1.0*c - 2.0*g - 1.0*k - 3.0*o, -1.0*d - 2.0*h - 1.0*l - 3.0*p]],\n",
       "      dtype=object)"
      ]
     },
     "execution_count": 99,
     "metadata": {},
     "output_type": "execute_result"
    }
   ],
   "source": [
    "dot=np.dot(A,coords)\n",
    "\n",
    "res=dot[0]\n",
    "for i in range(1,len(dot)):\n",
    "    res+=dot[i] \n",
    "\n",
    "res[1,1]"
   ]
  },
  {
   "cell_type": "code",
   "execution_count": 89,
   "metadata": {},
   "outputs": [
    {
     "data": {
      "text/latex": [
       "$\\displaystyle f$"
      ],
      "text/plain": [
       "f"
      ]
     },
     "execution_count": 89,
     "metadata": {},
     "output_type": "execute_result"
    }
   ],
   "source": [
    "coords[1,1]"
   ]
  },
  {
   "cell_type": "code",
   "execution_count": 90,
   "metadata": {},
   "outputs": [
    {
     "data": {
      "text/plain": [
       "array([[a, b, c, d],\n",
       "       [e, f, g, h],\n",
       "       [i, j, k, l],\n",
       "       [m, n, o, p]], dtype=object)"
      ]
     },
     "execution_count": 90,
     "metadata": {},
     "output_type": "execute_result"
    }
   ],
   "source": [
    "coords"
   ]
  },
  {
   "cell_type": "code",
   "execution_count": 100,
   "metadata": {},
   "outputs": [
    {
     "data": {
      "text/latex": [
       "$\\displaystyle - 1.0 b - 5.0 f - 1.0 j - 2.0 n$"
      ],
      "text/plain": [
       "-1.0*b - 5.0*f - 1.0*j - 2.0*n"
      ]
     },
     "execution_count": 100,
     "metadata": {},
     "output_type": "execute_result"
    }
   ],
   "source": [
    "res[1,1]"
   ]
  },
  {
   "cell_type": "code",
   "execution_count": 61,
   "metadata": {},
   "outputs": [
    {
     "data": {
      "text/plain": [
       "array([[1.0*a - 1.0*d, 1.0*b - 1.0*e, 1.0*c - 1.0*f],\n",
       "       [-1.0*a + 1.0*d, -1.0*b + 1.0*e, -1.0*c + 1.0*f],\n",
       "       [-1.0*a - 1.0*d + 3.0*g, -1.0*b - 1.0*e + 3.0*h,\n",
       "        -1.0*c - 1.0*f + 3.0*i]], dtype=object)"
      ]
     },
     "execution_count": 61,
     "metadata": {},
     "output_type": "execute_result"
    }
   ],
   "source": [
    "dot=np.matmul(A,coords)\n",
    "res=dot[0]\n",
    "for i in range(1,len(dot)):\n",
    "    res+=dot[i] \n",
    "res"
   ]
  },
  {
   "cell_type": "code",
   "execution_count": 5,
   "metadata": {},
   "outputs": [],
   "source": [
    "import numpy as np\n",
    "def create2dgrid(min,max,steps):\n",
    "    if steps==0:\n",
    "        return np.array([(min,min),(max,max)])\n",
    "    A=[]\n",
    "    x=y=min\n",
    "    stepsize=(max-x)/(steps-1)\n",
    "    for j in range(steps):\n",
    "        row=[]\n",
    "        for i in range(steps):\n",
    "            row.append((x,y))\n",
    "            x+=stepsize\n",
    "        x=min\n",
    "        y+=stepsize\n",
    "        A.append(row)\n",
    "    return np.array(A)\n"
   ]
  },
  {
   "cell_type": "code",
   "execution_count": 7,
   "metadata": {},
   "outputs": [
    {
     "data": {
      "text/plain": [
       "array([[[0.        , 0.        ],\n",
       "        [0.33333333, 0.        ],\n",
       "        [0.66666667, 0.        ],\n",
       "        [1.        , 0.        ]],\n",
       "\n",
       "       [[0.        , 0.33333333],\n",
       "        [0.33333333, 0.33333333],\n",
       "        [0.66666667, 0.33333333],\n",
       "        [1.        , 0.33333333]],\n",
       "\n",
       "       [[0.        , 0.66666667],\n",
       "        [0.33333333, 0.66666667],\n",
       "        [0.66666667, 0.66666667],\n",
       "        [1.        , 0.66666667]],\n",
       "\n",
       "       [[0.        , 1.        ],\n",
       "        [0.33333333, 1.        ],\n",
       "        [0.66666667, 1.        ],\n",
       "        [1.        , 1.        ]]])"
      ]
     },
     "execution_count": 7,
     "metadata": {},
     "output_type": "execute_result"
    }
   ],
   "source": [
    "A=create2dgrid(0,1,4)\n",
    "A.shape\n",
    "A\n"
   ]
  },
  {
   "cell_type": "code",
   "execution_count": 34,
   "metadata": {},
   "outputs": [
    {
     "data": {
      "text/plain": [
       "array([[0.        , 0.        ],\n",
       "       [0.33333333, 0.        ],\n",
       "       [0.66666667, 0.        ],\n",
       "       [1.        , 0.        ],\n",
       "       [0.        , 0.33333333],\n",
       "       [0.33333333, 0.33333333],\n",
       "       [0.66666667, 0.33333333],\n",
       "       [1.        , 0.33333333],\n",
       "       [0.        , 0.66666667],\n",
       "       [0.33333333, 0.66666667],\n",
       "       [0.66666667, 0.66666667],\n",
       "       [1.        , 0.66666667],\n",
       "       [0.        , 1.        ],\n",
       "       [0.33333333, 1.        ],\n",
       "       [0.66666667, 1.        ],\n",
       "       [1.        , 1.        ]])"
      ]
     },
     "execution_count": 34,
     "metadata": {},
     "output_type": "execute_result"
    }
   ],
   "source": [
    "A.flatten().reshape(np.prod(A.shape[:-1]),A.shape[-1])"
   ]
  },
  {
   "cell_type": "code",
   "execution_count": 82,
   "metadata": {},
   "outputs": [
    {
     "data": {
      "text/plain": [
       "array([0., 0., 0., 0., 0., 0., 0., 0., 0., 0., 0., 0., 0., 0., 0., 0.])"
      ]
     },
     "execution_count": 82,
     "metadata": {},
     "output_type": "execute_result"
    }
   ],
   "source": [
    "sol = np.zeros(shape=((A.shape[:-1])))\n",
    "sol"
   ]
  },
  {
   "cell_type": "code",
   "execution_count": 194,
   "metadata": {},
   "outputs": [
    {
     "data": {
      "text/plain": [
       "24"
      ]
     },
     "execution_count": 194,
     "metadata": {},
     "output_type": "execute_result"
    }
   ],
   "source": [
    "np.prod([2,2,2,3])"
   ]
  },
  {
   "cell_type": "code",
   "execution_count": 198,
   "metadata": {},
   "outputs": [
    {
     "data": {
      "text/plain": [
       "array([ True,  True,  True,  True])"
      ]
     },
     "execution_count": 198,
     "metadata": {},
     "output_type": "execute_result"
    }
   ],
   "source": [
    "np.array([2,2,2,3]).flatten()==np.array([2,2,2,3])"
   ]
  },
  {
   "cell_type": "code",
   "execution_count": 212,
   "metadata": {},
   "outputs": [
    {
     "data": {
      "text/plain": [
       "array([3., 3., 3.])"
      ]
     },
     "execution_count": 212,
     "metadata": {},
     "output_type": "execute_result"
    }
   ],
   "source": [
    "M=np.ones((3,3))\n",
    "v=np.array([1,1,1])\n",
    "\n",
    "np.matmul(M,v)"
   ]
  },
  {
   "cell_type": "code",
   "execution_count": 213,
   "metadata": {},
   "outputs": [
    {
     "data": {
      "text/plain": [
       "(3,)"
      ]
     },
     "execution_count": 213,
     "metadata": {},
     "output_type": "execute_result"
    }
   ],
   "source": [
    "np.shape(v)"
   ]
  },
  {
   "cell_type": "code",
   "execution_count": 215,
   "metadata": {},
   "outputs": [
    {
     "data": {
      "text/plain": [
       "()"
      ]
     },
     "execution_count": 215,
     "metadata": {},
     "output_type": "execute_result"
    }
   ],
   "source": [
    "np.shape(1)"
   ]
  },
  {
   "cell_type": "code",
   "execution_count": 45,
   "metadata": {},
   "outputs": [],
   "source": [
    "def boundaryfunc(X,t):\n",
    "    n=X[0]+X[1]\n",
    "    return 1\n",
    "    "
   ]
  },
  {
   "cell_type": "code",
   "execution_count": 113,
   "metadata": {},
   "outputs": [],
   "source": [
    "def applycond (t,sol,boundary,X,boundaryonly):\n",
    "    #applies a function of x and t to either edges of sol, or entire\n",
    "    dims= np.shape(X)[-1]\n",
    "    sidelength = int(len(sol)**(1/dims))\n",
    "    sol=sol.flatten()\n",
    "    #2boundaries per dim\n",
    "    \"\"\"\n",
    "    X and sol should both be flat and have same num of elements, where each element of X is tuple\n",
    "    assuming square domain, n=sidelength= int(len(sol)**1/2), first and last n values boundary, \n",
    "    as well as every nth value, if cube domain every n*n value also edge\n",
    "    \"\"\"\n",
    "    if boundaryonly:\n",
    "        for d in range(dims):\n",
    "            for i in range(sidelength):\n",
    "                sol[i*(sidelength)**d]+=boundary(X[i*(sidelength)**d],t)\n",
    "                sol[(-i*(sidelength)**d)-1]+=boundary(X[(-i*(sidelength)**d)-1],t)\n",
    "    else:\n",
    "        for i in range(len(sol)):\n",
    "            sol[i]+=boundary(X[i],t)\n",
    "    return sol"
   ]
  },
  {
   "cell_type": "code",
   "execution_count": 38,
   "metadata": {},
   "outputs": [],
   "source": [
    "A=A.flatten().reshape(np.prod(A.shape[:-1]),A.shape[-1])"
   ]
  },
  {
   "cell_type": "code",
   "execution_count": 116,
   "metadata": {},
   "outputs": [],
   "source": [
    "sol = np.zeros(shape=((A.shape[:-1])))\n",
    "sol=sol.flatten()\n",
    "applied=applycond(1,sol,boundaryfunc,A,True)"
   ]
  },
  {
   "cell_type": "code",
   "execution_count": 117,
   "metadata": {},
   "outputs": [
    {
     "data": {
      "text/plain": [
       "array([[2., 1., 1., 2.],\n",
       "       [1., 0., 0., 1.],\n",
       "       [1., 0., 0., 1.],\n",
       "       [2., 1., 1., 2.]])"
      ]
     },
     "execution_count": 117,
     "metadata": {},
     "output_type": "execute_result"
    }
   ],
   "source": [
    "applied = applied.reshape((4,4))\n",
    "applied"
   ]
  },
  {
   "cell_type": "code",
   "execution_count": 96,
   "metadata": {},
   "outputs": [],
   "source": [
    "applied = sol\n",
    "for i in range(4):\n",
    "    applied[i]+=1\n",
    "    applied[-i-1]+=1\n"
   ]
  },
  {
   "cell_type": "code",
   "execution_count": 103,
   "metadata": {},
   "outputs": [
    {
     "name": "stdout",
     "output_type": "stream",
     "text": [
      "[0. 0. 0. 0. 0. 0. 0. 0. 0. 0. 0. 0. 0. 0. 0. 0.]\n"
     ]
    }
   ],
   "source": [
    "applied = sol = np.zeros(shape=((A.shape[:-1]))).flatten()\n",
    "print(applied)\n",
    "for d in range(2):\n",
    "    for i in range(4):\n",
    "        applied[i*(4)**d]+=1\n",
    "        applied[(-i*(4)**d)-1]+=1"
   ]
  }
 ],
 "metadata": {
  "interpreter": {
   "hash": "94f1bd6b8331ef2648928da6da4efbaa8f91d603ad4d080c1313f9abdf4e389f"
  },
  "kernelspec": {
   "display_name": "Python 3.8.12 ('base')",
   "language": "python",
   "name": "python3"
  },
  "language_info": {
   "codemirror_mode": {
    "name": "ipython",
    "version": 3
   },
   "file_extension": ".py",
   "mimetype": "text/x-python",
   "name": "python",
   "nbconvert_exporter": "python",
   "pygments_lexer": "ipython3",
   "version": "3.8.12"
  },
  "orig_nbformat": 4
 },
 "nbformat": 4,
 "nbformat_minor": 2
}
